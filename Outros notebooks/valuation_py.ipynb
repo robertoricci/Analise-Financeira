{
  "nbformat": 4,
  "nbformat_minor": 0,
  "metadata": {
    "colab": {
      "provenance": [],
      "include_colab_link": true
    },
    "kernelspec": {
      "name": "python3",
      "display_name": "Python 3"
    },
    "language_info": {
      "name": "python"
    }
  },
  "cells": [
    {
      "cell_type": "markdown",
      "metadata": {
        "id": "view-in-github",
        "colab_type": "text"
      },
      "source": [
        "<a href=\"https://colab.research.google.com/github/robertoricci/Analise-Financeira/blob/main/valuation_py.ipynb\" target=\"_parent\"><img src=\"https://colab.research.google.com/assets/colab-badge.svg\" alt=\"Open In Colab\"/></a>"
      ]
    },
    {
      "cell_type": "markdown",
      "source": [
        "# Valuation no Python\n",
        "\n",
        "Um modelo de avaliação de ações, comumento chamado de Valuation, é um mecanismo que converte um conjunto de previsões (ou observações) de uma série de variáveis da empresa e variáveis econômicas em uma previsão do valor de mercado da ação da companhia.\n",
        "\n",
        "Os insumos de um modelo de avaliação têm o caráter de variáveis econômicas, por exemplo, lucros futuros, dividendos, variação dos lucros, e dentre outras variáveis.\n",
        "\n",
        "O resultado encontrado é o valor de mercado esperado ou retorno esperado de manter uma ação ou, no mínimo, uma recomendação de comprar, vender ou manter.\n",
        "\n",
        "Existem diferente métodos para a avaliação, com organizações utilizando-as de diferentes maneiras para provar determinadas teses. Aqui, usaremos um modelo básica de determinação do preço téorico de uma ação, que considera poucos insumos de dados. Obviamente, tal estimativa pode ser considerada demasiadamente básica, entretanto, é um ponto de partida para o entedimento do processo.\n",
        "\n",
        "\n",
        "# Modelo de fluxo de caixa descontado\n",
        "\n",
        "Modelos de fluxo de caixa descontado baseiam-se na ideia de que o valor de uma participação acionária é igual ao valor presente do fluxo de caixa que o acionista espera receber por manter tais ações.\n",
        "\n",
        "Isso é equivalente a mostra que isso é o valor presente de todos os dividendos futuros.\n",
        "\n",
        "$$ P_t = \\frac{D_{t+1}}{(1+k)} + \\frac{P_{t+1}}{(1+k)} $$\n",
        "\n",
        "- $P_t$ é o preço da ação no momento $t$.\n",
        "- $D_{t+1}$ é o dividendo esperado para o período $t+1$.\n",
        "- $P_{t+1}$ é o preço da ação no período $t+1$.\n",
        "- $k$ é a taxa de desconto, que representa a taxa de retorno exigida pelos investidores.\n",
        "\n",
        "A fórmula indica que o preço da ação no momento $t$ é igual à soma do valor presente do dividendo esperado para o próximo período ($D_{t+1}/(1+k)$) e do valor presente do preço da ação no próximo período ($P_{t+1}/(1+k)$). Isso reflete a ideia de que os investidores estão dispostos a pagar o preço da ação com base nos dividendos futuros e no preço esperado da ação, descontados a uma taxa apropriada ($k$).\n",
        "\n",
        "Substituindo $P_{t+1}$ por $D_{t+2}$ na equação e, em seguida, fazer o somatório, temos:\n",
        "\n",
        "\n",
        "$$\n",
        "P_t = \\frac{D_{t+1}}{(1+k)} + \\frac{P_{t+1}}{(1+k)} \\\\\n",
        "P_t = \\frac{D_{t+1}}{(1+k)} + \\frac{D_{t+2}}{(1+k)}\n",
        "$$\n",
        "\n",
        "Podemos escrever a fórmula da seguinte maneira:\n",
        "\n",
        "$$\n",
        "P_t = \\frac{D_{t+1}}{(1+k)} + \\frac{D_{t+2}}{(1+k)} + \\frac{D_{t+3}}{(1+k)} + \\ldots\n",
        "$$\n",
        "\n",
        "Isso representa o valor presente de uma série infinita de dividendos futuros, descontados a uma taxa de desconto $k$. Note que essa é uma simplificação, pois assume que os dividendos continuarão indefinidamente no futuro.\n",
        "\n",
        "Para calcular o valor presente de todos esses dividendos futuros, você pode usar a fórmula para o valor presente de uma série infinita de pagamentos iguais:\n",
        "\n",
        "$$\n",
        "P_t = \\sum_{n=1}^{\\infty} \\frac{D_{t+n}}{(1+k)^n}\n",
        "$$\n",
        "\n",
        "Nesta fórmula, o somatório vai de $n = 1$ até $\\infty$, representando todos os períodos futuros. Isso captura a ideia de que o valor presente da ação no momento $t$ é igual ao valor presente de todos os dividendos futuros esperados, descontados a uma taxa de desconto $k$.\n",
        "\n",
        "\n",
        "# Modelo de crescimento constante\n",
        "\n",
        "Um dos modelos de fluxo de caixa mais conhecidos é o que pressupõe que os dividendos crescerão à mesma taxa (g) no futuro infinito. Se definimos como $P_0$ o preço de hoje e $D_1$ como o dividendo no período seguinte, o valor de uma ação é\n",
        "\n",
        "$$ P_0 = \\frac{D_{1}}{(1+k)} + \\frac{D_{1}(1 + g)}{(1+k)^2} + \\frac{D_{1}(1 + g)^2}{(1+k)^3} + \\dotsc + \\frac{D_{1}(1 + g)^{N-1}}{(1+k)^N} + \\dotsc $$\n",
        "\n",
        "Usando a fórmula da soma de uma progressão geométrica obtemos\n",
        "\n",
        "$$ P_0 = \\frac{D_1}{k - g} $$\n",
        "\n",
        "Esse modelo afirma que o preço de uma ação deveria ser igual aos dividendos esperados no ano seguinte divididos pela diferença entre a taxa de desconto apropriada para ação e sua taxa de crescimento esperada de longo prazo.\n",
        "\n",
        "Os pressuposto são que a empresa manterá uma política de dividendos estável (manterá sua taxa de retenção de rendimentos constante) e obterá um retorno estável sobre investimentos em novas participações acionárias ao longo do tempo.\n",
        "\n",
        "## Exemplo de uso do Modelo de crescimento constante\n",
        "\n",
        "Para aplicar o modelo, vamos construir no Python as variáveis usadas como insumo para o modelo.\n",
        "\n",
        "### Taxa de Crescimento (g)\n",
        "\n",
        "A taxa de crescimento definimos com o indicador Sustainable Growth Rate (Taxa de Crescimento Sustentável) é uma medida financeira que indica a taxa máxima de crescimento que uma empresa pode alcançar sem recorrer a financiamento externo adicional (como emissão de ações ou dívida) e sem sobrecarregar sua estrutura de capital atual.\n",
        "\n",
        "A fórmula da Sustainable Growth Rate geralmente é expressa da seguinte maneira:\n",
        "\n",
        "$$ SG = ROE \\times (1 - \\text{Taxa de Retenção}) $$\n",
        "\n",
        "Onde:\n",
        "- $ SG $ é a Taxa de Crescimento Sustentável.\n",
        "- $ ROE $ é a Taxa de Retorno sobre o Patrimônio Líquido.\n",
        "- $ \\text{Taxa de Retenção} $ é a proporção dos lucros retidos em relação ao lucro líquido.\n",
        "\n",
        "A Taxa de Crescimento Sustentável indica o quanto a empresa pode crescer seus lucros e patrimônio líquido sem recorrer a financiamento externo. É importante notar que esse é um cálculo simplificado e que a taxa real de crescimento da empresa pode ser influenciada por uma variedade de fatores, como mudanças nas condições de mercado, estratégias de gestão e investimentos em ativos fixos. No entanto, a Sustainable Growth Rate fornece uma diretriz útil para avaliar a sustentabilidade do crescimento de uma empresa com base em sua rentabilidade e política de dividendos.\n",
        "\n",
        "### Taxa exigida pelos investidores (k)\n",
        "\n",
        "A taxa de retorno exigida pelos investidores, muitas vezes referida como taxa de desconto ou taxa de capitalização, pode ser calculada usando o Modelo de Precificação de Ativos Financeiros (CAPM - Capital Asset Pricing Model). O CAPM é uma teoria financeira que relaciona o retorno esperado de um ativo ou investimento ao risco sistemático, representado pelo beta do ativo. Aqui está a fórmula básica do CAPM para calcular a taxa de retorno exigida ($r_i$) de um ativo específico:\n",
        "\n",
        "$$ r_i = R_f + \\beta_i \\times (R_m - R_f) $$\n",
        "\n",
        "Onde:\n",
        "- $ r_i $ é a taxa de retorno exigida para o ativo específico.\n",
        "- $ R_f $ é a taxa de retorno livre de risco, geralmente representada pela taxa de juros de títulos do governo de curto prazo, como os títulos do Tesouro dos Estados Unidos.\n",
        "- $ \\beta_i $ é o beta do ativo, que mede sua sensibilidade aos movimentos do mercado em geral. É uma medida de risco sistemático.\n",
        "- $ R_m $ é o retorno esperado do mercado, geralmente representado pelo retorno médio de um índice de mercado, como o S&P 500.\n",
        "- $ R_f $ (novamente) é a taxa de retorno livre de risco.\n",
        "\n",
        "A interpretação dessa fórmula é que a taxa de retorno exigida para um ativo é igual à taxa de retorno livre de risco ($ R_f $) mais um prêmio de risco ($ \\beta_i \\times (R_m - R_f) $) que está relacionado à sensibilidade desse ativo aos movimentos do mercado.\n",
        "\n",
        "Em resumo, para calcular a taxa de retorno exigida usando o CAPM, você precisará das seguintes informações:\n",
        "\n",
        "1. A taxa de retorno livre de risco ($ R_f $).\n",
        "2. O beta do ativo específico ($ \\beta_i $).\n",
        "3. O retorno esperado do mercado ($ R_m $).\n",
        "\n",
        "O CAPM é uma ferramenta amplamente utilizada para determinar a taxa de desconto apropriada em avaliações financeiras e análises de investimento, pois leva em consideração o risco sistemático de um ativo em relação ao mercado.\n",
        "\n",
        "### Dividendo esperado (D1)\n",
        "\n",
        "E por fim, o dividendo esperado, será determinado com uma média amostral dos valores históricos dos dividendos anuais da empresa.\n",
        "\n",
        "Como exemplo, usamos dados da ação ITSA4, uma empresa bastante consolidade no mercado brasileiro e que possui uma política de distribuição de dividendos bem definida e relativamente estável.\n",
        "\n",
        "Usando como insumos as seguintes variáveis:\n",
        "\n",
        "\n",
        "- SG a partir do ROE e Payout calculado pela Yahoo Finance.\n",
        "- CAPM a partir do Taxa referencial - swaps - DI pré-360 dias - média do período como Taxa livre de risco, um retorno de mercado de 15% ao ano, e o Beta obtido pela Yahoo Finance.\n",
        "- Dividendo esperado Média amostral dos valores históricos dos dividendos anuais da empresa."
      ],
      "metadata": {
        "id": "sKRSWlTrW6ch"
      }
    },
    {
      "cell_type": "markdown",
      "source": [
        "### Calculando a taxa de crescimento dos dividendos (g)"
      ],
      "metadata": {
        "id": "UvkveGuVcvoL"
      }
    },
    {
      "cell_type": "code",
      "source": [
        "import yfinance as yf\n",
        "\n",
        "# Coletando os dados de preços e dividendos da ITSA4\n",
        "ticker = \"ITSA4.SA\"\n",
        "precos = yf.download(ticker, period = '1d')['Adj Close']\n",
        "dados = yf.Ticker(ticker)\n",
        "dividendos = dados.dividends"
      ],
      "metadata": {
        "id": "OXQaUAFlvWBQ",
        "colab": {
          "base_uri": "https://localhost:8080/"
        },
        "outputId": "1c32d6af-4cc9-40a1-a317-cf923968c9de"
      },
      "execution_count": null,
      "outputs": [
        {
          "output_type": "stream",
          "name": "stdout",
          "text": [
            "\r[*********************100%%**********************]  1 of 1 completed\n"
          ]
        }
      ]
    },
    {
      "cell_type": "code",
      "source": [
        "# calcula o Sustainable Growth Rate\n",
        "g_sustainable = dados.info['returnOnEquity'] * (1 - dados.get_info()['payoutRatio'])\n",
        "\n",
        "g_sustainable"
      ],
      "metadata": {
        "colab": {
          "base_uri": "https://localhost:8080/"
        },
        "id": "tv7PC2WpcHvJ",
        "outputId": "27d6e97e-f53b-456e-d1c7-78ed591faea1"
      },
      "execution_count": null,
      "outputs": [
        {
          "output_type": "execute_result",
          "data": {
            "text/plain": [
              "0.117567654512"
            ]
          },
          "metadata": {},
          "execution_count": 3
        }
      ]
    },
    {
      "cell_type": "markdown",
      "source": [
        "### Calculando a taxa de retorno exigida pelos investidores (r)"
      ],
      "metadata": {
        "id": "06g9JYTEa41u"
      }
    },
    {
      "cell_type": "code",
      "source": [
        "# Beta da ação - Yahoo Finance\n",
        "beta = dados.info['beta']"
      ],
      "metadata": {
        "id": "vxHGiCjGa9qX"
      },
      "execution_count": null,
      "outputs": []
    },
    {
      "cell_type": "code",
      "source": [
        "!pip install ipeadatapy\n",
        "import ipeadatapy as ip # importa dados do IPEADATA"
      ],
      "metadata": {
        "id": "G_-Uni47cok3"
      },
      "execution_count": null,
      "outputs": []
    },
    {
      "cell_type": "code",
      "source": [
        "# Taxa referencial - swaps - DI pré-360 dias - média do período (IPEADATA/B3)\n",
        "## Taxa livre de risco nominal negociadaA\n",
        "juros_livre = (\n",
        "    ip.timeseries('BMF12_SWAPDI36012') # Captura a série usando o código\n",
        "    .rename(columns = {'VALUE ((% a.a.))' : 'swaps'})[['swaps']] # renomeia as colunas\n",
        "    .div(100) # divide o valor por 100\n",
        "    .iloc[-1] # seleciona o último valor\n",
        "    .swaps\n",
        "  )\n",
        "\n",
        "juros_livre"
      ],
      "metadata": {
        "colab": {
          "base_uri": "https://localhost:8080/"
        },
        "id": "uCtm7HtxbI8E",
        "outputId": "3d94ca8c-ee1b-4a09-af5c-661c9ba00c7b"
      },
      "execution_count": null,
      "outputs": [
        {
          "output_type": "execute_result",
          "data": {
            "text/plain": [
              "0.109285"
            ]
          },
          "metadata": {},
          "execution_count": 19
        }
      ]
    },
    {
      "cell_type": "code",
      "source": [
        "# Retorno de mercado\n",
        "retorno_mercado = .15\n",
        "retorno_mercado"
      ],
      "metadata": {
        "colab": {
          "base_uri": "https://localhost:8080/"
        },
        "id": "gTV6FtVdbLJV",
        "outputId": "7a4f41ab-ab30-4b31-c777-b3eed049836a"
      },
      "execution_count": null,
      "outputs": [
        {
          "output_type": "execute_result",
          "data": {
            "text/plain": [
              "0.15"
            ]
          },
          "metadata": {},
          "execution_count": 7
        }
      ]
    },
    {
      "cell_type": "code",
      "source": [
        "# calcula o custo do capital\n",
        "r = juros_livre + beta * (retorno_mercado - juros_livre)\n",
        "r"
      ],
      "metadata": {
        "colab": {
          "base_uri": "https://localhost:8080/"
        },
        "id": "qhFdPcmLbOG3",
        "outputId": "8f01e7f4-acbd-470b-e2ab-5c205b4bd80d"
      },
      "execution_count": null,
      "outputs": [
        {
          "output_type": "execute_result",
          "data": {
            "text/plain": [
              "0.13562019487"
            ]
          },
          "metadata": {},
          "execution_count": 8
        }
      ]
    },
    {
      "cell_type": "markdown",
      "source": [
        "### Dividendo esperado (D)\n",
        "\n",
        "Para o dividendo esperado, podemos utilizar como estimativa o montante do último dividendo por ação distribuido no ano, ou mesmo computar uma média histórica dos dividendos por ação distribuídos pela empresa."
      ],
      "metadata": {
        "id": "wdVYge3nbSkh"
      }
    },
    {
      "cell_type": "code",
      "source": [
        "# Calculando a taxa de crescimento dos dividendos (g)\n",
        "import pandas as pd\n",
        "\n",
        "anual_dividendos = (\n",
        "    pd.DataFrame(dividendos) # transforma em df\n",
        "    .tz_localize(None) # retira o timezone da data\n",
        "    .assign(Year = lambda x: x.index.year) # cria uma coluna do ano inteiro\n",
        "    .groupby(['Year']) # agrupa por ano\n",
        "    .agg({'Dividends' : 'sum'}) # soma os dividendos do ano\n",
        "    .iloc[:-1] # em um ano vigente, é importante reconhecer que a sua soma não está completa, portanto, o retiramos para evitar problemas\n",
        ")\n",
        "\n",
        "anual_dividendos"
      ],
      "metadata": {
        "id": "5dAzz-qfcPfr",
        "colab": {
          "base_uri": "https://localhost:8080/",
          "height": 582
        },
        "outputId": "21bab296-8fd6-49cf-88ea-d4e8b202fe37"
      },
      "execution_count": null,
      "outputs": [
        {
          "output_type": "execute_result",
          "data": {
            "text/plain": [
              "      Dividends\n",
              "Year           \n",
              "2007   0.004488\n",
              "2008   0.030323\n",
              "2009   0.106354\n",
              "2010   0.156464\n",
              "2011   0.285319\n",
              "2012   0.203364\n",
              "2013   0.192093\n",
              "2014   0.113624\n",
              "2015   0.315937\n",
              "2016   0.452661\n",
              "2017   0.372889\n",
              "2018   0.768468\n",
              "2019   0.761602\n",
              "2020   0.390260\n",
              "2021   0.380977\n",
              "2022   0.625434"
            ],
            "text/html": [
              "\n",
              "  <div id=\"df-c2f4a026-53c4-4e56-9702-408589d7fabd\" class=\"colab-df-container\">\n",
              "    <div>\n",
              "<style scoped>\n",
              "    .dataframe tbody tr th:only-of-type {\n",
              "        vertical-align: middle;\n",
              "    }\n",
              "\n",
              "    .dataframe tbody tr th {\n",
              "        vertical-align: top;\n",
              "    }\n",
              "\n",
              "    .dataframe thead th {\n",
              "        text-align: right;\n",
              "    }\n",
              "</style>\n",
              "<table border=\"1\" class=\"dataframe\">\n",
              "  <thead>\n",
              "    <tr style=\"text-align: right;\">\n",
              "      <th></th>\n",
              "      <th>Dividends</th>\n",
              "    </tr>\n",
              "    <tr>\n",
              "      <th>Year</th>\n",
              "      <th></th>\n",
              "    </tr>\n",
              "  </thead>\n",
              "  <tbody>\n",
              "    <tr>\n",
              "      <th>2007</th>\n",
              "      <td>0.004488</td>\n",
              "    </tr>\n",
              "    <tr>\n",
              "      <th>2008</th>\n",
              "      <td>0.030323</td>\n",
              "    </tr>\n",
              "    <tr>\n",
              "      <th>2009</th>\n",
              "      <td>0.106354</td>\n",
              "    </tr>\n",
              "    <tr>\n",
              "      <th>2010</th>\n",
              "      <td>0.156464</td>\n",
              "    </tr>\n",
              "    <tr>\n",
              "      <th>2011</th>\n",
              "      <td>0.285319</td>\n",
              "    </tr>\n",
              "    <tr>\n",
              "      <th>2012</th>\n",
              "      <td>0.203364</td>\n",
              "    </tr>\n",
              "    <tr>\n",
              "      <th>2013</th>\n",
              "      <td>0.192093</td>\n",
              "    </tr>\n",
              "    <tr>\n",
              "      <th>2014</th>\n",
              "      <td>0.113624</td>\n",
              "    </tr>\n",
              "    <tr>\n",
              "      <th>2015</th>\n",
              "      <td>0.315937</td>\n",
              "    </tr>\n",
              "    <tr>\n",
              "      <th>2016</th>\n",
              "      <td>0.452661</td>\n",
              "    </tr>\n",
              "    <tr>\n",
              "      <th>2017</th>\n",
              "      <td>0.372889</td>\n",
              "    </tr>\n",
              "    <tr>\n",
              "      <th>2018</th>\n",
              "      <td>0.768468</td>\n",
              "    </tr>\n",
              "    <tr>\n",
              "      <th>2019</th>\n",
              "      <td>0.761602</td>\n",
              "    </tr>\n",
              "    <tr>\n",
              "      <th>2020</th>\n",
              "      <td>0.390260</td>\n",
              "    </tr>\n",
              "    <tr>\n",
              "      <th>2021</th>\n",
              "      <td>0.380977</td>\n",
              "    </tr>\n",
              "    <tr>\n",
              "      <th>2022</th>\n",
              "      <td>0.625434</td>\n",
              "    </tr>\n",
              "  </tbody>\n",
              "</table>\n",
              "</div>\n",
              "    <div class=\"colab-df-buttons\">\n",
              "\n",
              "  <div class=\"colab-df-container\">\n",
              "    <button class=\"colab-df-convert\" onclick=\"convertToInteractive('df-c2f4a026-53c4-4e56-9702-408589d7fabd')\"\n",
              "            title=\"Convert this dataframe to an interactive table.\"\n",
              "            style=\"display:none;\">\n",
              "\n",
              "  <svg xmlns=\"http://www.w3.org/2000/svg\" height=\"24px\" viewBox=\"0 -960 960 960\">\n",
              "    <path d=\"M120-120v-720h720v720H120Zm60-500h600v-160H180v160Zm220 220h160v-160H400v160Zm0 220h160v-160H400v160ZM180-400h160v-160H180v160Zm440 0h160v-160H620v160ZM180-180h160v-160H180v160Zm440 0h160v-160H620v160Z\"/>\n",
              "  </svg>\n",
              "    </button>\n",
              "\n",
              "  <style>\n",
              "    .colab-df-container {\n",
              "      display:flex;\n",
              "      gap: 12px;\n",
              "    }\n",
              "\n",
              "    .colab-df-convert {\n",
              "      background-color: #E8F0FE;\n",
              "      border: none;\n",
              "      border-radius: 50%;\n",
              "      cursor: pointer;\n",
              "      display: none;\n",
              "      fill: #1967D2;\n",
              "      height: 32px;\n",
              "      padding: 0 0 0 0;\n",
              "      width: 32px;\n",
              "    }\n",
              "\n",
              "    .colab-df-convert:hover {\n",
              "      background-color: #E2EBFA;\n",
              "      box-shadow: 0px 1px 2px rgba(60, 64, 67, 0.3), 0px 1px 3px 1px rgba(60, 64, 67, 0.15);\n",
              "      fill: #174EA6;\n",
              "    }\n",
              "\n",
              "    .colab-df-buttons div {\n",
              "      margin-bottom: 4px;\n",
              "    }\n",
              "\n",
              "    [theme=dark] .colab-df-convert {\n",
              "      background-color: #3B4455;\n",
              "      fill: #D2E3FC;\n",
              "    }\n",
              "\n",
              "    [theme=dark] .colab-df-convert:hover {\n",
              "      background-color: #434B5C;\n",
              "      box-shadow: 0px 1px 3px 1px rgba(0, 0, 0, 0.15);\n",
              "      filter: drop-shadow(0px 1px 2px rgba(0, 0, 0, 0.3));\n",
              "      fill: #FFFFFF;\n",
              "    }\n",
              "  </style>\n",
              "\n",
              "    <script>\n",
              "      const buttonEl =\n",
              "        document.querySelector('#df-c2f4a026-53c4-4e56-9702-408589d7fabd button.colab-df-convert');\n",
              "      buttonEl.style.display =\n",
              "        google.colab.kernel.accessAllowed ? 'block' : 'none';\n",
              "\n",
              "      async function convertToInteractive(key) {\n",
              "        const element = document.querySelector('#df-c2f4a026-53c4-4e56-9702-408589d7fabd');\n",
              "        const dataTable =\n",
              "          await google.colab.kernel.invokeFunction('convertToInteractive',\n",
              "                                                    [key], {});\n",
              "        if (!dataTable) return;\n",
              "\n",
              "        const docLinkHtml = 'Like what you see? Visit the ' +\n",
              "          '<a target=\"_blank\" href=https://colab.research.google.com/notebooks/data_table.ipynb>data table notebook</a>'\n",
              "          + ' to learn more about interactive tables.';\n",
              "        element.innerHTML = '';\n",
              "        dataTable['output_type'] = 'display_data';\n",
              "        await google.colab.output.renderOutput(dataTable, element);\n",
              "        const docLink = document.createElement('div');\n",
              "        docLink.innerHTML = docLinkHtml;\n",
              "        element.appendChild(docLink);\n",
              "      }\n",
              "    </script>\n",
              "  </div>\n",
              "\n",
              "\n",
              "<div id=\"df-c85c8e0e-36a8-41be-9fe3-06d7bd077bdb\">\n",
              "  <button class=\"colab-df-quickchart\" onclick=\"quickchart('df-c85c8e0e-36a8-41be-9fe3-06d7bd077bdb')\"\n",
              "            title=\"Suggest charts.\"\n",
              "            style=\"display:none;\">\n",
              "\n",
              "<svg xmlns=\"http://www.w3.org/2000/svg\" height=\"24px\"viewBox=\"0 0 24 24\"\n",
              "     width=\"24px\">\n",
              "    <g>\n",
              "        <path d=\"M19 3H5c-1.1 0-2 .9-2 2v14c0 1.1.9 2 2 2h14c1.1 0 2-.9 2-2V5c0-1.1-.9-2-2-2zM9 17H7v-7h2v7zm4 0h-2V7h2v10zm4 0h-2v-4h2v4z\"/>\n",
              "    </g>\n",
              "</svg>\n",
              "  </button>\n",
              "\n",
              "<style>\n",
              "  .colab-df-quickchart {\n",
              "      --bg-color: #E8F0FE;\n",
              "      --fill-color: #1967D2;\n",
              "      --hover-bg-color: #E2EBFA;\n",
              "      --hover-fill-color: #174EA6;\n",
              "      --disabled-fill-color: #AAA;\n",
              "      --disabled-bg-color: #DDD;\n",
              "  }\n",
              "\n",
              "  [theme=dark] .colab-df-quickchart {\n",
              "      --bg-color: #3B4455;\n",
              "      --fill-color: #D2E3FC;\n",
              "      --hover-bg-color: #434B5C;\n",
              "      --hover-fill-color: #FFFFFF;\n",
              "      --disabled-bg-color: #3B4455;\n",
              "      --disabled-fill-color: #666;\n",
              "  }\n",
              "\n",
              "  .colab-df-quickchart {\n",
              "    background-color: var(--bg-color);\n",
              "    border: none;\n",
              "    border-radius: 50%;\n",
              "    cursor: pointer;\n",
              "    display: none;\n",
              "    fill: var(--fill-color);\n",
              "    height: 32px;\n",
              "    padding: 0;\n",
              "    width: 32px;\n",
              "  }\n",
              "\n",
              "  .colab-df-quickchart:hover {\n",
              "    background-color: var(--hover-bg-color);\n",
              "    box-shadow: 0 1px 2px rgba(60, 64, 67, 0.3), 0 1px 3px 1px rgba(60, 64, 67, 0.15);\n",
              "    fill: var(--button-hover-fill-color);\n",
              "  }\n",
              "\n",
              "  .colab-df-quickchart-complete:disabled,\n",
              "  .colab-df-quickchart-complete:disabled:hover {\n",
              "    background-color: var(--disabled-bg-color);\n",
              "    fill: var(--disabled-fill-color);\n",
              "    box-shadow: none;\n",
              "  }\n",
              "\n",
              "  .colab-df-spinner {\n",
              "    border: 2px solid var(--fill-color);\n",
              "    border-color: transparent;\n",
              "    border-bottom-color: var(--fill-color);\n",
              "    animation:\n",
              "      spin 1s steps(1) infinite;\n",
              "  }\n",
              "\n",
              "  @keyframes spin {\n",
              "    0% {\n",
              "      border-color: transparent;\n",
              "      border-bottom-color: var(--fill-color);\n",
              "      border-left-color: var(--fill-color);\n",
              "    }\n",
              "    20% {\n",
              "      border-color: transparent;\n",
              "      border-left-color: var(--fill-color);\n",
              "      border-top-color: var(--fill-color);\n",
              "    }\n",
              "    30% {\n",
              "      border-color: transparent;\n",
              "      border-left-color: var(--fill-color);\n",
              "      border-top-color: var(--fill-color);\n",
              "      border-right-color: var(--fill-color);\n",
              "    }\n",
              "    40% {\n",
              "      border-color: transparent;\n",
              "      border-right-color: var(--fill-color);\n",
              "      border-top-color: var(--fill-color);\n",
              "    }\n",
              "    60% {\n",
              "      border-color: transparent;\n",
              "      border-right-color: var(--fill-color);\n",
              "    }\n",
              "    80% {\n",
              "      border-color: transparent;\n",
              "      border-right-color: var(--fill-color);\n",
              "      border-bottom-color: var(--fill-color);\n",
              "    }\n",
              "    90% {\n",
              "      border-color: transparent;\n",
              "      border-bottom-color: var(--fill-color);\n",
              "    }\n",
              "  }\n",
              "</style>\n",
              "\n",
              "  <script>\n",
              "    async function quickchart(key) {\n",
              "      const quickchartButtonEl =\n",
              "        document.querySelector('#' + key + ' button');\n",
              "      quickchartButtonEl.disabled = true;  // To prevent multiple clicks.\n",
              "      quickchartButtonEl.classList.add('colab-df-spinner');\n",
              "      try {\n",
              "        const charts = await google.colab.kernel.invokeFunction(\n",
              "            'suggestCharts', [key], {});\n",
              "      } catch (error) {\n",
              "        console.error('Error during call to suggestCharts:', error);\n",
              "      }\n",
              "      quickchartButtonEl.classList.remove('colab-df-spinner');\n",
              "      quickchartButtonEl.classList.add('colab-df-quickchart-complete');\n",
              "    }\n",
              "    (() => {\n",
              "      let quickchartButtonEl =\n",
              "        document.querySelector('#df-c85c8e0e-36a8-41be-9fe3-06d7bd077bdb button');\n",
              "      quickchartButtonEl.style.display =\n",
              "        google.colab.kernel.accessAllowed ? 'block' : 'none';\n",
              "    })();\n",
              "  </script>\n",
              "</div>\n",
              "    </div>\n",
              "  </div>\n"
            ]
          },
          "metadata": {},
          "execution_count": 9
        }
      ]
    },
    {
      "cell_type": "code",
      "source": [
        "from plotnine import *\n",
        "\n",
        "anual_dividendos_reindex = anual_dividendos.reset_index()\n",
        "\n",
        "(ggplot(anual_dividendos_reindex, aes(x = 'Year', y = \"Dividends\"))\n",
        "  + geom_col(fill = 'cornflowerblue')\n",
        "  + labs(title = 'Dividendos Anuais da ITSA4',\n",
        "         subtitle = \"Período de 2007 até 2022\",\n",
        "         caption = \"Elaborado por analisemacro.com.br | Fonte: Yahoo Finance\",\n",
        "         x = \"\",\n",
        "         y = \"R$\")\n",
        "  )"
      ],
      "metadata": {
        "colab": {
          "base_uri": "https://localhost:8080/",
          "height": 514
        },
        "id": "dv7cs-inmWQw",
        "outputId": "ef9c9ef5-f2f4-4ee0-e54b-0c977f3093d8"
      },
      "execution_count": null,
      "outputs": [
        {
          "output_type": "display_data",
          "data": {
            "text/plain": [
              "<Figure size 640x480 with 1 Axes>"
            ],
            "image/png": "[encoded data removed]"
          },
          "metadata": {
            "image/png": {
              "width": 640,
              "height": 480
            }
          }
        },
        {
          "output_type": "execute_result",
          "data": {
            "text/plain": [
              "<Figure Size: (640 x 480)>"
            ]
          },
          "metadata": {},
          "execution_count": 10
        }
      ]
    },
    {
      "cell_type": "code",
      "source": [
        "# Calculando o dividendo esperado (D)\n",
        "D1 = anual_dividendos.mean().Dividends\n",
        "D1"
      ],
      "metadata": {
        "colab": {
          "base_uri": "https://localhost:8080/"
        },
        "id": "s_mZhcmzbWM9",
        "outputId": "88fdae3f-0b9e-4bd6-fd7b-9665c90b6035"
      },
      "execution_count": null,
      "outputs": [
        {
          "output_type": "execute_result",
          "data": {
            "text/plain": [
              "0.3225160625"
            ]
          },
          "metadata": {},
          "execution_count": 11
        }
      ]
    },
    {
      "cell_type": "markdown",
      "source": [
        "# Calculando o preço teórico"
      ],
      "metadata": {
        "id": "qjqNlJkjjLvd"
      }
    },
    {
      "cell_type": "code",
      "source": [
        "# Calculando o valor presente líquido da ação (PV)\n",
        "PV = D1 / (r - g_sustainable)\n",
        "\n",
        "# Imprimindo o resultado\n",
        "print(f\"Valor presente da ação {ticker}: R$ {PV:.2f}\")\n",
        "# Imprimindo o resultado\n",
        "print(f\"Valor da ação {ticker}: R$ {precos.values[0]:.2f}\")"
      ],
      "metadata": {
        "colab": {
          "base_uri": "https://localhost:8080/"
        },
        "id": "zb5D4vgCi7TJ",
        "outputId": "486722fc-4933-4d10-c72d-efe96cf5cc99"
      },
      "execution_count": null,
      "outputs": [
        {
          "output_type": "stream",
          "name": "stdout",
          "text": [
            "Valor presente da ação ITSA4.SA: R$ 17.87\n",
            "Valor da ação ITSA4.SA: R$ 8.96\n"
          ]
        }
      ]
    }
  ]
}