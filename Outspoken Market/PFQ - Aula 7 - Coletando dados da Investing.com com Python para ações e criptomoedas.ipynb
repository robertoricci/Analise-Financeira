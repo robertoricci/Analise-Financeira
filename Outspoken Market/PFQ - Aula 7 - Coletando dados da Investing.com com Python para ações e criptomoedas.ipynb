{
 "cells": [
  {
   "cell_type": "markdown",
   "id": "e562d09a",
   "metadata": {},
   "source": [
    "### Curso de Python para Finanças Quantitativas\n",
    "\n",
    "#### Aula 7 - Coletando dados da Investing.com com Python para ações e criptomoedas\n",
    "#### Autor: Leandro Guerra - Outspoken Market\n",
    "#### Download em: https://www.outspokenmarket.com/pythonfinancasquantitativas.html"
   ]
  },
  {
   "cell_type": "code",
   "execution_count": 1,
   "id": "34de5835",
   "metadata": {},
   "outputs": [
    {
     "name": "stdout",
     "output_type": "stream",
     "text": [
      "Requirement already satisfied: investpy in d:\\users\\usuario\\anaconda3\\lib\\site-packages (1.0.8)\n",
      "Requirement already satisfied: Unidecode>=1.1.1 in d:\\users\\usuario\\anaconda3\\lib\\site-packages (from investpy) (1.2.0)\n",
      "Requirement already satisfied: setuptools>=41.2.0 in d:\\users\\usuario\\anaconda3\\lib\\site-packages (from investpy) (68.0.0)\n",
      "Requirement already satisfied: numpy>=1.17.2 in d:\\users\\usuario\\anaconda3\\lib\\site-packages (from investpy) (1.24.3)\n",
      "Requirement already satisfied: pandas>=0.25.1 in d:\\users\\usuario\\anaconda3\\lib\\site-packages (from investpy) (1.5.3)\n",
      "Requirement already satisfied: lxml>=4.4.1 in d:\\users\\usuario\\anaconda3\\lib\\site-packages (from investpy) (4.9.2)\n",
      "Requirement already satisfied: requests>=2.22.0 in d:\\users\\usuario\\anaconda3\\lib\\site-packages (from investpy) (2.31.0)\n",
      "Requirement already satisfied: pytz>=2019.3 in d:\\users\\usuario\\anaconda3\\lib\\site-packages (from investpy) (2022.7)\n",
      "Requirement already satisfied: python-dateutil>=2.8.1 in c:\\users\\usuario\\appdata\\roaming\\python\\python311\\site-packages (from pandas>=0.25.1->investpy) (2.8.2)\n",
      "Requirement already satisfied: charset-normalizer<4,>=2 in d:\\users\\usuario\\anaconda3\\lib\\site-packages (from requests>=2.22.0->investpy) (2.0.4)\n",
      "Requirement already satisfied: idna<4,>=2.5 in d:\\users\\usuario\\anaconda3\\lib\\site-packages (from requests>=2.22.0->investpy) (3.4)\n",
      "Requirement already satisfied: urllib3<3,>=1.21.1 in d:\\users\\usuario\\anaconda3\\lib\\site-packages (from requests>=2.22.0->investpy) (1.26.16)\n",
      "Requirement already satisfied: certifi>=2017.4.17 in d:\\users\\usuario\\anaconda3\\lib\\site-packages (from requests>=2.22.0->investpy) (2023.7.22)\n",
      "Requirement already satisfied: six>=1.5 in c:\\users\\usuario\\appdata\\roaming\\python\\python311\\site-packages (from python-dateutil>=2.8.1->pandas>=0.25.1->investpy) (1.16.0)\n"
     ]
    }
   ],
   "source": [
    "!pip3 install investpy"
   ]
  },
  {
   "cell_type": "code",
   "execution_count": 2,
   "id": "758f1440",
   "metadata": {},
   "outputs": [],
   "source": [
    "import investpy as inv"
   ]
  },
  {
   "cell_type": "code",
   "execution_count": 3,
   "id": "d62388da",
   "metadata": {},
   "outputs": [],
   "source": [
    "import plotly.graph_objects as go"
   ]
  },
  {
   "cell_type": "code",
   "execution_count": null,
   "id": "0e01533e",
   "metadata": {},
   "outputs": [],
   "source": [
    "import pandas as pd\n",
    "import numpy as np\n",
    "from datetime import datetime\n",
    "import matplotlib\n",
    "import matplotlib.pyplot as plt\n",
    "import seaborn as sns; sns.set()\n",
    "matplotlib.rcParams['figure.figsize'] = (16,8)"
   ]
  },
  {
   "cell_type": "code",
   "execution_count": null,
   "id": "e5600524",
   "metadata": {},
   "outputs": [],
   "source": [
    "plt.style.use(\"fivethirtyeight\")\n",
    "# https://matplotlib.org/stable/gallery/style_sheets/style_sheets_reference.html"
   ]
  },
  {
   "cell_type": "markdown",
   "id": "d6181a63",
   "metadata": {},
   "source": [
    "#### Primeiro vamos entender a lib de um modo geral: sempre leia a documentação \n",
    "\n",
    "https://investpy.readthedocs.io\n",
    "\n",
    "investpy - Financial Data Extraction from Investing.com with Python developed by Alvaro Bartolome del Canto"
   ]
  },
  {
   "cell_type": "code",
   "execution_count": null,
   "id": "ffda259b",
   "metadata": {},
   "outputs": [],
   "source": [
    "# Depois, comecemos as análises\n",
    "\n",
    "tudo_brasil = inv.get_stocks_overview(country = \"Brazil\"\n",
    "                        , as_json = False\n",
    "                        , n_results = 100)\n",
    "\n",
    "tudo_brasil"
   ]
  },
  {
   "cell_type": "code",
   "execution_count": null,
   "id": "a6b280fa",
   "metadata": {},
   "outputs": [],
   "source": [
    "# Agora, vamos entender algumas funções especiais\n",
    "\n",
    "ticker = \"PETR4\" # a lib não aceita um vetor com mais ações como entrada"
   ]
  },
  {
   "cell_type": "code",
   "execution_count": null,
   "id": "bdf4e6b7",
   "metadata": {},
   "outputs": [],
   "source": [
    "# Descrição da empresa\n",
    "\n",
    "petro_desc = inv.get_stock_company_profile(stock = ticker\n",
    "                                           , country = \"Brazil\")\n",
    "\n",
    "petro_desc"
   ]
  },
  {
   "cell_type": "code",
   "execution_count": null,
   "id": "238961ea",
   "metadata": {},
   "outputs": [],
   "source": [
    "# Informações de receita\n",
    "\n",
    "petro_receita = inv.get_stock_financial_summary(stock = ticker\n",
    "                                                , country = \"Brazil\"\n",
    "                                                , summary_type = \"income_statement\"\n",
    "                                                , period = \"quarterly\")\n",
    "\n",
    "petro_receita"
   ]
  },
  {
   "cell_type": "code",
   "execution_count": null,
   "id": "c1742f69",
   "metadata": {},
   "outputs": [],
   "source": [
    "# Visualização\n",
    "\n",
    "plt.figure(figsize=(12.5,4.5))\n",
    "plt.plot(petro_receita[\"Net Income\"], label = \"PETR4\", linewidth = 2, color = \"blue\")\n",
    "plt.title(\"Receita Total: PETR4 - Investing.com \\n Python para finanças Outspoken Market\")\n",
    "plt.xlabel(\"Últimos 4 trimestres\")\n",
    "plt.ylabel(\"Receita em $\")\n",
    "plt.legend(loc = \"lower right\")\n",
    "plt.show()"
   ]
  },
  {
   "cell_type": "code",
   "execution_count": null,
   "id": "a9f10a68",
   "metadata": {},
   "outputs": [],
   "source": [
    "# Mas quais outras informações eu posso pegar?\n",
    "# Consulte sempre a documentação. Quando ela não estiver tão clara\n",
    "# tente também a função help(nome_função)\n",
    "\n",
    "help(inv.get_stock_financial_summary)"
   ]
  },
  {
   "cell_type": "code",
   "execution_count": null,
   "id": "6d6d2aab",
   "metadata": {},
   "outputs": [],
   "source": [
    "# Para informações adicionais da ação\n",
    "\n",
    "petro = inv.get_stock_information(stock = ticker\n",
    "                                  , country = \"Brazil\"\n",
    "                                  , as_json = False).transpose()\n",
    "\n",
    "petro"
   ]
  },
  {
   "cell_type": "code",
   "execution_count": null,
   "id": "79ddcc62",
   "metadata": {},
   "outputs": [],
   "source": [
    "# Dados históricos da cotação\n",
    "\n",
    "inicio = \"01/01/2020\"\n",
    "fim = \"22/11/2021\"\n",
    "\n",
    "petr4 = inv.get_stock_historical_data(stock = ticker\n",
    "                                      , country = \"Brazil\"\n",
    "                                      , from_date = inicio\n",
    "                                      , to_date = fim)\n",
    "petr4"
   ]
  },
  {
   "cell_type": "code",
   "execution_count": null,
   "id": "14e66e74",
   "metadata": {},
   "outputs": [],
   "source": [
    "# Visualização\n",
    "\n",
    "plt.figure(figsize = (12.5,4.5))\n",
    "plt.plot(petr4[\"Close\"], label = \"PETR4\", linewidth = 2, color = \"blue\")\n",
    "plt.title(\"PETR4 - Investing.com \\n Python para finanças Outspoken Market\")\n",
    "plt.xlabel(\"2020 à 2021\")\n",
    "plt.ylabel(\"Cotação (R$)\")\n",
    "plt.legend(loc = \"lower right\")\n",
    "plt.show()"
   ]
  },
  {
   "cell_type": "code",
   "execution_count": null,
   "id": "9f44be2a",
   "metadata": {},
   "outputs": [],
   "source": [
    "# Mas, e se eu quiser os indicadores técnicos?\n",
    "\n",
    "petro_ind = inv.search_quotes(text = ticker\n",
    "                              , products=[\"stocks\"]\n",
    "                              , countries=[\"brazil\"]\n",
    "                              , n_results = 1)\n",
    "print(petro_ind)"
   ]
  },
  {
   "cell_type": "code",
   "execution_count": null,
   "id": "37a0fd5a",
   "metadata": {},
   "outputs": [],
   "source": [
    "# Use o método retrieve_technical_indicators\n",
    "\n",
    "petro_ind_d1 = petro_ind.retrieve_technical_indicators(interval = \"daily\")\n",
    "petro_ind_d1"
   ]
  },
  {
   "cell_type": "code",
   "execution_count": null,
   "id": "5689e5c3",
   "metadata": {},
   "outputs": [],
   "source": [
    "petro_ind_semanal = petro_ind.retrieve_technical_indicators(interval = \"weekly\")\n",
    "petro_ind_semanal"
   ]
  },
  {
   "cell_type": "code",
   "execution_count": null,
   "id": "c5b553b5",
   "metadata": {},
   "outputs": [],
   "source": [
    "petro_ind_mensal = petro_ind.retrieve_technical_indicators(interval = \"monthly\")\n",
    "petro_ind_mensal"
   ]
  },
  {
   "cell_type": "code",
   "execution_count": null,
   "id": "d1d2d1e6",
   "metadata": {
    "scrolled": false
   },
   "outputs": [],
   "source": [
    "# Vamos combinar os valores dos diferentes timeframes em uma única tabela\n",
    "\n",
    "\n",
    "petro_at = pd.DataFrame([petro_ind_d1[\"indicator\"], petro_ind_d1[\"value\"]\n",
    "                         , petro_ind_semanal[\"value\"], petro_ind_mensal[\"value\"]]).transpose()\n",
    "\n",
    "petro_at"
   ]
  },
  {
   "cell_type": "code",
   "execution_count": null,
   "id": "2b40aa3a",
   "metadata": {},
   "outputs": [],
   "source": [
    "petro_at.set_axis([\"Indicador\", \"D1\", \"Semanal\", \"Mensal\"], axis = 1, inplace = True)\n",
    "petro_at.set_index(petro_at[\"Indicador\"], drop = True, inplace = True)\n",
    "petro_at"
   ]
  },
  {
   "cell_type": "code",
   "execution_count": null,
   "id": "62a53d07",
   "metadata": {},
   "outputs": [],
   "source": [
    "# Selecionando apenas os indicadores de momentum\n",
    "\n",
    "petro_momentum = petro_at.iloc[[0, 4, 5, 6], :].copy()\n",
    "petro_momentum"
   ]
  },
  {
   "cell_type": "code",
   "execution_count": null,
   "id": "29b39021",
   "metadata": {},
   "outputs": [],
   "source": [
    "petro_momentum.plot(kind = \"bar\"\n",
    "              , title = \"Indicadores de Momentum PETR4 \\n Python para finanças Outspoken Market\"\n",
    "              , figsize = (12, 7))\n",
    "plt.ylabel(\"Valor do Indicador\")\n",
    "plt.ylim(-120, 100)\n",
    "plt.legend(loc = \"upper right\");"
   ]
  },
  {
   "cell_type": "markdown",
   "id": "e688650f",
   "metadata": {},
   "source": [
    "### Para as criptomoedas, temos funções específicas "
   ]
  },
  {
   "cell_type": "code",
   "execution_count": null,
   "id": "174f63cb",
   "metadata": {},
   "outputs": [],
   "source": [
    "inv.search_cryptos(by = \"name\"\n",
    "                   , value = \"bitcoin\")\n",
    "\n",
    "# Repare que o método retorna tudo o que tem BTC no nome\n",
    "# A lib não permite alterar a moeda"
   ]
  },
  {
   "cell_type": "code",
   "execution_count": null,
   "id": "2c384251",
   "metadata": {},
   "outputs": [],
   "source": [
    "btc = inv.get_crypto_historical_data(crypto = \"Bitcoin\"\n",
    "                                     , from_date = inicio\n",
    "                                     , to_date = fim)\n",
    "btc"
   ]
  },
  {
   "cell_type": "code",
   "execution_count": null,
   "id": "91f2787e",
   "metadata": {},
   "outputs": [],
   "source": [
    "# Visualização\n",
    "\n",
    "plt.figure(figsize = (12.5,4.5))\n",
    "plt.plot(btc[\"Close\"], label = \"BTC\", linewidth = 2, color = \"blue\")\n",
    "plt.title(\"Bitcoin - Investing.com \\n Python para finanças Outspoken Market\")\n",
    "plt.xlabel(\"2020 à 2021\")\n",
    "plt.ylabel(\"Cotação (US$)\")\n",
    "plt.legend(loc = \"lower right\")\n",
    "plt.show()"
   ]
  },
  {
   "cell_type": "code",
   "execution_count": null,
   "id": "93e874c7",
   "metadata": {
    "scrolled": true
   },
   "outputs": [],
   "source": [
    "# E como recuperar informações de outras exchanges?\n",
    "\n",
    "busca_cripto = inv.search_quotes(text = \"Bitcoin\"\n",
    "                                 , products = [\"cryptos\"]\n",
    "                                 , n_results = 100)"
   ]
  },
  {
   "cell_type": "code",
   "execution_count": null,
   "id": "9e09ebac",
   "metadata": {},
   "outputs": [],
   "source": [
    "# Parece um dicionário ou um json, mas nao é\n",
    "\n",
    "type(busca_cripto)"
   ]
  },
  {
   "cell_type": "code",
   "execution_count": null,
   "id": "0a6b8aa0",
   "metadata": {
    "scrolled": true
   },
   "outputs": [],
   "source": [
    "for item in busca_cripto:\n",
    "    print(item)"
   ]
  },
  {
   "cell_type": "code",
   "execution_count": null,
   "id": "d17722fe",
   "metadata": {},
   "outputs": [],
   "source": [
    "type(busca_cripto[0])"
   ]
  },
  {
   "cell_type": "code",
   "execution_count": null,
   "id": "3dde43cb",
   "metadata": {},
   "outputs": [],
   "source": [
    "# Então como eu leio isso?\n",
    "\n",
    "busca_cripto[0].exchange"
   ]
  },
  {
   "cell_type": "code",
   "execution_count": null,
   "id": "5a57a8cd",
   "metadata": {},
   "outputs": [],
   "source": [
    "data = []\n",
    "for item in busca_cripto:\n",
    "    data.append([item.name, item.symbol, item.exchange])\n",
    "    \n",
    "busca_cripto_df = pd.DataFrame(data, columns = [\"Nome\", \"Simbolo\", \"Exchange\"])\n",
    "\n",
    "busca_cripto_df.head()"
   ]
  },
  {
   "cell_type": "code",
   "execution_count": null,
   "id": "15c57344",
   "metadata": {
    "scrolled": false
   },
   "outputs": [],
   "source": [
    "# O códico acima serve para estrutuar e saber o que existe com o nome \"Bitcoin\"\n",
    "# Útil para fazer a busca depois, como o exemplo abaixo\n",
    "\n",
    "inv.get_crypto_historical_data(crypto = \"Monetha\"\n",
    "                                     , from_date = inicio\n",
    "                                     , to_date = fim)"
   ]
  },
  {
   "cell_type": "code",
   "execution_count": null,
   "id": "6e1c6497",
   "metadata": {},
   "outputs": [],
   "source": [
    "monetha = inv.get_crypto_historical_data(crypto = \"Monetha\"\n",
    "                                     , from_date = inicio\n",
    "                                     , to_date = fim)"
   ]
  },
  {
   "cell_type": "code",
   "execution_count": null,
   "id": "8aff5a54",
   "metadata": {},
   "outputs": [],
   "source": [
    "# Visualização\n",
    "\n",
    "plt.figure(figsize = (12.5,4.5))\n",
    "plt.plot(monetha[\"Close\"], label = \"Monetha\", linewidth = 2, color = \"blue\")\n",
    "plt.title(\"Monetha - Investing.com \\n Python para finanças Outspoken Market\")\n",
    "plt.xlabel(\"2020 à 2021\")\n",
    "plt.ylabel(\"Cotação (US$)\")\n",
    "plt.legend(loc = \"lower right\")\n",
    "plt.show()"
   ]
  },
  {
   "cell_type": "markdown",
   "id": "fefaaa28",
   "metadata": {},
   "source": [
    "### Calendário Economico"
   ]
  },
  {
   "cell_type": "code",
   "execution_count": null,
   "id": "94a7223d",
   "metadata": {},
   "outputs": [],
   "source": [
    "inv.economic_calendar()"
   ]
  },
  {
   "cell_type": "code",
   "execution_count": null,
   "id": "c1537b8d",
   "metadata": {},
   "outputs": [],
   "source": [
    "# Filtrando para 2021 apenas os eventos importantes\n",
    "\n",
    "agenda21 = inv.economic_calendar(from_date = \"01/01/2021\"\n",
    "                                 , to_date = fim)"
   ]
  },
  {
   "cell_type": "code",
   "execution_count": null,
   "id": "795081ff",
   "metadata": {},
   "outputs": [],
   "source": [
    "agenda21.query(\"importance == 'high'\")"
   ]
  },
  {
   "cell_type": "code",
   "execution_count": null,
   "id": "a5ea2132",
   "metadata": {
    "scrolled": true
   },
   "outputs": [],
   "source": [
    "agenda21.query(\"importance == 'high'\")[\"event\"].unique()"
   ]
  },
  {
   "cell_type": "code",
   "execution_count": null,
   "id": "e36c16f5",
   "metadata": {},
   "outputs": [],
   "source": [
    "agenda21.query('importance == \"high\" and event.str.contains(\"ADP Nonfarm Employment Change\")', engine = \"python\")"
   ]
  },
  {
   "cell_type": "code",
   "execution_count": null,
   "id": "2f2931f9",
   "metadata": {},
   "outputs": [],
   "source": [
    "adp_21 = agenda21.query('importance == \"high\" and event.str.contains(\"ADP Nonfarm Employment Change\")'\n",
    "                        , engine = \"python\")\n",
    "adp_21.set_index(adp_21[\"date\"], drop = True, inplace = True)\n",
    "adp_21 = adp_21.iloc[:, [7, 8, 9]]\n",
    "adp_21.replace(\"K\", \"\", regex = True, inplace = True)\n",
    "adp_21[\"actual\"] = pd.to_numeric(adp_21[\"actual\"])\n",
    "adp_21[\"forecast\"] = pd.to_numeric(adp_21[\"forecast\"])\n",
    "adp_21[\"previous\"] = pd.to_numeric(adp_21[\"previous\"])\n",
    "adp_21"
   ]
  },
  {
   "cell_type": "code",
   "execution_count": null,
   "id": "bc5c2f7a",
   "metadata": {},
   "outputs": [],
   "source": [
    "adp_21.plot(kind = \"bar\"\n",
    "              , title = \"ADP Nonfarm Employment Change \\n Python para finanças Outspoken Market\"\n",
    "              , figsize = (12, 7))\n",
    "plt.ylabel(\"ADP\")\n",
    "plt.xlabel(\"Medição\")\n",
    "plt.ylim(-150, 1000)\n",
    "plt.legend(loc = \"upper right\");"
   ]
  }
 ],
 "metadata": {
  "kernelspec": {
   "display_name": "Python 3 (ipykernel)",
   "language": "python",
   "name": "python3"
  },
  "language_info": {
   "codemirror_mode": {
    "name": "ipython",
    "version": 3
   },
   "file_extension": ".py",
   "mimetype": "text/x-python",
   "name": "python",
   "nbconvert_exporter": "python",
   "pygments_lexer": "ipython3",
   "version": "3.11.4"
  }
 },
 "nbformat": 4,
 "nbformat_minor": 5
}
