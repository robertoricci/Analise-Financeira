{
  "nbformat": 4,
  "nbformat_minor": 0,
  "metadata": {
    "colab": {
      "provenance": [],
      "authorship_tag": "ABX9TyMtAER9yeXi/JrfTr39Ki5J",
      "include_colab_link": true
    },
    "kernelspec": {
      "name": "python3",
      "display_name": "Python 3"
    },
    "language_info": {
      "name": "python"
    }
  },
  "cells": [
    {
      "cell_type": "markdown",
      "metadata": {
        "id": "view-in-github",
        "colab_type": "text"
      },
      "source": [
        "<a href=\"https://colab.research.google.com/github/robertoricci/Analise-Financeira/blob/main/calculadora2.ipynb\" target=\"_parent\"><img src=\"https://colab.research.google.com/assets/colab-badge.svg\" alt=\"Open In Colab\"/></a>"
      ]
    },
    {
      "cell_type": "code",
      "execution_count": null,
      "metadata": {
        "colab": {
          "base_uri": "https://localhost:8080/"
        },
        "id": "iu9q1vmFhG3P",
        "outputId": "bec55dc8-1666-4151-e862-6e6b41e1ed28"
      },
      "outputs": [
        {
          "output_type": "stream",
          "name": "stdout",
          "text": [
            "Preço do ativo prefixada: R$ 94.34\n",
            "Preço do ativo DI: R$ 90.91\n",
            "Preço do ativo DI_percentual: R$ 90.09\n",
            "Preço do ativo IPCA: R$ 94.34\n"
          ]
        }
      ],
      "source": [
        "class RendaFixaCalculator:\n",
        "    def __init__(self, taxa_referencia):\n",
        "        self.taxa_referencia = taxa_referencia\n",
        "\n",
        "    def calcular_preco(self, tipo, taxa, dias_uteis=252):\n",
        "        if tipo == 'prefixada':\n",
        "            preco = 100 / (1 + (taxa / 100) * (dias_uteis / 252))\n",
        "        elif tipo == 'DI':\n",
        "            preco = 100 / (1 + (self.taxa_referencia + taxa) / 100 * (dias_uteis / 252))\n",
        "        elif tipo == 'DI_percentual':\n",
        "            preco = 100 / (1 + (self.taxa_referencia * (1 + taxa / 100)) / 100 * (dias_uteis / 252))\n",
        "        elif tipo == 'IPCA':\n",
        "            preco = 100 / (1 + (self.taxa_referencia + taxa) / 100 * (dias_uteis / 252))\n",
        "        else:\n",
        "            raise ValueError(\"Tipo de ativo não suportado\")\n",
        "\n",
        "        return preco\n",
        "\n",
        "# Exemplo de uso\n",
        "calculator = RendaFixaCalculator(taxa_referencia=5)  # Supondo uma taxa de referência de 5%\n",
        "\n",
        "tipo = 'prefixada'\n",
        "taxa = 6  # 6% ao ano\n",
        "preco_prefixada = calculator.calcular_preco(tipo, taxa)\n",
        "print(f\"Preço do ativo {tipo}: R$ {preco_prefixada:.2f}\")\n",
        "\n",
        "tipo = 'DI'\n",
        "taxa = 5  # 2% acima do DI\n",
        "preco_DI = calculator.calcular_preco(tipo, taxa)\n",
        "print(f\"Preço do ativo {tipo}: R$ {preco_DI:.2f}\")\n",
        "\n",
        "tipo = 'DI_percentual'\n",
        "taxa = 120  # 120% do DI\n",
        "preco_DI_percentual = calculator.calcular_preco(tipo, taxa)\n",
        "print(f\"Preço do ativo {tipo}: R$ {preco_DI_percentual:.2f}\")\n",
        "\n",
        "tipo = 'IPCA'\n",
        "taxa = 1  # 3% acima do IPCA\n",
        "preco_IPCA = calculator.calcular_preco(tipo, taxa)\n",
        "print(f\"Preço do ativo {tipo}: R$ {preco_IPCA:.2f}\")\n"
      ]
    },
    {
      "cell_type": "code",
      "source": [
        "#Vencimento\n",
        "#Pricipal\n",
        "#Juros\n",
        "#bullet e pago no final"
      ],
      "metadata": {
        "id": "Y6gBdGk0sben"
      },
      "execution_count": null,
      "outputs": []
    },
    {
      "cell_type": "code",
      "source": [
        "class RendaFixaCalculator2:\n",
        "    def __init__(self, dias_uteis=252):\n",
        "        self.dias_uteis = dias_uteis\n",
        "\n",
        "    def calcular_preco(self, tipo,taxa=0, valor_investido=1000, variacao_DI=0, IPCA=0):\n",
        "        if tipo == 'prefixada':\n",
        "            preco = valor_investido / (1 + (taxa / 100) * (self.dias_uteis / (252 * 3)))\n",
        "        elif tipo == 'DI':\n",
        "            preco = valor_investido / (1 + ((variacao_DI + taxa) / 100) * (self.dias_uteis / 252))\n",
        "        elif tipo == 'DI_percentual':\n",
        "            preco = valor_investido / (1 + (variacao_DI / 100) * (1 + taxa / 100) * (self.dias_uteis / 252))\n",
        "        elif tipo == 'IPCA':\n",
        "            preco = valor_investido / (1 + ((IPCA + taxa) / 100) * (self.dias_uteis / 252))\n",
        "        else:\n",
        "            raise ValueError(\"Tipo de ativo não suportado\")\n",
        "\n",
        "        return preco\n",
        "\n",
        "# Exemplo de uso\n",
        "calculator = RendaFixaCalculator2()\n",
        "\n",
        "tipo = 'prefixada'\n",
        "taxa = 10  # 6% ao ano\n",
        "preco_prefixada = calculator.calcular_preco(tipo, taxa)\n",
        "print(f\"Preço do ativo {tipo}: R$ {preco_prefixada:.2f}\")\n",
        "\n",
        "tipo = 'DI'\n",
        "taxa = 2  # 2% acima do DI\n",
        "preco_DI = calculator.calcular_preco(tipo, taxa)\n",
        "print(f\"Preço do ativo {tipo}: R$ {preco_DI:.2f}\")\n",
        "\n",
        "tipo = 'DI_percentual'\n",
        "taxa = 20  # 20% do DI\n",
        "preco_DI_percentual = calculator.calcular_preco(tipo, taxa)\n",
        "print(f\"Preço do ativo {tipo}: R$ {preco_DI_percentual:.2f}\")\n",
        "\n",
        "tipo = 'IPCA'\n",
        "taxa = 3  # 3% acima do IPCA\n",
        "preco_IPCA = calculator.calcular_preco(tipo, taxa)\n",
        "print(f\"Preço do ativo {tipo}: R$ {preco_IPCA:.2f}\")\n"
      ],
      "metadata": {
        "colab": {
          "base_uri": "https://localhost:8080/"
        },
        "id": "8u8ZMoHUsmke",
        "outputId": "e723f821-2602-4bad-d3a7-43850619d483"
      },
      "execution_count": null,
      "outputs": [
        {
          "output_type": "stream",
          "name": "stdout",
          "text": [
            "Preço do ativo prefixada: R$ 967.74\n",
            "Preço do ativo DI: R$ 980.39\n",
            "Preço do ativo DI_percentual: R$ 1000.00\n",
            "Preço do ativo IPCA: R$ 970.87\n"
          ]
        }
      ]
    },
    {
      "cell_type": "code",
      "source": [
        "import pandas as pd\n",
        "import numpy as np\n",
        "import matplotlib.pyplot as plt\n",
        "from unicodedata import normalize\n",
        "\n",
        "table_MN = pd.read_html('https://en.wikipedia.org/wiki/Minnesota')"
      ],
      "metadata": {
        "id": "tnzyKHbAfO4D"
      },
      "execution_count": 1,
      "outputs": []
    },
    {
      "cell_type": "code",
      "source": [],
      "metadata": {
        "id": "ENm8R6pRYLYI"
      },
      "execution_count": null,
      "outputs": []
    },
    {
      "cell_type": "code",
      "source": [
        "table_MN = pd.read_html('https://www.dadosdemercado.com.br/agenda-de-dividendos',thousands='.',decimal='.', converters=None)"
      ],
      "metadata": {
        "id": "CRFQ65nMNxS8"
      },
      "execution_count": 12,
      "outputs": []
    },
    {
      "cell_type": "code",
      "source": [
        "pd.DataFrame(table_MN[0])"
      ],
      "metadata": {
        "id": "VXxMwmG0q9W6",
        "colab": {
          "base_uri": "https://localhost:8080/",
          "height": 1559
        },
        "outputId": "57b27dde-137c-47d0-e6ea-4d2011edb441"
      },
      "execution_count": 17,
      "outputs": [
        {
          "output_type": "execute_result",
          "data": {
            "text/plain": [
              "    Código       Tipo Valor (R$)    Registro          Ex   Pagamento\n",
              "0   ALUP11  Dividendo   0,780000  19/04/2024  22/04/2024  01/07/2024\n",
              "1    ALUP3  Dividendo   0,260000  19/04/2024  22/04/2024  01/07/2024\n",
              "2    ALUP4  Dividendo   0,260000  19/04/2024  22/04/2024  01/07/2024\n",
              "3    BBDC3        JCP   0,017250  03/06/2024  04/06/2024  01/07/2024\n",
              "4    BBDC4        JCP   0,018975  03/06/2024  04/06/2024  01/07/2024\n",
              "..     ...        ...        ...         ...         ...         ...\n",
              "61   ODER4        JCP   0,124000  07/07/2023          --  31/07/2024\n",
              "62   ODER4        JCP   0,124000  04/01/2024          --  31/07/2024\n",
              "63   ODER4        JCP   0,132000  05/10/2023          --  31/07/2024\n",
              "64   SMFT3        JCP   0,085289  21/06/2024  24/06/2024  31/07/2024\n",
              "65   TUPY3        JCP   0,255162  22/01/2024  23/01/2024  31/07/2024\n",
              "\n",
              "[66 rows x 6 columns]"
            ],
            "text/html": [
              "\n",
              "  <div id=\"df-3290bfcf-7035-4c04-83df-4806a3cd3e52\" class=\"colab-df-container\">\n",
              "    <div>\n",
              "<style scoped>\n",
              "    .dataframe tbody tr th:only-of-type {\n",
              "        vertical-align: middle;\n",
              "    }\n",
              "\n",
              "    .dataframe tbody tr th {\n",
              "        vertical-align: top;\n",
              "    }\n",
              "\n",
              "    .dataframe thead th {\n",
              "        text-align: right;\n",
              "    }\n",
              "</style>\n",
              "<table border=\"1\" class=\"dataframe\">\n",
              "  <thead>\n",
              "    <tr style=\"text-align: right;\">\n",
              "      <th></th>\n",
              "      <th>Código</th>\n",
              "      <th>Tipo</th>\n",
              "      <th>Valor (R$)</th>\n",
              "      <th>Registro</th>\n",
              "      <th>Ex</th>\n",
              "      <th>Pagamento</th>\n",
              "    </tr>\n",
              "  </thead>\n",
              "  <tbody>\n",
              "    <tr>\n",
              "      <th>0</th>\n",
              "      <td>ALUP11</td>\n",
              "      <td>Dividendo</td>\n",
              "      <td>0,780000</td>\n",
              "      <td>19/04/2024</td>\n",
              "      <td>22/04/2024</td>\n",
              "      <td>01/07/2024</td>\n",
              "    </tr>\n",
              "    <tr>\n",
              "      <th>1</th>\n",
              "      <td>ALUP3</td>\n",
              "      <td>Dividendo</td>\n",
              "      <td>0,260000</td>\n",
              "      <td>19/04/2024</td>\n",
              "      <td>22/04/2024</td>\n",
              "      <td>01/07/2024</td>\n",
              "    </tr>\n",
              "    <tr>\n",
              "      <th>2</th>\n",
              "      <td>ALUP4</td>\n",
              "      <td>Dividendo</td>\n",
              "      <td>0,260000</td>\n",
              "      <td>19/04/2024</td>\n",
              "      <td>22/04/2024</td>\n",
              "      <td>01/07/2024</td>\n",
              "    </tr>\n",
              "    <tr>\n",
              "      <th>3</th>\n",
              "      <td>BBDC3</td>\n",
              "      <td>JCP</td>\n",
              "      <td>0,017250</td>\n",
              "      <td>03/06/2024</td>\n",
              "      <td>04/06/2024</td>\n",
              "      <td>01/07/2024</td>\n",
              "    </tr>\n",
              "    <tr>\n",
              "      <th>4</th>\n",
              "      <td>BBDC4</td>\n",
              "      <td>JCP</td>\n",
              "      <td>0,018975</td>\n",
              "      <td>03/06/2024</td>\n",
              "      <td>04/06/2024</td>\n",
              "      <td>01/07/2024</td>\n",
              "    </tr>\n",
              "    <tr>\n",
              "      <th>...</th>\n",
              "      <td>...</td>\n",
              "      <td>...</td>\n",
              "      <td>...</td>\n",
              "      <td>...</td>\n",
              "      <td>...</td>\n",
              "      <td>...</td>\n",
              "    </tr>\n",
              "    <tr>\n",
              "      <th>61</th>\n",
              "      <td>ODER4</td>\n",
              "      <td>JCP</td>\n",
              "      <td>0,124000</td>\n",
              "      <td>07/07/2023</td>\n",
              "      <td>--</td>\n",
              "      <td>31/07/2024</td>\n",
              "    </tr>\n",
              "    <tr>\n",
              "      <th>62</th>\n",
              "      <td>ODER4</td>\n",
              "      <td>JCP</td>\n",
              "      <td>0,124000</td>\n",
              "      <td>04/01/2024</td>\n",
              "      <td>--</td>\n",
              "      <td>31/07/2024</td>\n",
              "    </tr>\n",
              "    <tr>\n",
              "      <th>63</th>\n",
              "      <td>ODER4</td>\n",
              "      <td>JCP</td>\n",
              "      <td>0,132000</td>\n",
              "      <td>05/10/2023</td>\n",
              "      <td>--</td>\n",
              "      <td>31/07/2024</td>\n",
              "    </tr>\n",
              "    <tr>\n",
              "      <th>64</th>\n",
              "      <td>SMFT3</td>\n",
              "      <td>JCP</td>\n",
              "      <td>0,085289</td>\n",
              "      <td>21/06/2024</td>\n",
              "      <td>24/06/2024</td>\n",
              "      <td>31/07/2024</td>\n",
              "    </tr>\n",
              "    <tr>\n",
              "      <th>65</th>\n",
              "      <td>TUPY3</td>\n",
              "      <td>JCP</td>\n",
              "      <td>0,255162</td>\n",
              "      <td>22/01/2024</td>\n",
              "      <td>23/01/2024</td>\n",
              "      <td>31/07/2024</td>\n",
              "    </tr>\n",
              "  </tbody>\n",
              "</table>\n",
              "<p>66 rows × 6 columns</p>\n",
              "</div>\n",
              "    <div class=\"colab-df-buttons\">\n",
              "\n",
              "  <div class=\"colab-df-container\">\n",
              "    <button class=\"colab-df-convert\" onclick=\"convertToInteractive('df-3290bfcf-7035-4c04-83df-4806a3cd3e52')\"\n",
              "            title=\"Convert this dataframe to an interactive table.\"\n",
              "            style=\"display:none;\">\n",
              "\n",
              "  <svg xmlns=\"http://www.w3.org/2000/svg\" height=\"24px\" viewBox=\"0 -960 960 960\">\n",
              "    <path d=\"M120-120v-720h720v720H120Zm60-500h600v-160H180v160Zm220 220h160v-160H400v160Zm0 220h160v-160H400v160ZM180-400h160v-160H180v160Zm440 0h160v-160H620v160ZM180-180h160v-160H180v160Zm440 0h160v-160H620v160Z\"/>\n",
              "  </svg>\n",
              "    </button>\n",
              "\n",
              "  <style>\n",
              "    .colab-df-container {\n",
              "      display:flex;\n",
              "      gap: 12px;\n",
              "    }\n",
              "\n",
              "    .colab-df-convert {\n",
              "      background-color: #E8F0FE;\n",
              "      border: none;\n",
              "      border-radius: 50%;\n",
              "      cursor: pointer;\n",
              "      display: none;\n",
              "      fill: #1967D2;\n",
              "      height: 32px;\n",
              "      padding: 0 0 0 0;\n",
              "      width: 32px;\n",
              "    }\n",
              "\n",
              "    .colab-df-convert:hover {\n",
              "      background-color: #E2EBFA;\n",
              "      box-shadow: 0px 1px 2px rgba(60, 64, 67, 0.3), 0px 1px 3px 1px rgba(60, 64, 67, 0.15);\n",
              "      fill: #174EA6;\n",
              "    }\n",
              "\n",
              "    .colab-df-buttons div {\n",
              "      margin-bottom: 4px;\n",
              "    }\n",
              "\n",
              "    [theme=dark] .colab-df-convert {\n",
              "      background-color: #3B4455;\n",
              "      fill: #D2E3FC;\n",
              "    }\n",
              "\n",
              "    [theme=dark] .colab-df-convert:hover {\n",
              "      background-color: #434B5C;\n",
              "      box-shadow: 0px 1px 3px 1px rgba(0, 0, 0, 0.15);\n",
              "      filter: drop-shadow(0px 1px 2px rgba(0, 0, 0, 0.3));\n",
              "      fill: #FFFFFF;\n",
              "    }\n",
              "  </style>\n",
              "\n",
              "    <script>\n",
              "      const buttonEl =\n",
              "        document.querySelector('#df-3290bfcf-7035-4c04-83df-4806a3cd3e52 button.colab-df-convert');\n",
              "      buttonEl.style.display =\n",
              "        google.colab.kernel.accessAllowed ? 'block' : 'none';\n",
              "\n",
              "      async function convertToInteractive(key) {\n",
              "        const element = document.querySelector('#df-3290bfcf-7035-4c04-83df-4806a3cd3e52');\n",
              "        const dataTable =\n",
              "          await google.colab.kernel.invokeFunction('convertToInteractive',\n",
              "                                                    [key], {});\n",
              "        if (!dataTable) return;\n",
              "\n",
              "        const docLinkHtml = 'Like what you see? Visit the ' +\n",
              "          '<a target=\"_blank\" href=https://colab.research.google.com/notebooks/data_table.ipynb>data table notebook</a>'\n",
              "          + ' to learn more about interactive tables.';\n",
              "        element.innerHTML = '';\n",
              "        dataTable['output_type'] = 'display_data';\n",
              "        await google.colab.output.renderOutput(dataTable, element);\n",
              "        const docLink = document.createElement('div');\n",
              "        docLink.innerHTML = docLinkHtml;\n",
              "        element.appendChild(docLink);\n",
              "      }\n",
              "    </script>\n",
              "  </div>\n",
              "\n",
              "\n",
              "<div id=\"df-48edfadc-3dd5-4e3f-b0b0-53ada064d6aa\">\n",
              "  <button class=\"colab-df-quickchart\" onclick=\"quickchart('df-48edfadc-3dd5-4e3f-b0b0-53ada064d6aa')\"\n",
              "            title=\"Suggest charts\"\n",
              "            style=\"display:none;\">\n",
              "\n",
              "<svg xmlns=\"http://www.w3.org/2000/svg\" height=\"24px\"viewBox=\"0 0 24 24\"\n",
              "     width=\"24px\">\n",
              "    <g>\n",
              "        <path d=\"M19 3H5c-1.1 0-2 .9-2 2v14c0 1.1.9 2 2 2h14c1.1 0 2-.9 2-2V5c0-1.1-.9-2-2-2zM9 17H7v-7h2v7zm4 0h-2V7h2v10zm4 0h-2v-4h2v4z\"/>\n",
              "    </g>\n",
              "</svg>\n",
              "  </button>\n",
              "\n",
              "<style>\n",
              "  .colab-df-quickchart {\n",
              "      --bg-color: #E8F0FE;\n",
              "      --fill-color: #1967D2;\n",
              "      --hover-bg-color: #E2EBFA;\n",
              "      --hover-fill-color: #174EA6;\n",
              "      --disabled-fill-color: #AAA;\n",
              "      --disabled-bg-color: #DDD;\n",
              "  }\n",
              "\n",
              "  [theme=dark] .colab-df-quickchart {\n",
              "      --bg-color: #3B4455;\n",
              "      --fill-color: #D2E3FC;\n",
              "      --hover-bg-color: #434B5C;\n",
              "      --hover-fill-color: #FFFFFF;\n",
              "      --disabled-bg-color: #3B4455;\n",
              "      --disabled-fill-color: #666;\n",
              "  }\n",
              "\n",
              "  .colab-df-quickchart {\n",
              "    background-color: var(--bg-color);\n",
              "    border: none;\n",
              "    border-radius: 50%;\n",
              "    cursor: pointer;\n",
              "    display: none;\n",
              "    fill: var(--fill-color);\n",
              "    height: 32px;\n",
              "    padding: 0;\n",
              "    width: 32px;\n",
              "  }\n",
              "\n",
              "  .colab-df-quickchart:hover {\n",
              "    background-color: var(--hover-bg-color);\n",
              "    box-shadow: 0 1px 2px rgba(60, 64, 67, 0.3), 0 1px 3px 1px rgba(60, 64, 67, 0.15);\n",
              "    fill: var(--button-hover-fill-color);\n",
              "  }\n",
              "\n",
              "  .colab-df-quickchart-complete:disabled,\n",
              "  .colab-df-quickchart-complete:disabled:hover {\n",
              "    background-color: var(--disabled-bg-color);\n",
              "    fill: var(--disabled-fill-color);\n",
              "    box-shadow: none;\n",
              "  }\n",
              "\n",
              "  .colab-df-spinner {\n",
              "    border: 2px solid var(--fill-color);\n",
              "    border-color: transparent;\n",
              "    border-bottom-color: var(--fill-color);\n",
              "    animation:\n",
              "      spin 1s steps(1) infinite;\n",
              "  }\n",
              "\n",
              "  @keyframes spin {\n",
              "    0% {\n",
              "      border-color: transparent;\n",
              "      border-bottom-color: var(--fill-color);\n",
              "      border-left-color: var(--fill-color);\n",
              "    }\n",
              "    20% {\n",
              "      border-color: transparent;\n",
              "      border-left-color: var(--fill-color);\n",
              "      border-top-color: var(--fill-color);\n",
              "    }\n",
              "    30% {\n",
              "      border-color: transparent;\n",
              "      border-left-color: var(--fill-color);\n",
              "      border-top-color: var(--fill-color);\n",
              "      border-right-color: var(--fill-color);\n",
              "    }\n",
              "    40% {\n",
              "      border-color: transparent;\n",
              "      border-right-color: var(--fill-color);\n",
              "      border-top-color: var(--fill-color);\n",
              "    }\n",
              "    60% {\n",
              "      border-color: transparent;\n",
              "      border-right-color: var(--fill-color);\n",
              "    }\n",
              "    80% {\n",
              "      border-color: transparent;\n",
              "      border-right-color: var(--fill-color);\n",
              "      border-bottom-color: var(--fill-color);\n",
              "    }\n",
              "    90% {\n",
              "      border-color: transparent;\n",
              "      border-bottom-color: var(--fill-color);\n",
              "    }\n",
              "  }\n",
              "</style>\n",
              "\n",
              "  <script>\n",
              "    async function quickchart(key) {\n",
              "      const quickchartButtonEl =\n",
              "        document.querySelector('#' + key + ' button');\n",
              "      quickchartButtonEl.disabled = true;  // To prevent multiple clicks.\n",
              "      quickchartButtonEl.classList.add('colab-df-spinner');\n",
              "      try {\n",
              "        const charts = await google.colab.kernel.invokeFunction(\n",
              "            'suggestCharts', [key], {});\n",
              "      } catch (error) {\n",
              "        console.error('Error during call to suggestCharts:', error);\n",
              "      }\n",
              "      quickchartButtonEl.classList.remove('colab-df-spinner');\n",
              "      quickchartButtonEl.classList.add('colab-df-quickchart-complete');\n",
              "    }\n",
              "    (() => {\n",
              "      let quickchartButtonEl =\n",
              "        document.querySelector('#df-48edfadc-3dd5-4e3f-b0b0-53ada064d6aa button');\n",
              "      quickchartButtonEl.style.display =\n",
              "        google.colab.kernel.accessAllowed ? 'block' : 'none';\n",
              "    })();\n",
              "  </script>\n",
              "</div>\n",
              "\n",
              "    </div>\n",
              "  </div>\n"
            ],
            "application/vnd.google.colaboratory.intrinsic+json": {
              "type": "dataframe",
              "summary": "{\n  \"name\": \"pd\",\n  \"rows\": 66,\n  \"fields\": [\n    {\n      \"column\": \"C\\u00f3digo\",\n      \"properties\": {\n        \"dtype\": \"string\",\n        \"num_unique_values\": 53,\n        \"samples\": [\n          \"RDOR3\",\n          \"ARML3\",\n          \"IGTI3\"\n        ],\n        \"semantic_type\": \"\",\n        \"description\": \"\"\n      }\n    },\n    {\n      \"column\": \"Tipo\",\n      \"properties\": {\n        \"dtype\": \"category\",\n        \"num_unique_values\": 2,\n        \"samples\": [\n          \"JCP\",\n          \"Dividendo\"\n        ],\n        \"semantic_type\": \"\",\n        \"description\": \"\"\n      }\n    },\n    {\n      \"column\": \"Valor (R$)\",\n      \"properties\": {\n        \"dtype\": \"string\",\n        \"num_unique_values\": 56,\n        \"samples\": [\n          \"0,780000\",\n          \"0,023529\"\n        ],\n        \"semantic_type\": \"\",\n        \"description\": \"\"\n      }\n    },\n    {\n      \"column\": \"Registro\",\n      \"properties\": {\n        \"dtype\": \"object\",\n        \"num_unique_values\": 33,\n        \"samples\": [\n          \"05/10/2023\",\n          \"17/06/2024\"\n        ],\n        \"semantic_type\": \"\",\n        \"description\": \"\"\n      }\n    },\n    {\n      \"column\": \"Ex\",\n      \"properties\": {\n        \"dtype\": \"category\",\n        \"num_unique_values\": 31,\n        \"samples\": [\n          \"14/05/2024\",\n          \"05/07/2024\"\n        ],\n        \"semantic_type\": \"\",\n        \"description\": \"\"\n      }\n    },\n    {\n      \"column\": \"Pagamento\",\n      \"properties\": {\n        \"dtype\": \"category\",\n        \"num_unique_values\": 20,\n        \"samples\": [\n          \"01/07/2024\",\n          \"29/07/2024\"\n        ],\n        \"semantic_type\": \"\",\n        \"description\": \"\"\n      }\n    }\n  ]\n}"
            }
          },
          "metadata": {},
          "execution_count": 17
        }
      ]
    },
    {
      "cell_type": "code",
      "source": [
        "import requests\n",
        "from bs4 import BeautifulSoup\n",
        "import pandas as pd\n",
        "\n",
        "# URL do site\n",
        "url = \"https://www.dadosdemercado.com.br/agenda-de-dividendos\"\n",
        "\n",
        "# Fazer a requisição para o site\n",
        "response = requests.get(url)\n",
        "\n",
        "# Verificar se a requisição foi bem sucedida\n",
        "if response.status_code == 200:\n",
        "    # Parsear o conteúdo HTML\n",
        "    soup = BeautifulSoup(response.content, 'html.parser')\n",
        "\n",
        "    # Encontrar a tabela\n",
        "    table = soup.find('table')\n",
        "\n",
        "    # Ler a tabela com o pandas\n",
        "    df = pd.read_html(str(table))[0]\n",
        "\n",
        "    # Mostrar os dados extraídos\n",
        "    print(df)\n",
        "else:\n",
        "    print(f\"Erro ao acessar o site: {response.status_code}\")"
      ],
      "metadata": {
        "id": "UjY9wRL1WGX7",
        "colab": {
          "base_uri": "https://localhost:8080/"
        },
        "outputId": "c7716919-cd68-4649-ef5b-fc848ff14c2e"
      },
      "execution_count": 25,
      "outputs": [
        {
          "output_type": "stream",
          "name": "stdout",
          "text": [
            "    Código       Tipo  Valor (R$)    Registro          Ex   Pagamento\n",
            "0   ALUP11  Dividendo      780000  19/04/2024  22/04/2024  01/07/2024\n",
            "1    ALUP3  Dividendo      260000  19/04/2024  22/04/2024  01/07/2024\n",
            "2    ALUP4  Dividendo      260000  19/04/2024  22/04/2024  01/07/2024\n",
            "3    BBDC3        JCP       17250  03/06/2024  04/06/2024  01/07/2024\n",
            "4    BBDC4        JCP       18975  03/06/2024  04/06/2024  01/07/2024\n",
            "..     ...        ...         ...         ...         ...         ...\n",
            "61   ODER4        JCP      124000  07/07/2023          --  31/07/2024\n",
            "62   ODER4        JCP      124000  04/01/2024          --  31/07/2024\n",
            "63   ODER4        JCP      132000  05/10/2023          --  31/07/2024\n",
            "64   SMFT3        JCP       85289  21/06/2024  24/06/2024  31/07/2024\n",
            "65   TUPY3        JCP      255162  22/01/2024  23/01/2024  31/07/2024\n",
            "\n",
            "[66 rows x 6 columns]\n"
          ]
        }
      ]
    },
    {
      "cell_type": "code",
      "source": [
        "table = soup.find('table')"
      ],
      "metadata": {
        "id": "fjUzPXabij7V"
      },
      "execution_count": 23,
      "outputs": []
    },
    {
      "cell_type": "code",
      "source": [
        "table"
      ],
      "metadata": {
        "colab": {
          "base_uri": "https://localhost:8080/"
        },
        "id": "oOqyF8yiiscS",
        "outputId": "597fc0c9-0c15-4e90-a310-05832172322b"
      },
      "execution_count": 24,
      "outputs": [
        {
          "output_type": "execute_result",
          "data": {
            "text/plain": [
              "<table class=\"normal-table\">\n",
              "<thead>\n",
              "<tr>\n",
              "<th></th>\n",
              "<th class=\"right\">1T2024</th><th class=\"right\">4T2023</th><th class=\"right\">3T2023</th><th class=\"right\">2T2023</th><th class=\"right\">1T2023</th>\n",
              "</tr>\n",
              "</thead>\n",
              "<tbody>\n",
              "<tr>\n",
              "<td>Ativo total</td><td class=\"right\">458,03 B</td><td class=\"right\">455,98 B</td><td class=\"right\">445,62 B</td><td class=\"right\">441,04 B</td><td class=\"right\">444,77 B</td>\n",
              "</tr>\n",
              "<tr>\n",
              "<td>Ativo circulante</td><td class=\"right\">87,57 B\n",
              "                </td>\n",
              "<td class=\"right\">90,53 B\n",
              "                </td>\n",
              "<td class=\"right\">73,47 B\n",
              "                </td>\n",
              "<td class=\"right\">74,92 B\n",
              "                </td>\n",
              "<td class=\"right\">73,71 B\n",
              "                </td>\n",
              "</tr>\n",
              "<tr>\n",
              "<td>Caixa e equivalentes de caixa</td><td class=\"right\">18,93 B\n",
              "                </td><td class=\"right\">17,47 B\n",
              "                </td><td class=\"right\">19,86 B\n",
              "                </td><td class=\"right\">24,01 B\n",
              "                </td><td class=\"right\">23,90 B\n",
              "                </td>\n",
              "</tr>\n",
              "<tr>\n",
              "<td>Aplicações financeiras</td><td class=\"right\">221,00 M</td><td class=\"right\">250,00 M</td><td class=\"right\">304,00 M</td><td class=\"right\">225,00 M</td><td class=\"right\">271,00 M</td>\n",
              "</tr>\n",
              "<tr>\n",
              "<td>Contas a receber</td><td class=\"right\">11,16 B\n",
              "                </td>\n",
              "<td class=\"right\">20,32 B\n",
              "                </td>\n",
              "<td class=\"right\">16,77 B\n",
              "                </td>\n",
              "<td class=\"right\">14,30 B\n",
              "                </td>\n",
              "<td class=\"right\">13,65 B\n",
              "                </td>\n",
              "</tr>\n",
              "<tr>\n",
              "<td>Estoques</td><td class=\"right\">25,96 B</td><td class=\"right\">22,68 B</td><td class=\"right\">25,61 B</td><td class=\"right\">25,03 B</td><td class=\"right\">25,36 B</td>\n",
              "</tr>\n",
              "<tr>\n",
              "<td>Ativos biológicos</td><td class=\"right\">0\n",
              "                </td><td class=\"right\">0\n",
              "                </td><td class=\"right\">0\n",
              "                </td><td class=\"right\">0\n",
              "                </td><td class=\"right\">0\n",
              "                </td>\n",
              "</tr>\n",
              "<tr>\n",
              "<td>Ativo não circulante</td><td class=\"right\">370,46 B\n",
              "                </td><td class=\"right\">365,45 B\n",
              "                </td><td class=\"right\">372,15 B\n",
              "                </td><td class=\"right\">366,11 B\n",
              "                </td><td class=\"right\">371,06 B\n",
              "                </td>\n",
              "</tr>\n",
              "<tr>\n",
              "<td>Investimentos</td><td class=\"right\">9,46 B\n",
              "                </td>\n",
              "<td class=\"right\">9,06 B\n",
              "                </td>\n",
              "<td class=\"right\">9,63 B\n",
              "                </td>\n",
              "<td class=\"right\">9,16 B\n",
              "                </td>\n",
              "<td class=\"right\">9,02 B\n",
              "                </td>\n",
              "</tr>\n",
              "<tr>\n",
              "<td>Imobilizado</td><td class=\"right\">237,58 B\n",
              "                </td><td class=\"right\">234,30 B\n",
              "                </td><td class=\"right\">239,11 B\n",
              "                </td><td class=\"right\">234,53 B\n",
              "                </td><td class=\"right\">233,86 B\n",
              "                </td>\n",
              "</tr>\n",
              "<tr>\n",
              "<td>Intangível</td><td class=\"right\">56,25 B\n",
              "                </td>\n",
              "<td class=\"right\">56,31 B\n",
              "                </td>\n",
              "<td class=\"right\">52,99 B\n",
              "                </td>\n",
              "<td class=\"right\">53,02 B\n",
              "                </td>\n",
              "<td class=\"right\">53,08 B\n",
              "                </td>\n",
              "</tr>\n",
              "<tr>\n",
              "<td>Passivo total</td><td class=\"right\">458,03 B\n",
              "                </td>\n",
              "<td class=\"right\">455,98 B\n",
              "                </td>\n",
              "<td class=\"right\">445,62 B\n",
              "                </td>\n",
              "<td class=\"right\">441,04 B\n",
              "                </td>\n",
              "<td class=\"right\">444,77 B\n",
              "                </td>\n",
              "</tr>\n",
              "<tr>\n",
              "<td>Passivo circulante</td><td class=\"right\">78,33 B\n",
              "                </td><td class=\"right\">70,95 B\n",
              "                </td><td class=\"right\">68,32 B\n",
              "                </td><td class=\"right\">65,33 B\n",
              "                </td><td class=\"right\">65,93 B\n",
              "                </td>\n",
              "</tr>\n",
              "<tr>\n",
              "<td>Fornecedores</td><td class=\"right\">27,71 B</td>\n",
              "<td class=\"right\">25,52 B</td>\n",
              "<td class=\"right\">27,95 B</td>\n",
              "<td class=\"right\">25,25 B</td>\n",
              "<td class=\"right\">22,68 B</td>\n",
              "</tr>\n",
              "<tr>\n",
              "<td>Empréstimos e financiamentos</td><td class=\"right\">7,39 B\n",
              "                </td><td class=\"right\">4,94 B\n",
              "                </td><td class=\"right\">4,89 B\n",
              "                </td><td class=\"right\">4,39 B\n",
              "                </td><td class=\"right\">2,76 B\n",
              "                </td>\n",
              "</tr>\n",
              "<tr>\n",
              "<td>Passivo não circulante</td><td class=\"right\">184,87 B</td><td class=\"right\">186,71 B</td><td class=\"right\">179,63 B</td><td class=\"right\">181,59 B</td><td class=\"right\">181,37 B</td>\n",
              "</tr>\n",
              "<tr>\n",
              "<td>Empréstimos e financiamentos</td><td class=\"right\">65,92 B</td><td class=\"right\">62,46 B</td><td class=\"right\">65,40 B</td><td class=\"right\">62,77 B</td><td class=\"right\">63,20 B</td>\n",
              "</tr>\n",
              "<tr>\n",
              "<td>Patrimônio líquido</td><td class=\"right\">194,84 B\n",
              "                </td>\n",
              "<td class=\"right\">198,32 B\n",
              "                </td>\n",
              "<td class=\"right\">197,67 B\n",
              "                </td>\n",
              "<td class=\"right\">194,11 B\n",
              "                </td>\n",
              "<td class=\"right\">197,48 B\n",
              "                </td>\n",
              "</tr>\n",
              "<tr>\n",
              "<td>Aos não controladores</td><td class=\"right\">7,62 B</td><td class=\"right\">7,36 B</td><td class=\"right\">7,50 B</td><td class=\"right\">7,13 B</td><td class=\"right\">7,80 B</td>\n",
              "</tr>\n",
              "</tbody>\n",
              "</table>"
            ]
          },
          "metadata": {},
          "execution_count": 24
        }
      ]
    },
    {
      "cell_type": "code",
      "source": [
        "1000 / (1 + (10 / 100) * ( (1 * 252) /  252 ))"
      ],
      "metadata": {
        "colab": {
          "base_uri": "https://localhost:8080/"
        },
        "id": "aNuPFEqYvV8t",
        "outputId": "413967a6-7bff-404d-c767-061c645d3e67"
      },
      "execution_count": null,
      "outputs": [
        {
          "output_type": "execute_result",
          "data": {
            "text/plain": [
              "909.090909090909"
            ]
          },
          "metadata": {},
          "execution_count": 39
        }
      ]
    },
    {
      "cell_type": "code",
      "source": [
        "import pandas as pd\n",
        "\n",
        "headers = {\"User-Agent\": \"Mozilla/5.0\"}\n",
        "df = pd.read_html(\n",
        "    \"https://griffin.app.br/tickers/PETR4?s=-date&d=2022-05-24..2024-05-24\",\n",
        "    storage_options=headers\n",
        ")"
      ],
      "metadata": {
        "id": "GpQ2z-zNW-5L",
        "outputId": "5d030c4c-0ffc-44f4-f073-637462c1a4d2",
        "colab": {
          "base_uri": "https://localhost:8080/",
          "height": 211
        }
      },
      "execution_count": null,
      "outputs": [
        {
          "output_type": "error",
          "ename": "TypeError",
          "evalue": "read_html() got an unexpected keyword argument 'storage_options'",
          "traceback": [
            "\u001b[0;31m---------------------------------------------------------------------------\u001b[0m",
            "\u001b[0;31mTypeError\u001b[0m                                 Traceback (most recent call last)",
            "\u001b[0;32m<ipython-input-4-a4cf7965c2c0>\u001b[0m in \u001b[0;36m<cell line: 4>\u001b[0;34m()\u001b[0m\n\u001b[1;32m      2\u001b[0m \u001b[0;34m\u001b[0m\u001b[0m\n\u001b[1;32m      3\u001b[0m \u001b[0mheaders\u001b[0m \u001b[0;34m=\u001b[0m \u001b[0;34m{\u001b[0m\u001b[0;34m\"User-Agent\"\u001b[0m\u001b[0;34m:\u001b[0m \u001b[0;34m\"Mozilla/5.0\"\u001b[0m\u001b[0;34m}\u001b[0m\u001b[0;34m\u001b[0m\u001b[0;34m\u001b[0m\u001b[0m\n\u001b[0;32m----> 4\u001b[0;31m df = pd.read_html(\n\u001b[0m\u001b[1;32m      5\u001b[0m     \u001b[0;34m\"https://griffin.app.br/tickers/PETR4?s=-date&d=2022-05-24..2024-05-24\"\u001b[0m\u001b[0;34m,\u001b[0m\u001b[0;34m\u001b[0m\u001b[0;34m\u001b[0m\u001b[0m\n\u001b[1;32m      6\u001b[0m     \u001b[0mstorage_options\u001b[0m\u001b[0;34m=\u001b[0m\u001b[0mheaders\u001b[0m\u001b[0;34m\u001b[0m\u001b[0;34m\u001b[0m\u001b[0m\n",
            "\u001b[0;31mTypeError\u001b[0m: read_html() got an unexpected keyword argument 'storage_options'"
          ]
        }
      ]
    },
    {
      "cell_type": "code",
      "source": [
        "df = pd.read_html('https://griffin.app.br/tickers/PETR4?s=-date&d=2022-05-24..2024-05-24' )"
      ],
      "metadata": {
        "colab": {
          "base_uri": "https://localhost:8080/",
          "height": 287
        },
        "id": "AG9s8b0mWeQK",
        "outputId": "3309bda4-3be8-4c9c-e257-3dd98a2c814f"
      },
      "execution_count": null,
      "outputs": [
        {
          "output_type": "error",
          "ename": "HTTPError",
          "evalue": "HTTP Error 403: Forbidden",
          "traceback": [
            "\u001b[0;31m---------------------------------------------------------------------------\u001b[0m",
            "\u001b[0;31mHTTPError\u001b[0m                                 Traceback (most recent call last)",
            "\u001b[0;32m<ipython-input-3-17eb70e1e17b>\u001b[0m in \u001b[0;36m<cell line: 1>\u001b[0;34m()\u001b[0m\n\u001b[0;32m----> 1\u001b[0;31m \u001b[0mdf\u001b[0m \u001b[0;34m=\u001b[0m \u001b[0mpd\u001b[0m\u001b[0;34m.\u001b[0m\u001b[0mread_html\u001b[0m\u001b[0;34m(\u001b[0m\u001b[0;34m'https://griffin.app.br/tickers/PETR4?s=-date&d=2022-05-24..2024-05-24'\u001b[0m\u001b[0;34m)\u001b[0m\u001b[0;34m\u001b[0m\u001b[0;34m\u001b[0m\u001b[0m\n\u001b[0m",
            "\u001b[0;32m/usr/local/lib/python3.10/dist-packages/pandas/io/html.py\u001b[0m in \u001b[0;36mread_html\u001b[0;34m(io, match, flavor, header, index_col, skiprows, attrs, parse_dates, thousands, encoding, decimal, converters, na_values, keep_default_na, displayed_only, extract_links, dtype_backend)\u001b[0m\n\u001b[1;32m   1210\u001b[0m     \u001b[0mio\u001b[0m \u001b[0;34m=\u001b[0m \u001b[0mstringify_path\u001b[0m\u001b[0;34m(\u001b[0m\u001b[0mio\u001b[0m\u001b[0;34m)\u001b[0m\u001b[0;34m\u001b[0m\u001b[0;34m\u001b[0m\u001b[0m\n\u001b[1;32m   1211\u001b[0m \u001b[0;34m\u001b[0m\u001b[0m\n\u001b[0;32m-> 1212\u001b[0;31m     return _parse(\n\u001b[0m\u001b[1;32m   1213\u001b[0m         \u001b[0mflavor\u001b[0m\u001b[0;34m=\u001b[0m\u001b[0mflavor\u001b[0m\u001b[0;34m,\u001b[0m\u001b[0;34m\u001b[0m\u001b[0;34m\u001b[0m\u001b[0m\n\u001b[1;32m   1214\u001b[0m         \u001b[0mio\u001b[0m\u001b[0;34m=\u001b[0m\u001b[0mio\u001b[0m\u001b[0;34m,\u001b[0m\u001b[0;34m\u001b[0m\u001b[0;34m\u001b[0m\u001b[0m\n",
            "\u001b[0;32m/usr/local/lib/python3.10/dist-packages/pandas/io/html.py\u001b[0m in \u001b[0;36m_parse\u001b[0;34m(flavor, io, match, attrs, encoding, displayed_only, extract_links, **kwargs)\u001b[0m\n\u001b[1;32m    979\u001b[0m \u001b[0;34m\u001b[0m\u001b[0m\n\u001b[1;32m    980\u001b[0m         \u001b[0;32mtry\u001b[0m\u001b[0;34m:\u001b[0m\u001b[0;34m\u001b[0m\u001b[0;34m\u001b[0m\u001b[0m\n\u001b[0;32m--> 981\u001b[0;31m             \u001b[0mtables\u001b[0m \u001b[0;34m=\u001b[0m \u001b[0mp\u001b[0m\u001b[0;34m.\u001b[0m\u001b[0mparse_tables\u001b[0m\u001b[0;34m(\u001b[0m\u001b[0;34m)\u001b[0m\u001b[0;34m\u001b[0m\u001b[0;34m\u001b[0m\u001b[0m\n\u001b[0m\u001b[1;32m    982\u001b[0m         \u001b[0;32mexcept\u001b[0m \u001b[0mValueError\u001b[0m \u001b[0;32mas\u001b[0m \u001b[0mcaught\u001b[0m\u001b[0;34m:\u001b[0m\u001b[0;34m\u001b[0m\u001b[0;34m\u001b[0m\u001b[0m\n\u001b[1;32m    983\u001b[0m             \u001b[0;31m# if `io` is an io-like object, check if it's seekable\u001b[0m\u001b[0;34m\u001b[0m\u001b[0;34m\u001b[0m\u001b[0m\n",
            "\u001b[0;32m/usr/local/lib/python3.10/dist-packages/pandas/io/html.py\u001b[0m in \u001b[0;36mparse_tables\u001b[0;34m(self)\u001b[0m\n\u001b[1;32m    255\u001b[0m         \u001b[0mlist\u001b[0m \u001b[0mof\u001b[0m \u001b[0mparsed\u001b[0m \u001b[0;34m(\u001b[0m\u001b[0mheader\u001b[0m\u001b[0;34m,\u001b[0m \u001b[0mbody\u001b[0m\u001b[0;34m,\u001b[0m \u001b[0mfooter\u001b[0m\u001b[0;34m)\u001b[0m \u001b[0mtuples\u001b[0m \u001b[0;32mfrom\u001b[0m \u001b[0mtables\u001b[0m\u001b[0;34m.\u001b[0m\u001b[0;34m\u001b[0m\u001b[0;34m\u001b[0m\u001b[0m\n\u001b[1;32m    256\u001b[0m         \"\"\"\n\u001b[0;32m--> 257\u001b[0;31m         \u001b[0mtables\u001b[0m \u001b[0;34m=\u001b[0m \u001b[0mself\u001b[0m\u001b[0;34m.\u001b[0m\u001b[0m_parse_tables\u001b[0m\u001b[0;34m(\u001b[0m\u001b[0mself\u001b[0m\u001b[0;34m.\u001b[0m\u001b[0m_build_doc\u001b[0m\u001b[0;34m(\u001b[0m\u001b[0;34m)\u001b[0m\u001b[0;34m,\u001b[0m \u001b[0mself\u001b[0m\u001b[0;34m.\u001b[0m\u001b[0mmatch\u001b[0m\u001b[0;34m,\u001b[0m \u001b[0mself\u001b[0m\u001b[0;34m.\u001b[0m\u001b[0mattrs\u001b[0m\u001b[0;34m)\u001b[0m\u001b[0;34m\u001b[0m\u001b[0;34m\u001b[0m\u001b[0m\n\u001b[0m\u001b[1;32m    258\u001b[0m         \u001b[0;32mreturn\u001b[0m \u001b[0;34m(\u001b[0m\u001b[0mself\u001b[0m\u001b[0;34m.\u001b[0m\u001b[0m_parse_thead_tbody_tfoot\u001b[0m\u001b[0;34m(\u001b[0m\u001b[0mtable\u001b[0m\u001b[0;34m)\u001b[0m \u001b[0;32mfor\u001b[0m \u001b[0mtable\u001b[0m \u001b[0;32min\u001b[0m \u001b[0mtables\u001b[0m\u001b[0;34m)\u001b[0m\u001b[0;34m\u001b[0m\u001b[0;34m\u001b[0m\u001b[0m\n\u001b[1;32m    259\u001b[0m \u001b[0;34m\u001b[0m\u001b[0m\n",
            "\u001b[0;32m/usr/local/lib/python3.10/dist-packages/pandas/io/html.py\u001b[0m in \u001b[0;36m_build_doc\u001b[0;34m(self)\u001b[0m\n\u001b[1;32m    814\u001b[0m                     \u001b[0;32mpass\u001b[0m\u001b[0;34m\u001b[0m\u001b[0;34m\u001b[0m\u001b[0m\n\u001b[1;32m    815\u001b[0m             \u001b[0;32melse\u001b[0m\u001b[0;34m:\u001b[0m\u001b[0;34m\u001b[0m\u001b[0;34m\u001b[0m\u001b[0m\n\u001b[0;32m--> 816\u001b[0;31m                 \u001b[0;32mraise\u001b[0m \u001b[0me\u001b[0m\u001b[0;34m\u001b[0m\u001b[0;34m\u001b[0m\u001b[0m\n\u001b[0m\u001b[1;32m    817\u001b[0m         \u001b[0;32melse\u001b[0m\u001b[0;34m:\u001b[0m\u001b[0;34m\u001b[0m\u001b[0;34m\u001b[0m\u001b[0m\n\u001b[1;32m    818\u001b[0m             \u001b[0;32mif\u001b[0m \u001b[0;32mnot\u001b[0m \u001b[0mhasattr\u001b[0m\u001b[0;34m(\u001b[0m\u001b[0mr\u001b[0m\u001b[0;34m,\u001b[0m \u001b[0;34m\"text_content\"\u001b[0m\u001b[0;34m)\u001b[0m\u001b[0;34m:\u001b[0m\u001b[0;34m\u001b[0m\u001b[0;34m\u001b[0m\u001b[0m\n",
            "\u001b[0;32m/usr/local/lib/python3.10/dist-packages/pandas/io/html.py\u001b[0m in \u001b[0;36m_build_doc\u001b[0;34m(self)\u001b[0m\n\u001b[1;32m    795\u001b[0m         \u001b[0;32mtry\u001b[0m\u001b[0;34m:\u001b[0m\u001b[0;34m\u001b[0m\u001b[0;34m\u001b[0m\u001b[0m\n\u001b[1;32m    796\u001b[0m             \u001b[0;32mif\u001b[0m \u001b[0mis_url\u001b[0m\u001b[0;34m(\u001b[0m\u001b[0mself\u001b[0m\u001b[0;34m.\u001b[0m\u001b[0mio\u001b[0m\u001b[0;34m)\u001b[0m\u001b[0;34m:\u001b[0m\u001b[0;34m\u001b[0m\u001b[0;34m\u001b[0m\u001b[0m\n\u001b[0;32m--> 797\u001b[0;31m                 \u001b[0;32mwith\u001b[0m \u001b[0murlopen\u001b[0m\u001b[0;34m(\u001b[0m\u001b[0mself\u001b[0m\u001b[0;34m.\u001b[0m\u001b[0mio\u001b[0m\u001b[0;34m)\u001b[0m \u001b[0;32mas\u001b[0m \u001b[0mf\u001b[0m\u001b[0;34m:\u001b[0m\u001b[0;34m\u001b[0m\u001b[0;34m\u001b[0m\u001b[0m\n\u001b[0m\u001b[1;32m    798\u001b[0m                     \u001b[0mr\u001b[0m \u001b[0;34m=\u001b[0m \u001b[0mparse\u001b[0m\u001b[0;34m(\u001b[0m\u001b[0mf\u001b[0m\u001b[0;34m,\u001b[0m \u001b[0mparser\u001b[0m\u001b[0;34m=\u001b[0m\u001b[0mparser\u001b[0m\u001b[0;34m)\u001b[0m\u001b[0;34m\u001b[0m\u001b[0;34m\u001b[0m\u001b[0m\n\u001b[1;32m    799\u001b[0m             \u001b[0;32melse\u001b[0m\u001b[0;34m:\u001b[0m\u001b[0;34m\u001b[0m\u001b[0;34m\u001b[0m\u001b[0m\n",
            "\u001b[0;32m/usr/local/lib/python3.10/dist-packages/pandas/io/common.py\u001b[0m in \u001b[0;36murlopen\u001b[0;34m(*args, **kwargs)\u001b[0m\n\u001b[1;32m    268\u001b[0m     \u001b[0;32mimport\u001b[0m \u001b[0murllib\u001b[0m\u001b[0;34m.\u001b[0m\u001b[0mrequest\u001b[0m\u001b[0;34m\u001b[0m\u001b[0;34m\u001b[0m\u001b[0m\n\u001b[1;32m    269\u001b[0m \u001b[0;34m\u001b[0m\u001b[0m\n\u001b[0;32m--> 270\u001b[0;31m     \u001b[0;32mreturn\u001b[0m \u001b[0murllib\u001b[0m\u001b[0;34m.\u001b[0m\u001b[0mrequest\u001b[0m\u001b[0;34m.\u001b[0m\u001b[0murlopen\u001b[0m\u001b[0;34m(\u001b[0m\u001b[0;34m*\u001b[0m\u001b[0margs\u001b[0m\u001b[0;34m,\u001b[0m \u001b[0;34m**\u001b[0m\u001b[0mkwargs\u001b[0m\u001b[0;34m)\u001b[0m\u001b[0;34m\u001b[0m\u001b[0;34m\u001b[0m\u001b[0m\n\u001b[0m\u001b[1;32m    271\u001b[0m \u001b[0;34m\u001b[0m\u001b[0m\n\u001b[1;32m    272\u001b[0m \u001b[0;34m\u001b[0m\u001b[0m\n",
            "\u001b[0;32m/usr/lib/python3.10/urllib/request.py\u001b[0m in \u001b[0;36murlopen\u001b[0;34m(url, data, timeout, cafile, capath, cadefault, context)\u001b[0m\n\u001b[1;32m    214\u001b[0m     \u001b[0;32melse\u001b[0m\u001b[0;34m:\u001b[0m\u001b[0;34m\u001b[0m\u001b[0;34m\u001b[0m\u001b[0m\n\u001b[1;32m    215\u001b[0m         \u001b[0mopener\u001b[0m \u001b[0;34m=\u001b[0m \u001b[0m_opener\u001b[0m\u001b[0;34m\u001b[0m\u001b[0;34m\u001b[0m\u001b[0m\n\u001b[0;32m--> 216\u001b[0;31m     \u001b[0;32mreturn\u001b[0m \u001b[0mopener\u001b[0m\u001b[0;34m.\u001b[0m\u001b[0mopen\u001b[0m\u001b[0;34m(\u001b[0m\u001b[0murl\u001b[0m\u001b[0;34m,\u001b[0m \u001b[0mdata\u001b[0m\u001b[0;34m,\u001b[0m \u001b[0mtimeout\u001b[0m\u001b[0;34m)\u001b[0m\u001b[0;34m\u001b[0m\u001b[0;34m\u001b[0m\u001b[0m\n\u001b[0m\u001b[1;32m    217\u001b[0m \u001b[0;34m\u001b[0m\u001b[0m\n\u001b[1;32m    218\u001b[0m \u001b[0;32mdef\u001b[0m \u001b[0minstall_opener\u001b[0m\u001b[0;34m(\u001b[0m\u001b[0mopener\u001b[0m\u001b[0;34m)\u001b[0m\u001b[0;34m:\u001b[0m\u001b[0;34m\u001b[0m\u001b[0;34m\u001b[0m\u001b[0m\n",
            "\u001b[0;32m/usr/lib/python3.10/urllib/request.py\u001b[0m in \u001b[0;36mopen\u001b[0;34m(self, fullurl, data, timeout)\u001b[0m\n\u001b[1;32m    523\u001b[0m         \u001b[0;32mfor\u001b[0m \u001b[0mprocessor\u001b[0m \u001b[0;32min\u001b[0m \u001b[0mself\u001b[0m\u001b[0;34m.\u001b[0m\u001b[0mprocess_response\u001b[0m\u001b[0;34m.\u001b[0m\u001b[0mget\u001b[0m\u001b[0;34m(\u001b[0m\u001b[0mprotocol\u001b[0m\u001b[0;34m,\u001b[0m \u001b[0;34m[\u001b[0m\u001b[0;34m]\u001b[0m\u001b[0;34m)\u001b[0m\u001b[0;34m:\u001b[0m\u001b[0;34m\u001b[0m\u001b[0;34m\u001b[0m\u001b[0m\n\u001b[1;32m    524\u001b[0m             \u001b[0mmeth\u001b[0m \u001b[0;34m=\u001b[0m \u001b[0mgetattr\u001b[0m\u001b[0;34m(\u001b[0m\u001b[0mprocessor\u001b[0m\u001b[0;34m,\u001b[0m \u001b[0mmeth_name\u001b[0m\u001b[0;34m)\u001b[0m\u001b[0;34m\u001b[0m\u001b[0;34m\u001b[0m\u001b[0m\n\u001b[0;32m--> 525\u001b[0;31m             \u001b[0mresponse\u001b[0m \u001b[0;34m=\u001b[0m \u001b[0mmeth\u001b[0m\u001b[0;34m(\u001b[0m\u001b[0mreq\u001b[0m\u001b[0;34m,\u001b[0m \u001b[0mresponse\u001b[0m\u001b[0;34m)\u001b[0m\u001b[0;34m\u001b[0m\u001b[0;34m\u001b[0m\u001b[0m\n\u001b[0m\u001b[1;32m    526\u001b[0m \u001b[0;34m\u001b[0m\u001b[0m\n\u001b[1;32m    527\u001b[0m         \u001b[0;32mreturn\u001b[0m \u001b[0mresponse\u001b[0m\u001b[0;34m\u001b[0m\u001b[0;34m\u001b[0m\u001b[0m\n",
            "\u001b[0;32m/usr/lib/python3.10/urllib/request.py\u001b[0m in \u001b[0;36mhttp_response\u001b[0;34m(self, request, response)\u001b[0m\n\u001b[1;32m    632\u001b[0m         \u001b[0;31m# request was successfully received, understood, and accepted.\u001b[0m\u001b[0;34m\u001b[0m\u001b[0;34m\u001b[0m\u001b[0m\n\u001b[1;32m    633\u001b[0m         \u001b[0;32mif\u001b[0m \u001b[0;32mnot\u001b[0m \u001b[0;34m(\u001b[0m\u001b[0;36m200\u001b[0m \u001b[0;34m<=\u001b[0m \u001b[0mcode\u001b[0m \u001b[0;34m<\u001b[0m \u001b[0;36m300\u001b[0m\u001b[0;34m)\u001b[0m\u001b[0;34m:\u001b[0m\u001b[0;34m\u001b[0m\u001b[0;34m\u001b[0m\u001b[0m\n\u001b[0;32m--> 634\u001b[0;31m             response = self.parent.error(\n\u001b[0m\u001b[1;32m    635\u001b[0m                 'http', request, response, code, msg, hdrs)\n\u001b[1;32m    636\u001b[0m \u001b[0;34m\u001b[0m\u001b[0m\n",
            "\u001b[0;32m/usr/lib/python3.10/urllib/request.py\u001b[0m in \u001b[0;36merror\u001b[0;34m(self, proto, *args)\u001b[0m\n\u001b[1;32m    561\u001b[0m         \u001b[0;32mif\u001b[0m \u001b[0mhttp_err\u001b[0m\u001b[0;34m:\u001b[0m\u001b[0;34m\u001b[0m\u001b[0;34m\u001b[0m\u001b[0m\n\u001b[1;32m    562\u001b[0m             \u001b[0margs\u001b[0m \u001b[0;34m=\u001b[0m \u001b[0;34m(\u001b[0m\u001b[0mdict\u001b[0m\u001b[0;34m,\u001b[0m \u001b[0;34m'default'\u001b[0m\u001b[0;34m,\u001b[0m \u001b[0;34m'http_error_default'\u001b[0m\u001b[0;34m)\u001b[0m \u001b[0;34m+\u001b[0m \u001b[0morig_args\u001b[0m\u001b[0;34m\u001b[0m\u001b[0;34m\u001b[0m\u001b[0m\n\u001b[0;32m--> 563\u001b[0;31m             \u001b[0;32mreturn\u001b[0m \u001b[0mself\u001b[0m\u001b[0;34m.\u001b[0m\u001b[0m_call_chain\u001b[0m\u001b[0;34m(\u001b[0m\u001b[0;34m*\u001b[0m\u001b[0margs\u001b[0m\u001b[0;34m)\u001b[0m\u001b[0;34m\u001b[0m\u001b[0;34m\u001b[0m\u001b[0m\n\u001b[0m\u001b[1;32m    564\u001b[0m \u001b[0;34m\u001b[0m\u001b[0m\n\u001b[1;32m    565\u001b[0m \u001b[0;31m# XXX probably also want an abstract factory that knows when it makes\u001b[0m\u001b[0;34m\u001b[0m\u001b[0;34m\u001b[0m\u001b[0m\n",
            "\u001b[0;32m/usr/lib/python3.10/urllib/request.py\u001b[0m in \u001b[0;36m_call_chain\u001b[0;34m(self, chain, kind, meth_name, *args)\u001b[0m\n\u001b[1;32m    494\u001b[0m         \u001b[0;32mfor\u001b[0m \u001b[0mhandler\u001b[0m \u001b[0;32min\u001b[0m \u001b[0mhandlers\u001b[0m\u001b[0;34m:\u001b[0m\u001b[0;34m\u001b[0m\u001b[0;34m\u001b[0m\u001b[0m\n\u001b[1;32m    495\u001b[0m             \u001b[0mfunc\u001b[0m \u001b[0;34m=\u001b[0m \u001b[0mgetattr\u001b[0m\u001b[0;34m(\u001b[0m\u001b[0mhandler\u001b[0m\u001b[0;34m,\u001b[0m \u001b[0mmeth_name\u001b[0m\u001b[0;34m)\u001b[0m\u001b[0;34m\u001b[0m\u001b[0;34m\u001b[0m\u001b[0m\n\u001b[0;32m--> 496\u001b[0;31m             \u001b[0mresult\u001b[0m \u001b[0;34m=\u001b[0m \u001b[0mfunc\u001b[0m\u001b[0;34m(\u001b[0m\u001b[0;34m*\u001b[0m\u001b[0margs\u001b[0m\u001b[0;34m)\u001b[0m\u001b[0;34m\u001b[0m\u001b[0;34m\u001b[0m\u001b[0m\n\u001b[0m\u001b[1;32m    497\u001b[0m             \u001b[0;32mif\u001b[0m \u001b[0mresult\u001b[0m \u001b[0;32mis\u001b[0m \u001b[0;32mnot\u001b[0m \u001b[0;32mNone\u001b[0m\u001b[0;34m:\u001b[0m\u001b[0;34m\u001b[0m\u001b[0;34m\u001b[0m\u001b[0m\n\u001b[1;32m    498\u001b[0m                 \u001b[0;32mreturn\u001b[0m \u001b[0mresult\u001b[0m\u001b[0;34m\u001b[0m\u001b[0;34m\u001b[0m\u001b[0m\n",
            "\u001b[0;32m/usr/lib/python3.10/urllib/request.py\u001b[0m in \u001b[0;36mhttp_error_default\u001b[0;34m(self, req, fp, code, msg, hdrs)\u001b[0m\n\u001b[1;32m    641\u001b[0m \u001b[0;32mclass\u001b[0m \u001b[0mHTTPDefaultErrorHandler\u001b[0m\u001b[0;34m(\u001b[0m\u001b[0mBaseHandler\u001b[0m\u001b[0;34m)\u001b[0m\u001b[0;34m:\u001b[0m\u001b[0;34m\u001b[0m\u001b[0;34m\u001b[0m\u001b[0m\n\u001b[1;32m    642\u001b[0m     \u001b[0;32mdef\u001b[0m \u001b[0mhttp_error_default\u001b[0m\u001b[0;34m(\u001b[0m\u001b[0mself\u001b[0m\u001b[0;34m,\u001b[0m \u001b[0mreq\u001b[0m\u001b[0;34m,\u001b[0m \u001b[0mfp\u001b[0m\u001b[0;34m,\u001b[0m \u001b[0mcode\u001b[0m\u001b[0;34m,\u001b[0m \u001b[0mmsg\u001b[0m\u001b[0;34m,\u001b[0m \u001b[0mhdrs\u001b[0m\u001b[0;34m)\u001b[0m\u001b[0;34m:\u001b[0m\u001b[0;34m\u001b[0m\u001b[0;34m\u001b[0m\u001b[0m\n\u001b[0;32m--> 643\u001b[0;31m         \u001b[0;32mraise\u001b[0m \u001b[0mHTTPError\u001b[0m\u001b[0;34m(\u001b[0m\u001b[0mreq\u001b[0m\u001b[0;34m.\u001b[0m\u001b[0mfull_url\u001b[0m\u001b[0;34m,\u001b[0m \u001b[0mcode\u001b[0m\u001b[0;34m,\u001b[0m \u001b[0mmsg\u001b[0m\u001b[0;34m,\u001b[0m \u001b[0mhdrs\u001b[0m\u001b[0;34m,\u001b[0m \u001b[0mfp\u001b[0m\u001b[0;34m)\u001b[0m\u001b[0;34m\u001b[0m\u001b[0;34m\u001b[0m\u001b[0m\n\u001b[0m\u001b[1;32m    644\u001b[0m \u001b[0;34m\u001b[0m\u001b[0m\n\u001b[1;32m    645\u001b[0m \u001b[0;32mclass\u001b[0m \u001b[0mHTTPRedirectHandler\u001b[0m\u001b[0;34m(\u001b[0m\u001b[0mBaseHandler\u001b[0m\u001b[0;34m)\u001b[0m\u001b[0;34m:\u001b[0m\u001b[0;34m\u001b[0m\u001b[0;34m\u001b[0m\u001b[0m\n",
            "\u001b[0;31mHTTPError\u001b[0m: HTTP Error 403: Forbidden"
          ]
        }
      ]
    },
    {
      "cell_type": "code",
      "source": [
        "dict_indices = {\n",
        "    \"CDI\":{'cod_bcb':'11','texto_pos':\" %\",'descricao':'Descrição xxxx'},\n",
        "    \"SELIC\":{'cod_bcb':'432','texto_pos':\" %\",'descricao':'Descrição xxxx'},\n",
        "}\n"
      ],
      "metadata": {
        "id": "MJRz211XWnOl"
      },
      "execution_count": null,
      "outputs": []
    },
    {
      "cell_type": "code",
      "source": [
        "c = dict_indices"
      ],
      "metadata": {
        "id": "J6k0P6ePYYCI"
      },
      "execution_count": null,
      "outputs": []
    },
    {
      "cell_type": "code",
      "source": [
        "keys = list(indices.keys())"
      ],
      "metadata": {
        "id": "C2P4XN9DyOnE"
      },
      "execution_count": null,
      "outputs": []
    },
    {
      "cell_type": "code",
      "source": [
        "indices[keys[0]]['cod_bcb']"
      ],
      "metadata": {
        "colab": {
          "base_uri": "https://localhost:8080/",
          "height": 35
        },
        "id": "KuOMmW4n4-M0",
        "outputId": "98ca916c-590d-4583-a8d4-98388bff0285"
      },
      "execution_count": null,
      "outputs": [
        {
          "output_type": "execute_result",
          "data": {
            "text/plain": [
              "'11'"
            ],
            "application/vnd.google.colaboratory.intrinsic+json": {
              "type": "string"
            }
          },
          "metadata": {},
          "execution_count": 60
        }
      ]
    },
    {
      "cell_type": "code",
      "source": [
        "str(indices['CDI'])"
      ],
      "metadata": {
        "colab": {
          "base_uri": "https://localhost:8080/",
          "height": 35
        },
        "id": "ThhxlxTCyC8z",
        "outputId": "4fec3b65-845d-4faa-eb69-b8a54980b016"
      },
      "execution_count": null,
      "outputs": [
        {
          "output_type": "execute_result",
          "data": {
            "text/plain": [
              "'{'"
            ],
            "application/vnd.google.colaboratory.intrinsic+json": {
              "type": "string"
            }
          },
          "metadata": {},
          "execution_count": 44
        }
      ]
    },
    {
      "cell_type": "code",
      "source": [],
      "metadata": {
        "id": "J2avgveAarG_"
      },
      "execution_count": null,
      "outputs": []
    },
    {
      "cell_type": "code",
      "source": [
        "for ind in indices:\n",
        "  print(ind)"
      ],
      "metadata": {
        "colab": {
          "base_uri": "https://localhost:8080/"
        },
        "id": "UgRyZ8afYZx_",
        "outputId": "8079bee9-cf80-4e67-cd24-a06606120ccb"
      },
      "execution_count": null,
      "outputs": [
        {
          "output_type": "stream",
          "name": "stdout",
          "text": [
            "CDI\n",
            "SELIC\n"
          ]
        }
      ]
    },
    {
      "cell_type": "code",
      "source": [
        "for chave, valores in dict_indices.items():\n",
        "    print(f\"Chave: {chave}\")\n",
        "    print(\"Valores:\")\n",
        "    print(valores['cod_bcb'])\n",
        "    for chave_valor, valor in valores.items():\n",
        "        print(f\"  {chave_valor}: {valor}\")\n",
        "    print()"
      ],
      "metadata": {
        "colab": {
          "base_uri": "https://localhost:8080/"
        },
        "id": "PzzpuQnmZ8CW",
        "outputId": "2baa5036-1216-4a8d-8dd4-c52386260b1e"
      },
      "execution_count": null,
      "outputs": [
        {
          "output_type": "stream",
          "name": "stdout",
          "text": [
            "Chave: CDI\n",
            "Valores:\n",
            "11\n",
            "  cod_bcb: 11\n",
            "  texto_pos:  %\n",
            "  descricao: Descrição xxxx\n",
            "\n",
            "Chave: SELIC\n",
            "Valores:\n",
            "432\n",
            "  cod_bcb: 432\n",
            "  texto_pos:  %\n",
            "  descricao: Descrição xxxx\n",
            "\n"
          ]
        }
      ]
    },
    {
      "cell_type": "code",
      "source": [
        "valores['cod_bcb']"
      ],
      "metadata": {
        "colab": {
          "base_uri": "https://localhost:8080/",
          "height": 35
        },
        "id": "rDXrorjnbsfD",
        "outputId": "23346f21-2418-47e5-a195-6517b9b63b45"
      },
      "execution_count": null,
      "outputs": [
        {
          "output_type": "execute_result",
          "data": {
            "text/plain": [
              "'432'"
            ],
            "application/vnd.google.colaboratory.intrinsic+json": {
              "type": "string"
            }
          },
          "metadata": {},
          "execution_count": 29
        }
      ]
    },
    {
      "cell_type": "code",
      "source": [
        "col = ['c1', 'c2']"
      ],
      "metadata": {
        "id": "kN2f6sHyhhee"
      },
      "execution_count": null,
      "outputs": []
    },
    {
      "cell_type": "code",
      "source": [
        "from datetime import date,datetime, timedelta\n",
        "import pandas as pd"
      ],
      "metadata": {
        "id": "CAM57EsYFQM-"
      },
      "execution_count": null,
      "outputs": []
    },
    {
      "cell_type": "code",
      "source": [
        "dataInicial = datetime.now()\n",
        "dataFinal = dataInicial - timedelta(days=5)\n",
        "dataInicial = dataInicial.strftime('%d/%m/%Y')\n",
        "dataFinal = dataFinal.strftime('%d/%m/%Y')\n",
        "\n",
        "url = 'http://api.bcb.gov.br/dados/serie/bcdata.sgs.{}/dados?formato=json&dataInicial={}&dataFinal={}'\n",
        "url = url.format(11,dataInicial,dataFinal)\n"
      ],
      "metadata": {
        "id": "0w5qZWYVhj-Y"
      },
      "execution_count": null,
      "outputs": []
    },
    {
      "cell_type": "code",
      "source": [
        "tabela = pd.read_json(url)"
      ],
      "metadata": {
        "id": "7eBiddKLFfqj"
      },
      "execution_count": null,
      "outputs": []
    },
    {
      "cell_type": "code",
      "source": [
        "tabela.iloc[-1:]['valor'][1]"
      ],
      "metadata": {
        "colab": {
          "base_uri": "https://localhost:8080/"
        },
        "id": "M64oM_2GHAzc",
        "outputId": "e928b9b9-5f86-4fa0-b1b1-05ff479f049c"
      },
      "execution_count": null,
      "outputs": [
        {
          "output_type": "execute_result",
          "data": {
            "text/plain": [
              "0.03927"
            ]
          },
          "metadata": {},
          "execution_count": 100
        }
      ]
    },
    {
      "cell_type": "code",
      "source": [
        "vlr = tabela.tail(1)['valor'][1]"
      ],
      "metadata": {
        "id": "iOzwcGRnGI-s"
      },
      "execution_count": null,
      "outputs": []
    },
    {
      "cell_type": "code",
      "source": [
        "vlr"
      ],
      "metadata": {
        "colab": {
          "base_uri": "https://localhost:8080/"
        },
        "id": "A-qO9dQuGSH7",
        "outputId": "8ba7e6a3-d37f-49e2-aaa4-2417fba1bcbc"
      },
      "execution_count": null,
      "outputs": [
        {
          "output_type": "execute_result",
          "data": {
            "text/plain": [
              "0.03927"
            ]
          },
          "metadata": {},
          "execution_count": 97
        }
      ]
    }
  ]
}