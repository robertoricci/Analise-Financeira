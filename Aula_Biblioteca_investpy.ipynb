{
  "nbformat": 4,
  "nbformat_minor": 0,
  "metadata": {
    "colab": {
      "name": "Aula Biblioteca investpy.ipynb",
      "provenance": [],
      "authorship_tag": "ABX9TyM4Zlm/nORvkWqcNTtYv/o9"
    },
    "kernelspec": {
      "name": "python3",
      "display_name": "Python 3"
    },
    "language_info": {
      "name": "python"
    }
  },
  "cells": [
    {
      "cell_type": "markdown",
      "source": [
        "# Instalando investpy"
      ],
      "metadata": {
        "id": "iA_-ZrmaklTc"
      }
    },
    {
      "cell_type": "code",
      "execution_count": 1,
      "metadata": {
        "colab": {
          "base_uri": "https://localhost:8080/"
        },
        "id": "x8g218M_kaKA",
        "outputId": "3997e3a6-22c4-448f-f8bc-110ceaa15bc6"
      },
      "outputs": [
        {
          "output_type": "stream",
          "name": "stdout",
          "text": [
            "Looking in indexes: https://pypi.org/simple, https://us-python.pkg.dev/colab-wheels/public/simple/\n",
            "Collecting investpy\n",
            "  Downloading investpy-1.0.8.tar.gz (4.4 MB)\n",
            "\u001b[K     |████████████████████████████████| 4.4 MB 12.5 MB/s \n",
            "\u001b[?25hCollecting Unidecode>=1.1.1\n",
            "  Downloading Unidecode-1.3.4-py3-none-any.whl (235 kB)\n",
            "\u001b[K     |████████████████████████████████| 235 kB 30.8 MB/s \n",
            "\u001b[?25hRequirement already satisfied: setuptools>=41.2.0 in /usr/local/lib/python3.7/dist-packages (from investpy) (57.4.0)\n",
            "Requirement already satisfied: numpy>=1.17.2 in /usr/local/lib/python3.7/dist-packages (from investpy) (1.21.6)\n",
            "Requirement already satisfied: pandas>=0.25.1 in /usr/local/lib/python3.7/dist-packages (from investpy) (1.3.5)\n",
            "Collecting lxml>=4.4.1\n",
            "  Downloading lxml-4.9.1-cp37-cp37m-manylinux_2_17_x86_64.manylinux2014_x86_64.manylinux_2_24_x86_64.whl (6.4 MB)\n",
            "\u001b[K     |████████████████████████████████| 6.4 MB 40.0 MB/s \n",
            "\u001b[?25hRequirement already satisfied: requests>=2.22.0 in /usr/local/lib/python3.7/dist-packages (from investpy) (2.23.0)\n",
            "Requirement already satisfied: pytz>=2019.3 in /usr/local/lib/python3.7/dist-packages (from investpy) (2022.1)\n",
            "Requirement already satisfied: python-dateutil>=2.7.3 in /usr/local/lib/python3.7/dist-packages (from pandas>=0.25.1->investpy) (2.8.2)\n",
            "Requirement already satisfied: six>=1.5 in /usr/local/lib/python3.7/dist-packages (from python-dateutil>=2.7.3->pandas>=0.25.1->investpy) (1.15.0)\n",
            "Requirement already satisfied: idna<3,>=2.5 in /usr/local/lib/python3.7/dist-packages (from requests>=2.22.0->investpy) (2.10)\n",
            "Requirement already satisfied: chardet<4,>=3.0.2 in /usr/local/lib/python3.7/dist-packages (from requests>=2.22.0->investpy) (3.0.4)\n",
            "Requirement already satisfied: certifi>=2017.4.17 in /usr/local/lib/python3.7/dist-packages (from requests>=2.22.0->investpy) (2022.6.15)\n",
            "Requirement already satisfied: urllib3!=1.25.0,!=1.25.1,<1.26,>=1.21.1 in /usr/local/lib/python3.7/dist-packages (from requests>=2.22.0->investpy) (1.24.3)\n",
            "Building wheels for collected packages: investpy\n",
            "  Building wheel for investpy (setup.py) ... \u001b[?25l\u001b[?25hdone\n",
            "  Created wheel for investpy: filename=investpy-1.0.8-py3-none-any.whl size=4481592 sha256=58a37daa43ccd2e94a43c702b6935a2adc1197173b5763f2e0946be07df77c63\n",
            "  Stored in directory: /root/.cache/pip/wheels/96/a8/a5/0d33c72eaf00b41df7b9dc1e15d2b7c7154b3f1379ed350211\n",
            "Successfully built investpy\n",
            "Installing collected packages: Unidecode, lxml, investpy\n",
            "  Attempting uninstall: lxml\n",
            "    Found existing installation: lxml 4.2.6\n",
            "    Uninstalling lxml-4.2.6:\n",
            "      Successfully uninstalled lxml-4.2.6\n",
            "Successfully installed Unidecode-1.3.4 investpy-1.0.8 lxml-4.9.1\n"
          ]
        }
      ],
      "source": [
        "! pip install investpy"
      ]
    },
    {
      "cell_type": "code",
      "source": [
        "import pandas as pd\n",
        "import numpy as np\n",
        "import matplotlib.pyplot as plt\n",
        "import investpy"
      ],
      "metadata": {
        "id": "3AyWCdxAkqhj"
      },
      "execution_count": 2,
      "outputs": []
    },
    {
      "cell_type": "markdown",
      "source": [
        "# 1. Ações"
      ],
      "metadata": {
        "id": "6qJeA3C5kxuk"
      }
    },
    {
      "cell_type": "code",
      "source": [
        "search_results = investpy.search_quotes(text = 'PETRO', products= ['stocks'], countries= ['brazil'], n_results = 50)"
      ],
      "metadata": {
        "id": "R1n-7M-Pk03E"
      },
      "execution_count": 3,
      "outputs": []
    },
    {
      "cell_type": "code",
      "source": [
        "# pegar o item 1 não incluindo o item 2\n",
        "for search_result in search_results[1:2]:\n",
        "  print(search_result)"
      ],
      "metadata": {
        "colab": {
          "base_uri": "https://localhost:8080/"
        },
        "id": "S8yBmlt5k3aj",
        "outputId": "e16e7ebc-6663-481e-f6e5-e17b26823993"
      },
      "execution_count": 4,
      "outputs": [
        {
          "output_type": "stream",
          "name": "stdout",
          "text": [
            "{\"id_\": 18750, \"name\": \"Petroleo Brasileiro SA PN\", \"symbol\": \"PETR4\", \"country\": \"brazil\", \"tag\": \"/equities/petrobras-pn\", \"pair_type\": \"stocks\", \"exchange\": \"BM&FBovespa\"}\n"
          ]
        }
      ]
    },
    {
      "cell_type": "code",
      "source": [
        "petr = search_result.retrieve_historical_data(from_date = '01/01/2020', to_date = '12/07/2022')"
      ],
      "metadata": {
        "id": "kgG2WHN_k6xr"
      },
      "execution_count": 6,
      "outputs": []
    },
    {
      "cell_type": "code",
      "source": [
        "# OHLC: Open, High, Low, Close\n",
        "petr.head()"
      ],
      "metadata": {
        "colab": {
          "base_uri": "https://localhost:8080/",
          "height": 237
        },
        "id": "VkBh2xGelBC6",
        "outputId": "37e7b2f9-4caf-49e3-815f-29e4d52d2197"
      },
      "execution_count": 10,
      "outputs": [
        {
          "output_type": "execute_result",
          "data": {
            "text/plain": [
              "             Open   High    Low  Close    Volume  Change Pct\n",
              "Date                                                        \n",
              "2020-01-02  30.51  30.70  30.31  30.70  37774500        1.72\n",
              "2020-01-03  30.88  31.24  30.45  30.45  71595600       -0.81\n",
              "2020-01-06  30.43  30.94  29.95  30.81  81844000        1.18\n",
              "2020-01-07  30.82  30.88  30.47  30.69  32822000       -0.39\n",
              "2020-01-08  30.69  30.77  30.24  30.50  48215600       -0.62"
            ],
            "text/html": [
              "\n",
              "  <div id=\"df-ebdba406-e782-4198-928b-01891f84ba14\">\n",
              "    <div class=\"colab-df-container\">\n",
              "      <div>\n",
              "<style scoped>\n",
              "    .dataframe tbody tr th:only-of-type {\n",
              "        vertical-align: middle;\n",
              "    }\n",
              "\n",
              "    .dataframe tbody tr th {\n",
              "        vertical-align: top;\n",
              "    }\n",
              "\n",
              "    .dataframe thead th {\n",
              "        text-align: right;\n",
              "    }\n",
              "</style>\n",
              "<table border=\"1\" class=\"dataframe\">\n",
              "  <thead>\n",
              "    <tr style=\"text-align: right;\">\n",
              "      <th></th>\n",
              "      <th>Open</th>\n",
              "      <th>High</th>\n",
              "      <th>Low</th>\n",
              "      <th>Close</th>\n",
              "      <th>Volume</th>\n",
              "      <th>Change Pct</th>\n",
              "    </tr>\n",
              "    <tr>\n",
              "      <th>Date</th>\n",
              "      <th></th>\n",
              "      <th></th>\n",
              "      <th></th>\n",
              "      <th></th>\n",
              "      <th></th>\n",
              "      <th></th>\n",
              "    </tr>\n",
              "  </thead>\n",
              "  <tbody>\n",
              "    <tr>\n",
              "      <th>2020-01-02</th>\n",
              "      <td>30.51</td>\n",
              "      <td>30.70</td>\n",
              "      <td>30.31</td>\n",
              "      <td>30.70</td>\n",
              "      <td>37774500</td>\n",
              "      <td>1.72</td>\n",
              "    </tr>\n",
              "    <tr>\n",
              "      <th>2020-01-03</th>\n",
              "      <td>30.88</td>\n",
              "      <td>31.24</td>\n",
              "      <td>30.45</td>\n",
              "      <td>30.45</td>\n",
              "      <td>71595600</td>\n",
              "      <td>-0.81</td>\n",
              "    </tr>\n",
              "    <tr>\n",
              "      <th>2020-01-06</th>\n",
              "      <td>30.43</td>\n",
              "      <td>30.94</td>\n",
              "      <td>29.95</td>\n",
              "      <td>30.81</td>\n",
              "      <td>81844000</td>\n",
              "      <td>1.18</td>\n",
              "    </tr>\n",
              "    <tr>\n",
              "      <th>2020-01-07</th>\n",
              "      <td>30.82</td>\n",
              "      <td>30.88</td>\n",
              "      <td>30.47</td>\n",
              "      <td>30.69</td>\n",
              "      <td>32822000</td>\n",
              "      <td>-0.39</td>\n",
              "    </tr>\n",
              "    <tr>\n",
              "      <th>2020-01-08</th>\n",
              "      <td>30.69</td>\n",
              "      <td>30.77</td>\n",
              "      <td>30.24</td>\n",
              "      <td>30.50</td>\n",
              "      <td>48215600</td>\n",
              "      <td>-0.62</td>\n",
              "    </tr>\n",
              "  </tbody>\n",
              "</table>\n",
              "</div>\n",
              "      <button class=\"colab-df-convert\" onclick=\"convertToInteractive('df-ebdba406-e782-4198-928b-01891f84ba14')\"\n",
              "              title=\"Convert this dataframe to an interactive table.\"\n",
              "              style=\"display:none;\">\n",
              "        \n",
              "  <svg xmlns=\"http://www.w3.org/2000/svg\" height=\"24px\"viewBox=\"0 0 24 24\"\n",
              "       width=\"24px\">\n",
              "    <path d=\"M0 0h24v24H0V0z\" fill=\"none\"/>\n",
              "    <path d=\"M18.56 5.44l.94 2.06.94-2.06 2.06-.94-2.06-.94-.94-2.06-.94 2.06-2.06.94zm-11 1L8.5 8.5l.94-2.06 2.06-.94-2.06-.94L8.5 2.5l-.94 2.06-2.06.94zm10 10l.94 2.06.94-2.06 2.06-.94-2.06-.94-.94-2.06-.94 2.06-2.06.94z\"/><path d=\"M17.41 7.96l-1.37-1.37c-.4-.4-.92-.59-1.43-.59-.52 0-1.04.2-1.43.59L10.3 9.45l-7.72 7.72c-.78.78-.78 2.05 0 2.83L4 21.41c.39.39.9.59 1.41.59.51 0 1.02-.2 1.41-.59l7.78-7.78 2.81-2.81c.8-.78.8-2.07 0-2.86zM5.41 20L4 18.59l7.72-7.72 1.47 1.35L5.41 20z\"/>\n",
              "  </svg>\n",
              "      </button>\n",
              "      \n",
              "  <style>\n",
              "    .colab-df-container {\n",
              "      display:flex;\n",
              "      flex-wrap:wrap;\n",
              "      gap: 12px;\n",
              "    }\n",
              "\n",
              "    .colab-df-convert {\n",
              "      background-color: #E8F0FE;\n",
              "      border: none;\n",
              "      border-radius: 50%;\n",
              "      cursor: pointer;\n",
              "      display: none;\n",
              "      fill: #1967D2;\n",
              "      height: 32px;\n",
              "      padding: 0 0 0 0;\n",
              "      width: 32px;\n",
              "    }\n",
              "\n",
              "    .colab-df-convert:hover {\n",
              "      background-color: #E2EBFA;\n",
              "      box-shadow: 0px 1px 2px rgba(60, 64, 67, 0.3), 0px 1px 3px 1px rgba(60, 64, 67, 0.15);\n",
              "      fill: #174EA6;\n",
              "    }\n",
              "\n",
              "    [theme=dark] .colab-df-convert {\n",
              "      background-color: #3B4455;\n",
              "      fill: #D2E3FC;\n",
              "    }\n",
              "\n",
              "    [theme=dark] .colab-df-convert:hover {\n",
              "      background-color: #434B5C;\n",
              "      box-shadow: 0px 1px 3px 1px rgba(0, 0, 0, 0.15);\n",
              "      filter: drop-shadow(0px 1px 2px rgba(0, 0, 0, 0.3));\n",
              "      fill: #FFFFFF;\n",
              "    }\n",
              "  </style>\n",
              "\n",
              "      <script>\n",
              "        const buttonEl =\n",
              "          document.querySelector('#df-ebdba406-e782-4198-928b-01891f84ba14 button.colab-df-convert');\n",
              "        buttonEl.style.display =\n",
              "          google.colab.kernel.accessAllowed ? 'block' : 'none';\n",
              "\n",
              "        async function convertToInteractive(key) {\n",
              "          const element = document.querySelector('#df-ebdba406-e782-4198-928b-01891f84ba14');\n",
              "          const dataTable =\n",
              "            await google.colab.kernel.invokeFunction('convertToInteractive',\n",
              "                                                     [key], {});\n",
              "          if (!dataTable) return;\n",
              "\n",
              "          const docLinkHtml = 'Like what you see? Visit the ' +\n",
              "            '<a target=\"_blank\" href=https://colab.research.google.com/notebooks/data_table.ipynb>data table notebook</a>'\n",
              "            + ' to learn more about interactive tables.';\n",
              "          element.innerHTML = '';\n",
              "          dataTable['output_type'] = 'display_data';\n",
              "          await google.colab.output.renderOutput(dataTable, element);\n",
              "          const docLink = document.createElement('div');\n",
              "          docLink.innerHTML = docLinkHtml;\n",
              "          element.appendChild(docLink);\n",
              "        }\n",
              "      </script>\n",
              "    </div>\n",
              "  </div>\n",
              "  "
            ]
          },
          "metadata": {},
          "execution_count": 10
        }
      ]
    },
    {
      "cell_type": "code",
      "source": [
        "petr['Close'].plot()"
      ],
      "metadata": {
        "colab": {
          "base_uri": "https://localhost:8080/",
          "height": 294
        },
        "id": "bNSDd4Fsldv7",
        "outputId": "4c96e86f-b505-4546-ca5c-f1fdfb95b222"
      },
      "execution_count": 8,
      "outputs": [
        {
          "output_type": "execute_result",
          "data": {
            "text/plain": [
              "<matplotlib.axes._subplots.AxesSubplot at 0x7f6051c89cd0>"
            ]
          },
          "metadata": {},
          "execution_count": 8
        },
        {
          "output_type": "display_data",
          "data": {
            "text/plain": [
              "<Figure size 432x288 with 1 Axes>"
            ],
            "image/png": "[encoded data removed]"
          },
          "metadata": {
            "needs_background": "light"
          }
        }
      ]
    },
    {
      "cell_type": "code",
      "source": [
        "search_results = investpy.search_quotes(text = 'magazine', products= ['stocks'], countries= ['brazil'], n_results = 50)\n",
        "\n",
        "for search_result in search_results:\n",
        "  print(search_result)"
      ],
      "metadata": {
        "colab": {
          "base_uri": "https://localhost:8080/"
        },
        "id": "8xnoFpTal35C",
        "outputId": "ffd3246c-30e3-437d-ba13-d265c11084b1"
      },
      "execution_count": 24,
      "outputs": [
        {
          "output_type": "stream",
          "name": "stdout",
          "text": [
            "{\"id_\": 18729, \"name\": \"Magazine Luiza SA\", \"symbol\": \"MGLU3\", \"country\": \"brazil\", \"tag\": \"/equities/magaz-luiza-on-nm\", \"pair_type\": \"stocks\", \"exchange\": \"BM&FBovespa\"}\n"
          ]
        }
      ]
    },
    {
      "cell_type": "code",
      "source": [
        "mglu = search_result.retrieve_historical_data(from_date = '01/01/2020', to_date = '12/07/2022')"
      ],
      "metadata": {
        "id": "flQ0_DYc9XT1"
      },
      "execution_count": 27,
      "outputs": []
    },
    {
      "cell_type": "code",
      "source": [
        "mglu"
      ],
      "metadata": {
        "colab": {
          "base_uri": "https://localhost:8080/",
          "height": 455
        },
        "id": "We7DDlEl9w1t",
        "outputId": "9e7c7834-9e4d-45ab-9cfa-d3f03f951004"
      },
      "execution_count": 28,
      "outputs": [
        {
          "output_type": "execute_result",
          "data": {
            "text/plain": [
              "                Open      High       Low     Close    Volume  Change Pct\n",
              "Date                                                                    \n",
              "2020-01-02  115652.0  118573.0  115649.0  118573.0   5162711        2.53\n",
              "2020-01-03  118564.0  118792.0  117341.0  117707.0   6834513       -0.73\n",
              "2020-01-06  117707.0  117707.0  116269.0  116878.0   6569978       -0.70\n",
              "2020-01-07  116872.0  117076.0  115965.0  116662.0   4854136       -0.18\n",
              "2020-01-08  116667.0  117335.0  115693.0  116247.0   5910454       -0.36\n",
              "...              ...       ...       ...       ...       ...         ...\n",
              "2022-07-06   98294.0   99141.0   97423.0   98719.0  13348183        0.43\n",
              "2022-07-07   98722.0  101420.0   98722.0  100730.0  12696250        2.04\n",
              "2022-07-08  100732.0  101577.0   99958.0  100289.0   9730424       -0.44\n",
              "2022-07-11  100282.0  100282.0   97854.0   98212.0   8893352       -2.07\n",
              "2022-07-12   98212.0   98737.0   97253.0   98098.0  11485280       -0.12\n",
              "\n",
              "[628 rows x 6 columns]"
            ],
            "text/html": [
              "\n",
              "  <div id=\"df-62d4caed-3588-43fd-8790-3f8187654c5c\">\n",
              "    <div class=\"colab-df-container\">\n",
              "      <div>\n",
              "<style scoped>\n",
              "    .dataframe tbody tr th:only-of-type {\n",
              "        vertical-align: middle;\n",
              "    }\n",
              "\n",
              "    .dataframe tbody tr th {\n",
              "        vertical-align: top;\n",
              "    }\n",
              "\n",
              "    .dataframe thead th {\n",
              "        text-align: right;\n",
              "    }\n",
              "</style>\n",
              "<table border=\"1\" class=\"dataframe\">\n",
              "  <thead>\n",
              "    <tr style=\"text-align: right;\">\n",
              "      <th></th>\n",
              "      <th>Open</th>\n",
              "      <th>High</th>\n",
              "      <th>Low</th>\n",
              "      <th>Close</th>\n",
              "      <th>Volume</th>\n",
              "      <th>Change Pct</th>\n",
              "    </tr>\n",
              "    <tr>\n",
              "      <th>Date</th>\n",
              "      <th></th>\n",
              "      <th></th>\n",
              "      <th></th>\n",
              "      <th></th>\n",
              "      <th></th>\n",
              "      <th></th>\n",
              "    </tr>\n",
              "  </thead>\n",
              "  <tbody>\n",
              "    <tr>\n",
              "      <th>2020-01-02</th>\n",
              "      <td>115652.0</td>\n",
              "      <td>118573.0</td>\n",
              "      <td>115649.0</td>\n",
              "      <td>118573.0</td>\n",
              "      <td>5162711</td>\n",
              "      <td>2.53</td>\n",
              "    </tr>\n",
              "    <tr>\n",
              "      <th>2020-01-03</th>\n",
              "      <td>118564.0</td>\n",
              "      <td>118792.0</td>\n",
              "      <td>117341.0</td>\n",
              "      <td>117707.0</td>\n",
              "      <td>6834513</td>\n",
              "      <td>-0.73</td>\n",
              "    </tr>\n",
              "    <tr>\n",
              "      <th>2020-01-06</th>\n",
              "      <td>117707.0</td>\n",
              "      <td>117707.0</td>\n",
              "      <td>116269.0</td>\n",
              "      <td>116878.0</td>\n",
              "      <td>6569978</td>\n",
              "      <td>-0.70</td>\n",
              "    </tr>\n",
              "    <tr>\n",
              "      <th>2020-01-07</th>\n",
              "      <td>116872.0</td>\n",
              "      <td>117076.0</td>\n",
              "      <td>115965.0</td>\n",
              "      <td>116662.0</td>\n",
              "      <td>4854136</td>\n",
              "      <td>-0.18</td>\n",
              "    </tr>\n",
              "    <tr>\n",
              "      <th>2020-01-08</th>\n",
              "      <td>116667.0</td>\n",
              "      <td>117335.0</td>\n",
              "      <td>115693.0</td>\n",
              "      <td>116247.0</td>\n",
              "      <td>5910454</td>\n",
              "      <td>-0.36</td>\n",
              "    </tr>\n",
              "    <tr>\n",
              "      <th>...</th>\n",
              "      <td>...</td>\n",
              "      <td>...</td>\n",
              "      <td>...</td>\n",
              "      <td>...</td>\n",
              "      <td>...</td>\n",
              "      <td>...</td>\n",
              "    </tr>\n",
              "    <tr>\n",
              "      <th>2022-07-06</th>\n",
              "      <td>98294.0</td>\n",
              "      <td>99141.0</td>\n",
              "      <td>97423.0</td>\n",
              "      <td>98719.0</td>\n",
              "      <td>13348183</td>\n",
              "      <td>0.43</td>\n",
              "    </tr>\n",
              "    <tr>\n",
              "      <th>2022-07-07</th>\n",
              "      <td>98722.0</td>\n",
              "      <td>101420.0</td>\n",
              "      <td>98722.0</td>\n",
              "      <td>100730.0</td>\n",
              "      <td>12696250</td>\n",
              "      <td>2.04</td>\n",
              "    </tr>\n",
              "    <tr>\n",
              "      <th>2022-07-08</th>\n",
              "      <td>100732.0</td>\n",
              "      <td>101577.0</td>\n",
              "      <td>99958.0</td>\n",
              "      <td>100289.0</td>\n",
              "      <td>9730424</td>\n",
              "      <td>-0.44</td>\n",
              "    </tr>\n",
              "    <tr>\n",
              "      <th>2022-07-11</th>\n",
              "      <td>100282.0</td>\n",
              "      <td>100282.0</td>\n",
              "      <td>97854.0</td>\n",
              "      <td>98212.0</td>\n",
              "      <td>8893352</td>\n",
              "      <td>-2.07</td>\n",
              "    </tr>\n",
              "    <tr>\n",
              "      <th>2022-07-12</th>\n",
              "      <td>98212.0</td>\n",
              "      <td>98737.0</td>\n",
              "      <td>97253.0</td>\n",
              "      <td>98098.0</td>\n",
              "      <td>11485280</td>\n",
              "      <td>-0.12</td>\n",
              "    </tr>\n",
              "  </tbody>\n",
              "</table>\n",
              "<p>628 rows × 6 columns</p>\n",
              "</div>\n",
              "      <button class=\"colab-df-convert\" onclick=\"convertToInteractive('df-62d4caed-3588-43fd-8790-3f8187654c5c')\"\n",
              "              title=\"Convert this dataframe to an interactive table.\"\n",
              "              style=\"display:none;\">\n",
              "        \n",
              "  <svg xmlns=\"http://www.w3.org/2000/svg\" height=\"24px\"viewBox=\"0 0 24 24\"\n",
              "       width=\"24px\">\n",
              "    <path d=\"M0 0h24v24H0V0z\" fill=\"none\"/>\n",
              "    <path d=\"M18.56 5.44l.94 2.06.94-2.06 2.06-.94-2.06-.94-.94-2.06-.94 2.06-2.06.94zm-11 1L8.5 8.5l.94-2.06 2.06-.94-2.06-.94L8.5 2.5l-.94 2.06-2.06.94zm10 10l.94 2.06.94-2.06 2.06-.94-2.06-.94-.94-2.06-.94 2.06-2.06.94z\"/><path d=\"M17.41 7.96l-1.37-1.37c-.4-.4-.92-.59-1.43-.59-.52 0-1.04.2-1.43.59L10.3 9.45l-7.72 7.72c-.78.78-.78 2.05 0 2.83L4 21.41c.39.39.9.59 1.41.59.51 0 1.02-.2 1.41-.59l7.78-7.78 2.81-2.81c.8-.78.8-2.07 0-2.86zM5.41 20L4 18.59l7.72-7.72 1.47 1.35L5.41 20z\"/>\n",
              "  </svg>\n",
              "      </button>\n",
              "      \n",
              "  <style>\n",
              "    .colab-df-container {\n",
              "      display:flex;\n",
              "      flex-wrap:wrap;\n",
              "      gap: 12px;\n",
              "    }\n",
              "\n",
              "    .colab-df-convert {\n",
              "      background-color: #E8F0FE;\n",
              "      border: none;\n",
              "      border-radius: 50%;\n",
              "      cursor: pointer;\n",
              "      display: none;\n",
              "      fill: #1967D2;\n",
              "      height: 32px;\n",
              "      padding: 0 0 0 0;\n",
              "      width: 32px;\n",
              "    }\n",
              "\n",
              "    .colab-df-convert:hover {\n",
              "      background-color: #E2EBFA;\n",
              "      box-shadow: 0px 1px 2px rgba(60, 64, 67, 0.3), 0px 1px 3px 1px rgba(60, 64, 67, 0.15);\n",
              "      fill: #174EA6;\n",
              "    }\n",
              "\n",
              "    [theme=dark] .colab-df-convert {\n",
              "      background-color: #3B4455;\n",
              "      fill: #D2E3FC;\n",
              "    }\n",
              "\n",
              "    [theme=dark] .colab-df-convert:hover {\n",
              "      background-color: #434B5C;\n",
              "      box-shadow: 0px 1px 3px 1px rgba(0, 0, 0, 0.15);\n",
              "      filter: drop-shadow(0px 1px 2px rgba(0, 0, 0, 0.3));\n",
              "      fill: #FFFFFF;\n",
              "    }\n",
              "  </style>\n",
              "\n",
              "      <script>\n",
              "        const buttonEl =\n",
              "          document.querySelector('#df-62d4caed-3588-43fd-8790-3f8187654c5c button.colab-df-convert');\n",
              "        buttonEl.style.display =\n",
              "          google.colab.kernel.accessAllowed ? 'block' : 'none';\n",
              "\n",
              "        async function convertToInteractive(key) {\n",
              "          const element = document.querySelector('#df-62d4caed-3588-43fd-8790-3f8187654c5c');\n",
              "          const dataTable =\n",
              "            await google.colab.kernel.invokeFunction('convertToInteractive',\n",
              "                                                     [key], {});\n",
              "          if (!dataTable) return;\n",
              "\n",
              "          const docLinkHtml = 'Like what you see? Visit the ' +\n",
              "            '<a target=\"_blank\" href=https://colab.research.google.com/notebooks/data_table.ipynb>data table notebook</a>'\n",
              "            + ' to learn more about interactive tables.';\n",
              "          element.innerHTML = '';\n",
              "          dataTable['output_type'] = 'display_data';\n",
              "          await google.colab.output.renderOutput(dataTable, element);\n",
              "          const docLink = document.createElement('div');\n",
              "          docLink.innerHTML = docLinkHtml;\n",
              "          element.appendChild(docLink);\n",
              "        }\n",
              "      </script>\n",
              "    </div>\n",
              "  </div>\n",
              "  "
            ]
          },
          "metadata": {},
          "execution_count": 28
        }
      ]
    },
    {
      "cell_type": "code",
      "source": [
        "mglu['Close'].plot();"
      ],
      "metadata": {
        "colab": {
          "base_uri": "https://localhost:8080/",
          "height": 277
        },
        "id": "BbFSgSRR-VW8",
        "outputId": "2eb4ba23-32d1-4f66-e45a-a0c78076ff9c"
      },
      "execution_count": 19,
      "outputs": [
        {
          "output_type": "display_data",
          "data": {
            "text/plain": [
              "<Figure size 432x288 with 1 Axes>"
            ],
            "image/png": "[encoded data removed]"
          },
          "metadata": {
            "needs_background": "light"
          }
        }
      ]
    },
    {
      "cell_type": "markdown",
      "source": [
        "#2. Índices"
      ],
      "metadata": {
        "id": "7E0Xo1rq-pwt"
      }
    },
    {
      "cell_type": "code",
      "source": [
        "search_results = investpy.search_quotes(text = 'bvsp', products= ['indices'], countries= ['brazil'], n_results = 50)\n",
        "\n",
        "for search_result in search_results[0:1]:\n",
        "  print(search_result)"
      ],
      "metadata": {
        "colab": {
          "base_uri": "https://localhost:8080/"
        },
        "id": "UnnedkEUALSI",
        "outputId": "c2615dea-6a6f-41af-8395-164cf73eba50"
      },
      "execution_count": 25,
      "outputs": [
        {
          "output_type": "stream",
          "name": "stdout",
          "text": [
            "{\"id_\": 17920, \"name\": \"Bovespa\", \"symbol\": \"BVSP\", \"country\": \"brazil\", \"tag\": \"/indices/bovespa\", \"pair_type\": \"indices\", \"exchange\": \"BM&FBovespa\"}\n"
          ]
        }
      ]
    },
    {
      "cell_type": "code",
      "source": [
        "ibov = search_result.retrieve_historical_data(from_date = '01/01/2020', to_date = '12/07/2022')"
      ],
      "metadata": {
        "id": "LDs6STerAPPH"
      },
      "execution_count": 26,
      "outputs": []
    },
    {
      "cell_type": "code",
      "source": [
        "ibov"
      ],
      "metadata": {
        "colab": {
          "base_uri": "https://localhost:8080/",
          "height": 455
        },
        "id": "1IkVXXEsAVEd",
        "outputId": "5dae8176-466e-49e0-9617-a1f8c9d2ea68"
      },
      "execution_count": 29,
      "outputs": [
        {
          "output_type": "execute_result",
          "data": {
            "text/plain": [
              "                Open      High       Low     Close    Volume  Change Pct\n",
              "Date                                                                    \n",
              "2020-01-02  115652.0  118573.0  115649.0  118573.0   5162711        2.53\n",
              "2020-01-03  118564.0  118792.0  117341.0  117707.0   6834513       -0.73\n",
              "2020-01-06  117707.0  117707.0  116269.0  116878.0   6569978       -0.70\n",
              "2020-01-07  116872.0  117076.0  115965.0  116662.0   4854136       -0.18\n",
              "2020-01-08  116667.0  117335.0  115693.0  116247.0   5910454       -0.36\n",
              "...              ...       ...       ...       ...       ...         ...\n",
              "2022-07-06   98294.0   99141.0   97423.0   98719.0  13348183        0.43\n",
              "2022-07-07   98722.0  101420.0   98722.0  100730.0  12696250        2.04\n",
              "2022-07-08  100732.0  101577.0   99958.0  100289.0   9730424       -0.44\n",
              "2022-07-11  100282.0  100282.0   97854.0   98212.0   8893352       -2.07\n",
              "2022-07-12   98212.0   98737.0   97253.0   98100.0  11471356       -0.11\n",
              "\n",
              "[628 rows x 6 columns]"
            ],
            "text/html": [
              "\n",
              "  <div id=\"df-f35c86a6-0934-4526-b429-8014b1ea6d90\">\n",
              "    <div class=\"colab-df-container\">\n",
              "      <div>\n",
              "<style scoped>\n",
              "    .dataframe tbody tr th:only-of-type {\n",
              "        vertical-align: middle;\n",
              "    }\n",
              "\n",
              "    .dataframe tbody tr th {\n",
              "        vertical-align: top;\n",
              "    }\n",
              "\n",
              "    .dataframe thead th {\n",
              "        text-align: right;\n",
              "    }\n",
              "</style>\n",
              "<table border=\"1\" class=\"dataframe\">\n",
              "  <thead>\n",
              "    <tr style=\"text-align: right;\">\n",
              "      <th></th>\n",
              "      <th>Open</th>\n",
              "      <th>High</th>\n",
              "      <th>Low</th>\n",
              "      <th>Close</th>\n",
              "      <th>Volume</th>\n",
              "      <th>Change Pct</th>\n",
              "    </tr>\n",
              "    <tr>\n",
              "      <th>Date</th>\n",
              "      <th></th>\n",
              "      <th></th>\n",
              "      <th></th>\n",
              "      <th></th>\n",
              "      <th></th>\n",
              "      <th></th>\n",
              "    </tr>\n",
              "  </thead>\n",
              "  <tbody>\n",
              "    <tr>\n",
              "      <th>2020-01-02</th>\n",
              "      <td>115652.0</td>\n",
              "      <td>118573.0</td>\n",
              "      <td>115649.0</td>\n",
              "      <td>118573.0</td>\n",
              "      <td>5162711</td>\n",
              "      <td>2.53</td>\n",
              "    </tr>\n",
              "    <tr>\n",
              "      <th>2020-01-03</th>\n",
              "      <td>118564.0</td>\n",
              "      <td>118792.0</td>\n",
              "      <td>117341.0</td>\n",
              "      <td>117707.0</td>\n",
              "      <td>6834513</td>\n",
              "      <td>-0.73</td>\n",
              "    </tr>\n",
              "    <tr>\n",
              "      <th>2020-01-06</th>\n",
              "      <td>117707.0</td>\n",
              "      <td>117707.0</td>\n",
              "      <td>116269.0</td>\n",
              "      <td>116878.0</td>\n",
              "      <td>6569978</td>\n",
              "      <td>-0.70</td>\n",
              "    </tr>\n",
              "    <tr>\n",
              "      <th>2020-01-07</th>\n",
              "      <td>116872.0</td>\n",
              "      <td>117076.0</td>\n",
              "      <td>115965.0</td>\n",
              "      <td>116662.0</td>\n",
              "      <td>4854136</td>\n",
              "      <td>-0.18</td>\n",
              "    </tr>\n",
              "    <tr>\n",
              "      <th>2020-01-08</th>\n",
              "      <td>116667.0</td>\n",
              "      <td>117335.0</td>\n",
              "      <td>115693.0</td>\n",
              "      <td>116247.0</td>\n",
              "      <td>5910454</td>\n",
              "      <td>-0.36</td>\n",
              "    </tr>\n",
              "    <tr>\n",
              "      <th>...</th>\n",
              "      <td>...</td>\n",
              "      <td>...</td>\n",
              "      <td>...</td>\n",
              "      <td>...</td>\n",
              "      <td>...</td>\n",
              "      <td>...</td>\n",
              "    </tr>\n",
              "    <tr>\n",
              "      <th>2022-07-06</th>\n",
              "      <td>98294.0</td>\n",
              "      <td>99141.0</td>\n",
              "      <td>97423.0</td>\n",
              "      <td>98719.0</td>\n",
              "      <td>13348183</td>\n",
              "      <td>0.43</td>\n",
              "    </tr>\n",
              "    <tr>\n",
              "      <th>2022-07-07</th>\n",
              "      <td>98722.0</td>\n",
              "      <td>101420.0</td>\n",
              "      <td>98722.0</td>\n",
              "      <td>100730.0</td>\n",
              "      <td>12696250</td>\n",
              "      <td>2.04</td>\n",
              "    </tr>\n",
              "    <tr>\n",
              "      <th>2022-07-08</th>\n",
              "      <td>100732.0</td>\n",
              "      <td>101577.0</td>\n",
              "      <td>99958.0</td>\n",
              "      <td>100289.0</td>\n",
              "      <td>9730424</td>\n",
              "      <td>-0.44</td>\n",
              "    </tr>\n",
              "    <tr>\n",
              "      <th>2022-07-11</th>\n",
              "      <td>100282.0</td>\n",
              "      <td>100282.0</td>\n",
              "      <td>97854.0</td>\n",
              "      <td>98212.0</td>\n",
              "      <td>8893352</td>\n",
              "      <td>-2.07</td>\n",
              "    </tr>\n",
              "    <tr>\n",
              "      <th>2022-07-12</th>\n",
              "      <td>98212.0</td>\n",
              "      <td>98737.0</td>\n",
              "      <td>97253.0</td>\n",
              "      <td>98100.0</td>\n",
              "      <td>11471356</td>\n",
              "      <td>-0.11</td>\n",
              "    </tr>\n",
              "  </tbody>\n",
              "</table>\n",
              "<p>628 rows × 6 columns</p>\n",
              "</div>\n",
              "      <button class=\"colab-df-convert\" onclick=\"convertToInteractive('df-f35c86a6-0934-4526-b429-8014b1ea6d90')\"\n",
              "              title=\"Convert this dataframe to an interactive table.\"\n",
              "              style=\"display:none;\">\n",
              "        \n",
              "  <svg xmlns=\"http://www.w3.org/2000/svg\" height=\"24px\"viewBox=\"0 0 24 24\"\n",
              "       width=\"24px\">\n",
              "    <path d=\"M0 0h24v24H0V0z\" fill=\"none\"/>\n",
              "    <path d=\"M18.56 5.44l.94 2.06.94-2.06 2.06-.94-2.06-.94-.94-2.06-.94 2.06-2.06.94zm-11 1L8.5 8.5l.94-2.06 2.06-.94-2.06-.94L8.5 2.5l-.94 2.06-2.06.94zm10 10l.94 2.06.94-2.06 2.06-.94-2.06-.94-.94-2.06-.94 2.06-2.06.94z\"/><path d=\"M17.41 7.96l-1.37-1.37c-.4-.4-.92-.59-1.43-.59-.52 0-1.04.2-1.43.59L10.3 9.45l-7.72 7.72c-.78.78-.78 2.05 0 2.83L4 21.41c.39.39.9.59 1.41.59.51 0 1.02-.2 1.41-.59l7.78-7.78 2.81-2.81c.8-.78.8-2.07 0-2.86zM5.41 20L4 18.59l7.72-7.72 1.47 1.35L5.41 20z\"/>\n",
              "  </svg>\n",
              "      </button>\n",
              "      \n",
              "  <style>\n",
              "    .colab-df-container {\n",
              "      display:flex;\n",
              "      flex-wrap:wrap;\n",
              "      gap: 12px;\n",
              "    }\n",
              "\n",
              "    .colab-df-convert {\n",
              "      background-color: #E8F0FE;\n",
              "      border: none;\n",
              "      border-radius: 50%;\n",
              "      cursor: pointer;\n",
              "      display: none;\n",
              "      fill: #1967D2;\n",
              "      height: 32px;\n",
              "      padding: 0 0 0 0;\n",
              "      width: 32px;\n",
              "    }\n",
              "\n",
              "    .colab-df-convert:hover {\n",
              "      background-color: #E2EBFA;\n",
              "      box-shadow: 0px 1px 2px rgba(60, 64, 67, 0.3), 0px 1px 3px 1px rgba(60, 64, 67, 0.15);\n",
              "      fill: #174EA6;\n",
              "    }\n",
              "\n",
              "    [theme=dark] .colab-df-convert {\n",
              "      background-color: #3B4455;\n",
              "      fill: #D2E3FC;\n",
              "    }\n",
              "\n",
              "    [theme=dark] .colab-df-convert:hover {\n",
              "      background-color: #434B5C;\n",
              "      box-shadow: 0px 1px 3px 1px rgba(0, 0, 0, 0.15);\n",
              "      filter: drop-shadow(0px 1px 2px rgba(0, 0, 0, 0.3));\n",
              "      fill: #FFFFFF;\n",
              "    }\n",
              "  </style>\n",
              "\n",
              "      <script>\n",
              "        const buttonEl =\n",
              "          document.querySelector('#df-f35c86a6-0934-4526-b429-8014b1ea6d90 button.colab-df-convert');\n",
              "        buttonEl.style.display =\n",
              "          google.colab.kernel.accessAllowed ? 'block' : 'none';\n",
              "\n",
              "        async function convertToInteractive(key) {\n",
              "          const element = document.querySelector('#df-f35c86a6-0934-4526-b429-8014b1ea6d90');\n",
              "          const dataTable =\n",
              "            await google.colab.kernel.invokeFunction('convertToInteractive',\n",
              "                                                     [key], {});\n",
              "          if (!dataTable) return;\n",
              "\n",
              "          const docLinkHtml = 'Like what you see? Visit the ' +\n",
              "            '<a target=\"_blank\" href=https://colab.research.google.com/notebooks/data_table.ipynb>data table notebook</a>'\n",
              "            + ' to learn more about interactive tables.';\n",
              "          element.innerHTML = '';\n",
              "          dataTable['output_type'] = 'display_data';\n",
              "          await google.colab.output.renderOutput(dataTable, element);\n",
              "          const docLink = document.createElement('div');\n",
              "          docLink.innerHTML = docLinkHtml;\n",
              "          element.appendChild(docLink);\n",
              "        }\n",
              "      </script>\n",
              "    </div>\n",
              "  </div>\n",
              "  "
            ]
          },
          "metadata": {},
          "execution_count": 29
        }
      ]
    },
    {
      "cell_type": "code",
      "source": [
        "ibov['Close'].plot()"
      ],
      "metadata": {
        "colab": {
          "base_uri": "https://localhost:8080/",
          "height": 294
        },
        "id": "m7YlWQ_ICSid",
        "outputId": "7caf2d99-5e9d-4c2f-cc9c-304b7b573720"
      },
      "execution_count": 30,
      "outputs": [
        {
          "output_type": "execute_result",
          "data": {
            "text/plain": [
              "<matplotlib.axes._subplots.AxesSubplot at 0x7f604f9fab10>"
            ]
          },
          "metadata": {},
          "execution_count": 30
        },
        {
          "output_type": "display_data",
          "data": {
            "text/plain": [
              "<Figure size 432x288 with 1 Axes>"
            ],
            "image/png": "[encoded data removed]"
          },
          "metadata": {
            "needs_background": "light"
          }
        }
      ]
    },
    {
      "cell_type": "markdown",
      "source": [
        "#3. ETFS"
      ],
      "metadata": {
        "id": "Ue-aLjlkCbks"
      }
    },
    {
      "cell_type": "code",
      "source": [
        "#bova11\n",
        "bova11 = investpy.get_etf_historical_data(etf='Ishares Ibovespa',country='Brazil',from_date='01/01/2020',to_date='12/07/2022')"
      ],
      "metadata": {
        "id": "j7cYHHeWCa4E"
      },
      "execution_count": 33,
      "outputs": []
    },
    {
      "cell_type": "code",
      "source": [
        "bova11['Close'].plot() "
      ],
      "metadata": {
        "colab": {
          "base_uri": "https://localhost:8080/",
          "height": 294
        },
        "id": "MOOq0ehHDiDA",
        "outputId": "6cc748a2-2a4a-4fe6-ad94-0de7b89026ac"
      },
      "execution_count": 34,
      "outputs": [
        {
          "output_type": "execute_result",
          "data": {
            "text/plain": [
              "<matplotlib.axes._subplots.AxesSubplot at 0x7f604f553f10>"
            ]
          },
          "metadata": {},
          "execution_count": 34
        },
        {
          "output_type": "display_data",
          "data": {
            "text/plain": [
              "<Figure size 432x288 with 1 Axes>"
            ],
            "image/png": "[encoded data removed]"
          },
          "metadata": {
            "needs_background": "light"
          }
        }
      ]
    },
    {
      "cell_type": "code",
      "source": [
        "gold = investpy.get_etf_historical_data(etf='SPDR Gold Shares',country='united states',from_date='01/01/2020',to_date='12/07/2022')\n",
        "\n"
      ],
      "metadata": {
        "id": "0AvSrTshECxN"
      },
      "execution_count": 39,
      "outputs": []
    },
    {
      "cell_type": "code",
      "source": [
        "gold"
      ],
      "metadata": {
        "colab": {
          "base_uri": "https://localhost:8080/",
          "height": 455
        },
        "id": "GpKb7od_Exl9",
        "outputId": "8ef41c9f-55ca-441c-fc99-2bd31ed8fd1d"
      },
      "execution_count": 40,
      "outputs": [
        {
          "output_type": "execute_result",
          "data": {
            "text/plain": [
              "              Open    High     Low   Close    Volume Currency Exchange\n",
              "Date                                                                  \n",
              "2020-01-02  143.86  144.21  143.40  143.95   7736828      USD     NYSE\n",
              "2020-01-03  145.75  146.32  145.40  145.86  12285501      USD     NYSE\n",
              "2020-01-06  148.44  148.48  146.95  147.39  14409912      USD     NYSE\n",
              "2020-01-07  147.57  148.14  147.43  147.97   8401088      USD     NYSE\n",
              "2020-01-08  148.49  148.61  146.14  146.86  22276324      USD     NYSE\n",
              "...            ...     ...     ...     ...       ...      ...      ...\n",
              "2022-07-06  164.32  164.57  161.47  162.14  11781469      USD     NYSE\n",
              "2022-07-07  162.43  163.04  162.06  162.23   4575439      USD     NYSE\n",
              "2022-07-08  162.35  163.38  161.84  162.30   4584112      USD     NYSE\n",
              "2022-07-11  161.93  162.43  161.38  161.43   4029397      USD     NYSE\n",
              "2022-07-12  161.19  161.62  160.72  160.82   4943716      USD     NYSE\n",
              "\n",
              "[662 rows x 7 columns]"
            ],
            "text/html": [
              "\n",
              "  <div id=\"df-fc1ac6f8-2076-4850-9fe3-185cf295422a\">\n",
              "    <div class=\"colab-df-container\">\n",
              "      <div>\n",
              "<style scoped>\n",
              "    .dataframe tbody tr th:only-of-type {\n",
              "        vertical-align: middle;\n",
              "    }\n",
              "\n",
              "    .dataframe tbody tr th {\n",
              "        vertical-align: top;\n",
              "    }\n",
              "\n",
              "    .dataframe thead th {\n",
              "        text-align: right;\n",
              "    }\n",
              "</style>\n",
              "<table border=\"1\" class=\"dataframe\">\n",
              "  <thead>\n",
              "    <tr style=\"text-align: right;\">\n",
              "      <th></th>\n",
              "      <th>Open</th>\n",
              "      <th>High</th>\n",
              "      <th>Low</th>\n",
              "      <th>Close</th>\n",
              "      <th>Volume</th>\n",
              "      <th>Currency</th>\n",
              "      <th>Exchange</th>\n",
              "    </tr>\n",
              "    <tr>\n",
              "      <th>Date</th>\n",
              "      <th></th>\n",
              "      <th></th>\n",
              "      <th></th>\n",
              "      <th></th>\n",
              "      <th></th>\n",
              "      <th></th>\n",
              "      <th></th>\n",
              "    </tr>\n",
              "  </thead>\n",
              "  <tbody>\n",
              "    <tr>\n",
              "      <th>2020-01-02</th>\n",
              "      <td>143.86</td>\n",
              "      <td>144.21</td>\n",
              "      <td>143.40</td>\n",
              "      <td>143.95</td>\n",
              "      <td>7736828</td>\n",
              "      <td>USD</td>\n",
              "      <td>NYSE</td>\n",
              "    </tr>\n",
              "    <tr>\n",
              "      <th>2020-01-03</th>\n",
              "      <td>145.75</td>\n",
              "      <td>146.32</td>\n",
              "      <td>145.40</td>\n",
              "      <td>145.86</td>\n",
              "      <td>12285501</td>\n",
              "      <td>USD</td>\n",
              "      <td>NYSE</td>\n",
              "    </tr>\n",
              "    <tr>\n",
              "      <th>2020-01-06</th>\n",
              "      <td>148.44</td>\n",
              "      <td>148.48</td>\n",
              "      <td>146.95</td>\n",
              "      <td>147.39</td>\n",
              "      <td>14409912</td>\n",
              "      <td>USD</td>\n",
              "      <td>NYSE</td>\n",
              "    </tr>\n",
              "    <tr>\n",
              "      <th>2020-01-07</th>\n",
              "      <td>147.57</td>\n",
              "      <td>148.14</td>\n",
              "      <td>147.43</td>\n",
              "      <td>147.97</td>\n",
              "      <td>8401088</td>\n",
              "      <td>USD</td>\n",
              "      <td>NYSE</td>\n",
              "    </tr>\n",
              "    <tr>\n",
              "      <th>2020-01-08</th>\n",
              "      <td>148.49</td>\n",
              "      <td>148.61</td>\n",
              "      <td>146.14</td>\n",
              "      <td>146.86</td>\n",
              "      <td>22276324</td>\n",
              "      <td>USD</td>\n",
              "      <td>NYSE</td>\n",
              "    </tr>\n",
              "    <tr>\n",
              "      <th>...</th>\n",
              "      <td>...</td>\n",
              "      <td>...</td>\n",
              "      <td>...</td>\n",
              "      <td>...</td>\n",
              "      <td>...</td>\n",
              "      <td>...</td>\n",
              "      <td>...</td>\n",
              "    </tr>\n",
              "    <tr>\n",
              "      <th>2022-07-06</th>\n",
              "      <td>164.32</td>\n",
              "      <td>164.57</td>\n",
              "      <td>161.47</td>\n",
              "      <td>162.14</td>\n",
              "      <td>11781469</td>\n",
              "      <td>USD</td>\n",
              "      <td>NYSE</td>\n",
              "    </tr>\n",
              "    <tr>\n",
              "      <th>2022-07-07</th>\n",
              "      <td>162.43</td>\n",
              "      <td>163.04</td>\n",
              "      <td>162.06</td>\n",
              "      <td>162.23</td>\n",
              "      <td>4575439</td>\n",
              "      <td>USD</td>\n",
              "      <td>NYSE</td>\n",
              "    </tr>\n",
              "    <tr>\n",
              "      <th>2022-07-08</th>\n",
              "      <td>162.35</td>\n",
              "      <td>163.38</td>\n",
              "      <td>161.84</td>\n",
              "      <td>162.30</td>\n",
              "      <td>4584112</td>\n",
              "      <td>USD</td>\n",
              "      <td>NYSE</td>\n",
              "    </tr>\n",
              "    <tr>\n",
              "      <th>2022-07-11</th>\n",
              "      <td>161.93</td>\n",
              "      <td>162.43</td>\n",
              "      <td>161.38</td>\n",
              "      <td>161.43</td>\n",
              "      <td>4029397</td>\n",
              "      <td>USD</td>\n",
              "      <td>NYSE</td>\n",
              "    </tr>\n",
              "    <tr>\n",
              "      <th>2022-07-12</th>\n",
              "      <td>161.19</td>\n",
              "      <td>161.62</td>\n",
              "      <td>160.72</td>\n",
              "      <td>160.82</td>\n",
              "      <td>4943716</td>\n",
              "      <td>USD</td>\n",
              "      <td>NYSE</td>\n",
              "    </tr>\n",
              "  </tbody>\n",
              "</table>\n",
              "<p>662 rows × 7 columns</p>\n",
              "</div>\n",
              "      <button class=\"colab-df-convert\" onclick=\"convertToInteractive('df-fc1ac6f8-2076-4850-9fe3-185cf295422a')\"\n",
              "              title=\"Convert this dataframe to an interactive table.\"\n",
              "              style=\"display:none;\">\n",
              "        \n",
              "  <svg xmlns=\"http://www.w3.org/2000/svg\" height=\"24px\"viewBox=\"0 0 24 24\"\n",
              "       width=\"24px\">\n",
              "    <path d=\"M0 0h24v24H0V0z\" fill=\"none\"/>\n",
              "    <path d=\"M18.56 5.44l.94 2.06.94-2.06 2.06-.94-2.06-.94-.94-2.06-.94 2.06-2.06.94zm-11 1L8.5 8.5l.94-2.06 2.06-.94-2.06-.94L8.5 2.5l-.94 2.06-2.06.94zm10 10l.94 2.06.94-2.06 2.06-.94-2.06-.94-.94-2.06-.94 2.06-2.06.94z\"/><path d=\"M17.41 7.96l-1.37-1.37c-.4-.4-.92-.59-1.43-.59-.52 0-1.04.2-1.43.59L10.3 9.45l-7.72 7.72c-.78.78-.78 2.05 0 2.83L4 21.41c.39.39.9.59 1.41.59.51 0 1.02-.2 1.41-.59l7.78-7.78 2.81-2.81c.8-.78.8-2.07 0-2.86zM5.41 20L4 18.59l7.72-7.72 1.47 1.35L5.41 20z\"/>\n",
              "  </svg>\n",
              "      </button>\n",
              "      \n",
              "  <style>\n",
              "    .colab-df-container {\n",
              "      display:flex;\n",
              "      flex-wrap:wrap;\n",
              "      gap: 12px;\n",
              "    }\n",
              "\n",
              "    .colab-df-convert {\n",
              "      background-color: #E8F0FE;\n",
              "      border: none;\n",
              "      border-radius: 50%;\n",
              "      cursor: pointer;\n",
              "      display: none;\n",
              "      fill: #1967D2;\n",
              "      height: 32px;\n",
              "      padding: 0 0 0 0;\n",
              "      width: 32px;\n",
              "    }\n",
              "\n",
              "    .colab-df-convert:hover {\n",
              "      background-color: #E2EBFA;\n",
              "      box-shadow: 0px 1px 2px rgba(60, 64, 67, 0.3), 0px 1px 3px 1px rgba(60, 64, 67, 0.15);\n",
              "      fill: #174EA6;\n",
              "    }\n",
              "\n",
              "    [theme=dark] .colab-df-convert {\n",
              "      background-color: #3B4455;\n",
              "      fill: #D2E3FC;\n",
              "    }\n",
              "\n",
              "    [theme=dark] .colab-df-convert:hover {\n",
              "      background-color: #434B5C;\n",
              "      box-shadow: 0px 1px 3px 1px rgba(0, 0, 0, 0.15);\n",
              "      filter: drop-shadow(0px 1px 2px rgba(0, 0, 0, 0.3));\n",
              "      fill: #FFFFFF;\n",
              "    }\n",
              "  </style>\n",
              "\n",
              "      <script>\n",
              "        const buttonEl =\n",
              "          document.querySelector('#df-fc1ac6f8-2076-4850-9fe3-185cf295422a button.colab-df-convert');\n",
              "        buttonEl.style.display =\n",
              "          google.colab.kernel.accessAllowed ? 'block' : 'none';\n",
              "\n",
              "        async function convertToInteractive(key) {\n",
              "          const element = document.querySelector('#df-fc1ac6f8-2076-4850-9fe3-185cf295422a');\n",
              "          const dataTable =\n",
              "            await google.colab.kernel.invokeFunction('convertToInteractive',\n",
              "                                                     [key], {});\n",
              "          if (!dataTable) return;\n",
              "\n",
              "          const docLinkHtml = 'Like what you see? Visit the ' +\n",
              "            '<a target=\"_blank\" href=https://colab.research.google.com/notebooks/data_table.ipynb>data table notebook</a>'\n",
              "            + ' to learn more about interactive tables.';\n",
              "          element.innerHTML = '';\n",
              "          dataTable['output_type'] = 'display_data';\n",
              "          await google.colab.output.renderOutput(dataTable, element);\n",
              "          const docLink = document.createElement('div');\n",
              "          docLink.innerHTML = docLinkHtml;\n",
              "          element.appendChild(docLink);\n",
              "        }\n",
              "      </script>\n",
              "    </div>\n",
              "  </div>\n",
              "  "
            ]
          },
          "metadata": {},
          "execution_count": 40
        }
      ]
    },
    {
      "cell_type": "code",
      "source": [
        "gold['Close'].plot()"
      ],
      "metadata": {
        "colab": {
          "base_uri": "https://localhost:8080/",
          "height": 294
        },
        "id": "FRAvwK-0Ezvs",
        "outputId": "4624b90e-41e1-4196-af6f-455615d0df41"
      },
      "execution_count": 42,
      "outputs": [
        {
          "output_type": "execute_result",
          "data": {
            "text/plain": [
              "<matplotlib.axes._subplots.AxesSubplot at 0x7f604f66e8d0>"
            ]
          },
          "metadata": {},
          "execution_count": 42
        },
        {
          "output_type": "display_data",
          "data": {
            "text/plain": [
              "<Figure size 432x288 with 1 Axes>"
            ],
            "image/png": "[encoded data removed]"
          },
          "metadata": {
            "needs_background": "light"
          }
        }
      ]
    },
    {
      "cell_type": "code",
      "source": [
        ""
      ],
      "metadata": {
        "id": "Oe2yrBFRGGHq"
      },
      "execution_count": null,
      "outputs": []
    },
    {
      "cell_type": "code",
      "source": [
        "#etf brazileiro na bolsa americana\n",
        "\n",
        "search_results = investpy.search_quotes(text = 'ewz', products= ['etfs'], countries= ['united states'], n_results = 50)\n",
        "\n",
        "for search_result in search_results[0:1]:\n",
        "  print(search_result)"
      ],
      "metadata": {
        "colab": {
          "base_uri": "https://localhost:8080/"
        },
        "id": "ZtJBYTgIFy0b",
        "outputId": "0137974f-cf49-4243-9a61-b8e8213c28bc"
      },
      "execution_count": 46,
      "outputs": [
        {
          "output_type": "stream",
          "name": "stdout",
          "text": [
            "{\"id_\": 509, \"name\": \"iShares MSCI Brazil ETF\", \"symbol\": \"EWZ\", \"country\": \"united states\", \"tag\": \"/etfs/ishares-brazil-index\", \"pair_type\": \"etfs\", \"exchange\": \"NYSE\"}\n"
          ]
        }
      ]
    },
    {
      "cell_type": "code",
      "source": [
        "ewz = search_result.retrieve_historical_data(from_date = '01/01/2020', to_date = '12/07/2022')"
      ],
      "metadata": {
        "id": "Kj0dQIIMGKoD"
      },
      "execution_count": 48,
      "outputs": []
    },
    {
      "cell_type": "code",
      "source": [
        "ewz['Close'].plot()"
      ],
      "metadata": {
        "colab": {
          "base_uri": "https://localhost:8080/",
          "height": 294
        },
        "id": "SNbqnvBzGNPi",
        "outputId": "03a0f0fb-6576-4a5f-f8a7-593511da6085"
      },
      "execution_count": 49,
      "outputs": [
        {
          "output_type": "execute_result",
          "data": {
            "text/plain": [
              "<matplotlib.axes._subplots.AxesSubplot at 0x7f604f0fec90>"
            ]
          },
          "metadata": {},
          "execution_count": 49
        },
        {
          "output_type": "display_data",
          "data": {
            "text/plain": [
              "<Figure size 432x288 with 1 Axes>"
            ],
            "image/png": "[encoded data removed]"
          },
          "metadata": {
            "needs_background": "light"
          }
        }
      ]
    },
    {
      "cell_type": "markdown",
      "source": [
        "# 4. Commodities"
      ],
      "metadata": {
        "id": "W4PLkGkSHeCy"
      }
    },
    {
      "cell_type": "code",
      "source": [
        "search_results = investpy.search_quotes(text = 'soy', products= ['commodities'], countries= ['brazil'], n_results = 50)\n",
        "\n",
        "for search_result in search_results:\n",
        "  print(search_result)"
      ],
      "metadata": {
        "colab": {
          "base_uri": "https://localhost:8080/"
        },
        "id": "w-3pvngFHeu6",
        "outputId": "a42cdca5-7810-44ed-9b90-cf059571ef62"
      },
      "execution_count": 50,
      "outputs": [
        {
          "output_type": "stream",
          "name": "stdout",
          "text": [
            "{\"id_\": 964523, \"name\": \"US Soybeans Futures\", \"symbol\": \"SJCc1\", \"country\": null, \"tag\": \"/commodities/us-soybeans?cid=964523\", \"pair_type\": \"commodities\", \"exchange\": \"BM&FBovespa\"}\n"
          ]
        }
      ]
    },
    {
      "cell_type": "code",
      "source": [
        "soja_br = search_result.retrieve_historical_data(from_date = '01/01/2020', to_date = '12/07/2022')"
      ],
      "metadata": {
        "id": "bObUPi6xHjay"
      },
      "execution_count": 52,
      "outputs": []
    },
    {
      "cell_type": "code",
      "source": [
        "soja_br['Close'].plot(figsize = (7,7))"
      ],
      "metadata": {
        "colab": {
          "base_uri": "https://localhost:8080/",
          "height": 444
        },
        "id": "2GUBIA0XHq6J",
        "outputId": "e5a0161f-255a-4331-f6af-e08f0f133149"
      },
      "execution_count": 53,
      "outputs": [
        {
          "output_type": "execute_result",
          "data": {
            "text/plain": [
              "<matplotlib.axes._subplots.AxesSubplot at 0x7f604f797290>"
            ]
          },
          "metadata": {},
          "execution_count": 53
        },
        {
          "output_type": "display_data",
          "data": {
            "text/plain": [
              "<Figure size 504x504 with 1 Axes>"
            ],
            "image/png": "[encoded data removed]"
          },
          "metadata": {
            "needs_background": "light"
          }
        }
      ]
    },
    {
      "cell_type": "code",
      "source": [
        "search_results = investpy.search_quotes(text = 'corn', products= ['commodities'], countries= ['brazil'], n_results = 50)\n",
        "\n",
        "for search_result in search_results[2:3]:\n",
        "  print(search_result)"
      ],
      "metadata": {
        "colab": {
          "base_uri": "https://localhost:8080/"
        },
        "id": "dYaY3JNDHz8x",
        "outputId": "475b6b2c-f525-4e5f-cf8d-16b49c479c39"
      },
      "execution_count": 60,
      "outputs": [
        {
          "output_type": "stream",
          "name": "stdout",
          "text": [
            "{\"id_\": 964522, \"name\": \"US Corn Futures\", \"symbol\": \"CCMc1\", \"country\": null, \"tag\": \"/commodities/us-corn?cid=964522\", \"pair_type\": \"commodities\", \"exchange\": \"BM&FBovespa\"}\n"
          ]
        }
      ]
    },
    {
      "cell_type": "code",
      "source": [
        "milho_br = search_result.retrieve_historical_data(from_date = '01/01/2020', to_date = '12/07/2022')"
      ],
      "metadata": {
        "id": "j-ivsJK6H2Ml"
      },
      "execution_count": 61,
      "outputs": []
    },
    {
      "cell_type": "code",
      "source": [
        "milho_br['Close'].plot()"
      ],
      "metadata": {
        "colab": {
          "base_uri": "https://localhost:8080/",
          "height": 298
        },
        "id": "hX0qT6NXIY1s",
        "outputId": "cb1764d1-1956-41fb-e02c-f06b13446e5a"
      },
      "execution_count": 62,
      "outputs": [
        {
          "output_type": "execute_result",
          "data": {
            "text/plain": [
              "<matplotlib.axes._subplots.AxesSubplot at 0x7f604f6e4cd0>"
            ]
          },
          "metadata": {},
          "execution_count": 62
        },
        {
          "output_type": "display_data",
          "data": {
            "text/plain": [
              "<Figure size 432x288 with 1 Axes>"
            ],
            "image/png": "[encoded data removed]"
          },
          "metadata": {
            "needs_background": "light"
          }
        }
      ]
    },
    {
      "cell_type": "code",
      "source": [
        "search_results = investpy.search_quotes(text = 'cattle', products= ['commodities'], countries= ['brazil'], n_results = 50)\n",
        "\n",
        "for search_result in search_results[0:1]:\n",
        "  print(search_result)"
      ],
      "metadata": {
        "colab": {
          "base_uri": "https://localhost:8080/"
        },
        "id": "cqVutYazIjX6",
        "outputId": "3b29c417-5c60-47e2-f579-e263ee7ecb61"
      },
      "execution_count": 64,
      "outputs": [
        {
          "output_type": "stream",
          "name": "stdout",
          "text": [
            "{\"id_\": 964528, \"name\": \"Live Cattle Futures\", \"symbol\": \"BGIc1\", \"country\": null, \"tag\": \"/commodities/live-cattle?cid=964528\", \"pair_type\": \"commodities\", \"exchange\": \"BM&FBovespa\"}\n"
          ]
        }
      ]
    },
    {
      "cell_type": "code",
      "source": [
        "boi_gordo = search_result.retrieve_historical_data(from_date = '01/01/2020', to_date = '12/07/2022')"
      ],
      "metadata": {
        "id": "oHGC0ZkJIzHh"
      },
      "execution_count": 65,
      "outputs": []
    },
    {
      "cell_type": "code",
      "source": [
        "boi_gordo['Close'].plot(figsize= (8,8))"
      ],
      "metadata": {
        "colab": {
          "base_uri": "https://localhost:8080/",
          "height": 490
        },
        "id": "zeYs-UaiI22a",
        "outputId": "99d8844a-0cb4-4486-dddb-17f9a665ab7d"
      },
      "execution_count": 67,
      "outputs": [
        {
          "output_type": "execute_result",
          "data": {
            "text/plain": [
              "<matplotlib.axes._subplots.AxesSubplot at 0x7f604f4a6410>"
            ]
          },
          "metadata": {},
          "execution_count": 67
        },
        {
          "output_type": "display_data",
          "data": {
            "text/plain": [
              "<Figure size 576x576 with 1 Axes>"
            ],
            "image/png": "[encoded data removed]"
          },
          "metadata": {
            "needs_background": "light"
          }
        }
      ]
    },
    {
      "cell_type": "code",
      "source": [
        "search_results = investpy.search_quotes(text = 'lumber', products= ['commodities'], countries= ['united states'], n_results = 50)\n",
        "\n",
        "for search_result in search_results[0:1]:\n",
        "  print(search_result)"
      ],
      "metadata": {
        "colab": {
          "base_uri": "https://localhost:8080/"
        },
        "id": "o2Tas42LKHp5",
        "outputId": "3686939f-8574-42c8-bb48-c2c684291507"
      },
      "execution_count": 69,
      "outputs": [
        {
          "output_type": "stream",
          "name": "stdout",
          "text": [
            "{\"id_\": 959198, \"name\": \"Lumber Futures\", \"symbol\": \"LBc1\", \"country\": null, \"tag\": \"/commodities/lumber\", \"pair_type\": \"commodities\", \"exchange\": \"CME\"}\n"
          ]
        }
      ]
    },
    {
      "cell_type": "code",
      "source": [
        "lumber = search_result.retrieve_historical_data(from_date = '01/01/2020', to_date = '12/07/2022')"
      ],
      "metadata": {
        "id": "vxfOYzJ8KWj4"
      },
      "execution_count": 70,
      "outputs": []
    },
    {
      "cell_type": "code",
      "source": [
        "lumber['Close'].plot(figsize= (8,8))"
      ],
      "metadata": {
        "colab": {
          "base_uri": "https://localhost:8080/",
          "height": 490
        },
        "id": "FbSbXE9FKcYo",
        "outputId": "f6e34aba-0766-438e-ac1a-d7fc51b6685a"
      },
      "execution_count": 71,
      "outputs": [
        {
          "output_type": "execute_result",
          "data": {
            "text/plain": [
              "<matplotlib.axes._subplots.AxesSubplot at 0x7f604f114a10>"
            ]
          },
          "metadata": {},
          "execution_count": 71
        },
        {
          "output_type": "display_data",
          "data": {
            "text/plain": [
              "<Figure size 576x576 with 1 Axes>"
            ],
            "image/png": "[encoded data removed]"
          },
          "metadata": {
            "needs_background": "light"
          }
        }
      ]
    },
    {
      "cell_type": "markdown",
      "source": [
        "# 5. Criptomoedas"
      ],
      "metadata": {
        "id": "g3eJNLyEWPZg"
      }
    },
    {
      "cell_type": "code",
      "source": [
        "dogecoin = investpy.get_crypto_historical_data(crypto = 'dogecoin', from_date= '01/01/2020', to_date='12/07/2022')"
      ],
      "metadata": {
        "id": "vh5FIqF1VswR"
      },
      "execution_count": 109,
      "outputs": []
    },
    {
      "cell_type": "code",
      "source": [
        "dogecoin.head()"
      ],
      "metadata": {
        "id": "jPGBXhMPVr44",
        "outputId": "ca626d0b-84ec-479b-849d-4907bdd9b21b",
        "colab": {
          "base_uri": "https://localhost:8080/",
          "height": 237
        }
      },
      "execution_count": 110,
      "outputs": [
        {
          "output_type": "execute_result",
          "data": {
            "text/plain": [
              "                Open      High       Low     Close      Volume Currency\n",
              "Date                                                                   \n",
              "2020-01-01  0.002015  0.002056  0.002004  0.002040  1438402432      USD\n",
              "2020-01-02  0.002040  0.002051  0.001991  0.001999  1863567232      USD\n",
              "2020-01-03  0.001999  0.002265  0.001989  0.002042  1693032448      USD\n",
              "2020-01-04  0.002042  0.002318  0.002041  0.002307  1545883008      USD\n",
              "2020-01-05  0.002307  0.002336  0.002076  0.002080  1568643072      USD"
            ],
            "text/html": [
              "\n",
              "  <div id=\"df-23c5f5c5-554d-4a73-ae75-ce9fac2a1099\">\n",
              "    <div class=\"colab-df-container\">\n",
              "      <div>\n",
              "<style scoped>\n",
              "    .dataframe tbody tr th:only-of-type {\n",
              "        vertical-align: middle;\n",
              "    }\n",
              "\n",
              "    .dataframe tbody tr th {\n",
              "        vertical-align: top;\n",
              "    }\n",
              "\n",
              "    .dataframe thead th {\n",
              "        text-align: right;\n",
              "    }\n",
              "</style>\n",
              "<table border=\"1\" class=\"dataframe\">\n",
              "  <thead>\n",
              "    <tr style=\"text-align: right;\">\n",
              "      <th></th>\n",
              "      <th>Open</th>\n",
              "      <th>High</th>\n",
              "      <th>Low</th>\n",
              "      <th>Close</th>\n",
              "      <th>Volume</th>\n",
              "      <th>Currency</th>\n",
              "    </tr>\n",
              "    <tr>\n",
              "      <th>Date</th>\n",
              "      <th></th>\n",
              "      <th></th>\n",
              "      <th></th>\n",
              "      <th></th>\n",
              "      <th></th>\n",
              "      <th></th>\n",
              "    </tr>\n",
              "  </thead>\n",
              "  <tbody>\n",
              "    <tr>\n",
              "      <th>2020-01-01</th>\n",
              "      <td>0.002015</td>\n",
              "      <td>0.002056</td>\n",
              "      <td>0.002004</td>\n",
              "      <td>0.002040</td>\n",
              "      <td>1438402432</td>\n",
              "      <td>USD</td>\n",
              "    </tr>\n",
              "    <tr>\n",
              "      <th>2020-01-02</th>\n",
              "      <td>0.002040</td>\n",
              "      <td>0.002051</td>\n",
              "      <td>0.001991</td>\n",
              "      <td>0.001999</td>\n",
              "      <td>1863567232</td>\n",
              "      <td>USD</td>\n",
              "    </tr>\n",
              "    <tr>\n",
              "      <th>2020-01-03</th>\n",
              "      <td>0.001999</td>\n",
              "      <td>0.002265</td>\n",
              "      <td>0.001989</td>\n",
              "      <td>0.002042</td>\n",
              "      <td>1693032448</td>\n",
              "      <td>USD</td>\n",
              "    </tr>\n",
              "    <tr>\n",
              "      <th>2020-01-04</th>\n",
              "      <td>0.002042</td>\n",
              "      <td>0.002318</td>\n",
              "      <td>0.002041</td>\n",
              "      <td>0.002307</td>\n",
              "      <td>1545883008</td>\n",
              "      <td>USD</td>\n",
              "    </tr>\n",
              "    <tr>\n",
              "      <th>2020-01-05</th>\n",
              "      <td>0.002307</td>\n",
              "      <td>0.002336</td>\n",
              "      <td>0.002076</td>\n",
              "      <td>0.002080</td>\n",
              "      <td>1568643072</td>\n",
              "      <td>USD</td>\n",
              "    </tr>\n",
              "  </tbody>\n",
              "</table>\n",
              "</div>\n",
              "      <button class=\"colab-df-convert\" onclick=\"convertToInteractive('df-23c5f5c5-554d-4a73-ae75-ce9fac2a1099')\"\n",
              "              title=\"Convert this dataframe to an interactive table.\"\n",
              "              style=\"display:none;\">\n",
              "        \n",
              "  <svg xmlns=\"http://www.w3.org/2000/svg\" height=\"24px\"viewBox=\"0 0 24 24\"\n",
              "       width=\"24px\">\n",
              "    <path d=\"M0 0h24v24H0V0z\" fill=\"none\"/>\n",
              "    <path d=\"M18.56 5.44l.94 2.06.94-2.06 2.06-.94-2.06-.94-.94-2.06-.94 2.06-2.06.94zm-11 1L8.5 8.5l.94-2.06 2.06-.94-2.06-.94L8.5 2.5l-.94 2.06-2.06.94zm10 10l.94 2.06.94-2.06 2.06-.94-2.06-.94-.94-2.06-.94 2.06-2.06.94z\"/><path d=\"M17.41 7.96l-1.37-1.37c-.4-.4-.92-.59-1.43-.59-.52 0-1.04.2-1.43.59L10.3 9.45l-7.72 7.72c-.78.78-.78 2.05 0 2.83L4 21.41c.39.39.9.59 1.41.59.51 0 1.02-.2 1.41-.59l7.78-7.78 2.81-2.81c.8-.78.8-2.07 0-2.86zM5.41 20L4 18.59l7.72-7.72 1.47 1.35L5.41 20z\"/>\n",
              "  </svg>\n",
              "      </button>\n",
              "      \n",
              "  <style>\n",
              "    .colab-df-container {\n",
              "      display:flex;\n",
              "      flex-wrap:wrap;\n",
              "      gap: 12px;\n",
              "    }\n",
              "\n",
              "    .colab-df-convert {\n",
              "      background-color: #E8F0FE;\n",
              "      border: none;\n",
              "      border-radius: 50%;\n",
              "      cursor: pointer;\n",
              "      display: none;\n",
              "      fill: #1967D2;\n",
              "      height: 32px;\n",
              "      padding: 0 0 0 0;\n",
              "      width: 32px;\n",
              "    }\n",
              "\n",
              "    .colab-df-convert:hover {\n",
              "      background-color: #E2EBFA;\n",
              "      box-shadow: 0px 1px 2px rgba(60, 64, 67, 0.3), 0px 1px 3px 1px rgba(60, 64, 67, 0.15);\n",
              "      fill: #174EA6;\n",
              "    }\n",
              "\n",
              "    [theme=dark] .colab-df-convert {\n",
              "      background-color: #3B4455;\n",
              "      fill: #D2E3FC;\n",
              "    }\n",
              "\n",
              "    [theme=dark] .colab-df-convert:hover {\n",
              "      background-color: #434B5C;\n",
              "      box-shadow: 0px 1px 3px 1px rgba(0, 0, 0, 0.15);\n",
              "      filter: drop-shadow(0px 1px 2px rgba(0, 0, 0, 0.3));\n",
              "      fill: #FFFFFF;\n",
              "    }\n",
              "  </style>\n",
              "\n",
              "      <script>\n",
              "        const buttonEl =\n",
              "          document.querySelector('#df-23c5f5c5-554d-4a73-ae75-ce9fac2a1099 button.colab-df-convert');\n",
              "        buttonEl.style.display =\n",
              "          google.colab.kernel.accessAllowed ? 'block' : 'none';\n",
              "\n",
              "        async function convertToInteractive(key) {\n",
              "          const element = document.querySelector('#df-23c5f5c5-554d-4a73-ae75-ce9fac2a1099');\n",
              "          const dataTable =\n",
              "            await google.colab.kernel.invokeFunction('convertToInteractive',\n",
              "                                                     [key], {});\n",
              "          if (!dataTable) return;\n",
              "\n",
              "          const docLinkHtml = 'Like what you see? Visit the ' +\n",
              "            '<a target=\"_blank\" href=https://colab.research.google.com/notebooks/data_table.ipynb>data table notebook</a>'\n",
              "            + ' to learn more about interactive tables.';\n",
              "          element.innerHTML = '';\n",
              "          dataTable['output_type'] = 'display_data';\n",
              "          await google.colab.output.renderOutput(dataTable, element);\n",
              "          const docLink = document.createElement('div');\n",
              "          docLink.innerHTML = docLinkHtml;\n",
              "          element.appendChild(docLink);\n",
              "        }\n",
              "      </script>\n",
              "    </div>\n",
              "  </div>\n",
              "  "
            ]
          },
          "metadata": {},
          "execution_count": 110
        }
      ]
    },
    {
      "cell_type": "code",
      "source": [
        "dogecoin['Close'].plot()"
      ],
      "metadata": {
        "id": "m2u7ZPu9Wa1_",
        "outputId": "3ec97dc4-8ee3-4737-f7fb-399e638aeab0",
        "colab": {
          "base_uri": "https://localhost:8080/",
          "height": 308
        }
      },
      "execution_count": 111,
      "outputs": [
        {
          "output_type": "execute_result",
          "data": {
            "text/plain": [
              "<matplotlib.axes._subplots.AxesSubplot at 0x7f604f615950>"
            ]
          },
          "metadata": {},
          "execution_count": 111
        },
        {
          "output_type": "display_data",
          "data": {
            "text/plain": [
              "<Figure size 432x288 with 1 Axes>"
            ],
            "image/png": "[encoded data removed]"
          },
          "metadata": {
            "needs_background": "light"
          }
        }
      ]
    },
    {
      "cell_type": "markdown",
      "source": [
        "# 6. Tesouro Direto"
      ],
      "metadata": {
        "id": "9J1Oc5IdWf_Y"
      }
    },
    {
      "cell_type": "code",
      "source": [
        "search_results = investpy.search_quotes(text = 'tesouro', products= ['bonds'], countries= ['brazil'], n_results = 50)\n",
        "\n",
        "for search_result in search_results[6:7]:\n",
        "  print(search_result)"
      ],
      "metadata": {
        "id": "U9SMwVt9WfHo"
      },
      "execution_count": null,
      "outputs": []
    },
    {
      "cell_type": "code",
      "source": [
        "ipca_2045 = search_result.retrieve_historical_data(from_date = '01/01/2019', to_date = '01/07/2022')"
      ],
      "metadata": {
        "id": "-WEQZR4EWkSo"
      },
      "execution_count": 112,
      "outputs": []
    },
    {
      "cell_type": "code",
      "source": [
        "ipca_2045"
      ],
      "metadata": {
        "id": "uTTF61xHWqEI",
        "outputId": "7cea772b-0118-477f-b2e8-1c485321f878",
        "colab": {
          "base_uri": "https://localhost:8080/",
          "height": 455
        }
      },
      "execution_count": 113,
      "outputs": [
        {
          "output_type": "execute_result",
          "data": {
            "text/plain": [
              "             Open   High    Low  Close  Volume  Change Pct\n",
              "Date                                                      \n",
              "2019-01-02  331.5  331.9  328.0  329.0     210       -1.05\n",
              "2019-01-03  330.7  335.0  322.4  326.3     216       -0.82\n",
              "2019-01-04  325.6  326.0  323.1  323.6      52       -0.83\n",
              "2019-01-07  326.2  326.2  323.0  324.8     101        0.37\n",
              "2019-01-08  324.2  331.7  321.3  326.5     205        0.52\n",
              "...           ...    ...    ...    ...     ...         ...\n",
              "2022-06-27  603.1  617.5  603.1  611.0      94        0.39\n",
              "2022-06-28  602.8  630.5  602.5  617.6     164        1.08\n",
              "2022-06-29  628.0  642.5  624.2  633.6     168        2.59\n",
              "2022-06-30  635.0  670.0  629.1  663.3     212        4.69\n",
              "2022-07-01  660.0  682.6  650.0  657.0     108       -0.95\n",
              "\n",
              "[895 rows x 6 columns]"
            ],
            "text/html": [
              "\n",
              "  <div id=\"df-d3f14f21-e16f-42e2-806b-d1839d656754\">\n",
              "    <div class=\"colab-df-container\">\n",
              "      <div>\n",
              "<style scoped>\n",
              "    .dataframe tbody tr th:only-of-type {\n",
              "        vertical-align: middle;\n",
              "    }\n",
              "\n",
              "    .dataframe tbody tr th {\n",
              "        vertical-align: top;\n",
              "    }\n",
              "\n",
              "    .dataframe thead th {\n",
              "        text-align: right;\n",
              "    }\n",
              "</style>\n",
              "<table border=\"1\" class=\"dataframe\">\n",
              "  <thead>\n",
              "    <tr style=\"text-align: right;\">\n",
              "      <th></th>\n",
              "      <th>Open</th>\n",
              "      <th>High</th>\n",
              "      <th>Low</th>\n",
              "      <th>Close</th>\n",
              "      <th>Volume</th>\n",
              "      <th>Change Pct</th>\n",
              "    </tr>\n",
              "    <tr>\n",
              "      <th>Date</th>\n",
              "      <th></th>\n",
              "      <th></th>\n",
              "      <th></th>\n",
              "      <th></th>\n",
              "      <th></th>\n",
              "      <th></th>\n",
              "    </tr>\n",
              "  </thead>\n",
              "  <tbody>\n",
              "    <tr>\n",
              "      <th>2019-01-02</th>\n",
              "      <td>331.5</td>\n",
              "      <td>331.9</td>\n",
              "      <td>328.0</td>\n",
              "      <td>329.0</td>\n",
              "      <td>210</td>\n",
              "      <td>-1.05</td>\n",
              "    </tr>\n",
              "    <tr>\n",
              "      <th>2019-01-03</th>\n",
              "      <td>330.7</td>\n",
              "      <td>335.0</td>\n",
              "      <td>322.4</td>\n",
              "      <td>326.3</td>\n",
              "      <td>216</td>\n",
              "      <td>-0.82</td>\n",
              "    </tr>\n",
              "    <tr>\n",
              "      <th>2019-01-04</th>\n",
              "      <td>325.6</td>\n",
              "      <td>326.0</td>\n",
              "      <td>323.1</td>\n",
              "      <td>323.6</td>\n",
              "      <td>52</td>\n",
              "      <td>-0.83</td>\n",
              "    </tr>\n",
              "    <tr>\n",
              "      <th>2019-01-07</th>\n",
              "      <td>326.2</td>\n",
              "      <td>326.2</td>\n",
              "      <td>323.0</td>\n",
              "      <td>324.8</td>\n",
              "      <td>101</td>\n",
              "      <td>0.37</td>\n",
              "    </tr>\n",
              "    <tr>\n",
              "      <th>2019-01-08</th>\n",
              "      <td>324.2</td>\n",
              "      <td>331.7</td>\n",
              "      <td>321.3</td>\n",
              "      <td>326.5</td>\n",
              "      <td>205</td>\n",
              "      <td>0.52</td>\n",
              "    </tr>\n",
              "    <tr>\n",
              "      <th>...</th>\n",
              "      <td>...</td>\n",
              "      <td>...</td>\n",
              "      <td>...</td>\n",
              "      <td>...</td>\n",
              "      <td>...</td>\n",
              "      <td>...</td>\n",
              "    </tr>\n",
              "    <tr>\n",
              "      <th>2022-06-27</th>\n",
              "      <td>603.1</td>\n",
              "      <td>617.5</td>\n",
              "      <td>603.1</td>\n",
              "      <td>611.0</td>\n",
              "      <td>94</td>\n",
              "      <td>0.39</td>\n",
              "    </tr>\n",
              "    <tr>\n",
              "      <th>2022-06-28</th>\n",
              "      <td>602.8</td>\n",
              "      <td>630.5</td>\n",
              "      <td>602.5</td>\n",
              "      <td>617.6</td>\n",
              "      <td>164</td>\n",
              "      <td>1.08</td>\n",
              "    </tr>\n",
              "    <tr>\n",
              "      <th>2022-06-29</th>\n",
              "      <td>628.0</td>\n",
              "      <td>642.5</td>\n",
              "      <td>624.2</td>\n",
              "      <td>633.6</td>\n",
              "      <td>168</td>\n",
              "      <td>2.59</td>\n",
              "    </tr>\n",
              "    <tr>\n",
              "      <th>2022-06-30</th>\n",
              "      <td>635.0</td>\n",
              "      <td>670.0</td>\n",
              "      <td>629.1</td>\n",
              "      <td>663.3</td>\n",
              "      <td>212</td>\n",
              "      <td>4.69</td>\n",
              "    </tr>\n",
              "    <tr>\n",
              "      <th>2022-07-01</th>\n",
              "      <td>660.0</td>\n",
              "      <td>682.6</td>\n",
              "      <td>650.0</td>\n",
              "      <td>657.0</td>\n",
              "      <td>108</td>\n",
              "      <td>-0.95</td>\n",
              "    </tr>\n",
              "  </tbody>\n",
              "</table>\n",
              "<p>895 rows × 6 columns</p>\n",
              "</div>\n",
              "      <button class=\"colab-df-convert\" onclick=\"convertToInteractive('df-d3f14f21-e16f-42e2-806b-d1839d656754')\"\n",
              "              title=\"Convert this dataframe to an interactive table.\"\n",
              "              style=\"display:none;\">\n",
              "        \n",
              "  <svg xmlns=\"http://www.w3.org/2000/svg\" height=\"24px\"viewBox=\"0 0 24 24\"\n",
              "       width=\"24px\">\n",
              "    <path d=\"M0 0h24v24H0V0z\" fill=\"none\"/>\n",
              "    <path d=\"M18.56 5.44l.94 2.06.94-2.06 2.06-.94-2.06-.94-.94-2.06-.94 2.06-2.06.94zm-11 1L8.5 8.5l.94-2.06 2.06-.94-2.06-.94L8.5 2.5l-.94 2.06-2.06.94zm10 10l.94 2.06.94-2.06 2.06-.94-2.06-.94-.94-2.06-.94 2.06-2.06.94z\"/><path d=\"M17.41 7.96l-1.37-1.37c-.4-.4-.92-.59-1.43-.59-.52 0-1.04.2-1.43.59L10.3 9.45l-7.72 7.72c-.78.78-.78 2.05 0 2.83L4 21.41c.39.39.9.59 1.41.59.51 0 1.02-.2 1.41-.59l7.78-7.78 2.81-2.81c.8-.78.8-2.07 0-2.86zM5.41 20L4 18.59l7.72-7.72 1.47 1.35L5.41 20z\"/>\n",
              "  </svg>\n",
              "      </button>\n",
              "      \n",
              "  <style>\n",
              "    .colab-df-container {\n",
              "      display:flex;\n",
              "      flex-wrap:wrap;\n",
              "      gap: 12px;\n",
              "    }\n",
              "\n",
              "    .colab-df-convert {\n",
              "      background-color: #E8F0FE;\n",
              "      border: none;\n",
              "      border-radius: 50%;\n",
              "      cursor: pointer;\n",
              "      display: none;\n",
              "      fill: #1967D2;\n",
              "      height: 32px;\n",
              "      padding: 0 0 0 0;\n",
              "      width: 32px;\n",
              "    }\n",
              "\n",
              "    .colab-df-convert:hover {\n",
              "      background-color: #E2EBFA;\n",
              "      box-shadow: 0px 1px 2px rgba(60, 64, 67, 0.3), 0px 1px 3px 1px rgba(60, 64, 67, 0.15);\n",
              "      fill: #174EA6;\n",
              "    }\n",
              "\n",
              "    [theme=dark] .colab-df-convert {\n",
              "      background-color: #3B4455;\n",
              "      fill: #D2E3FC;\n",
              "    }\n",
              "\n",
              "    [theme=dark] .colab-df-convert:hover {\n",
              "      background-color: #434B5C;\n",
              "      box-shadow: 0px 1px 3px 1px rgba(0, 0, 0, 0.15);\n",
              "      filter: drop-shadow(0px 1px 2px rgba(0, 0, 0, 0.3));\n",
              "      fill: #FFFFFF;\n",
              "    }\n",
              "  </style>\n",
              "\n",
              "      <script>\n",
              "        const buttonEl =\n",
              "          document.querySelector('#df-d3f14f21-e16f-42e2-806b-d1839d656754 button.colab-df-convert');\n",
              "        buttonEl.style.display =\n",
              "          google.colab.kernel.accessAllowed ? 'block' : 'none';\n",
              "\n",
              "        async function convertToInteractive(key) {\n",
              "          const element = document.querySelector('#df-d3f14f21-e16f-42e2-806b-d1839d656754');\n",
              "          const dataTable =\n",
              "            await google.colab.kernel.invokeFunction('convertToInteractive',\n",
              "                                                     [key], {});\n",
              "          if (!dataTable) return;\n",
              "\n",
              "          const docLinkHtml = 'Like what you see? Visit the ' +\n",
              "            '<a target=\"_blank\" href=https://colab.research.google.com/notebooks/data_table.ipynb>data table notebook</a>'\n",
              "            + ' to learn more about interactive tables.';\n",
              "          element.innerHTML = '';\n",
              "          dataTable['output_type'] = 'display_data';\n",
              "          await google.colab.output.renderOutput(dataTable, element);\n",
              "          const docLink = document.createElement('div');\n",
              "          docLink.innerHTML = docLinkHtml;\n",
              "          element.appendChild(docLink);\n",
              "        }\n",
              "      </script>\n",
              "    </div>\n",
              "  </div>\n",
              "  "
            ]
          },
          "metadata": {},
          "execution_count": 113
        }
      ]
    },
    {
      "cell_type": "code",
      "source": [
        "ipca_2045.plot()"
      ],
      "metadata": {
        "id": "RtflVUPtW0E4",
        "outputId": "51a4344a-5bc6-440e-d342-2fd20910a539",
        "colab": {
          "base_uri": "https://localhost:8080/",
          "height": 294
        }
      },
      "execution_count": 114,
      "outputs": [
        {
          "output_type": "execute_result",
          "data": {
            "text/plain": [
              "<matplotlib.axes._subplots.AxesSubplot at 0x7f604f014750>"
            ]
          },
          "metadata": {},
          "execution_count": 114
        },
        {
          "output_type": "display_data",
          "data": {
            "text/plain": [
              "<Figure size 432x288 with 1 Axes>"
            ],
            "image/png": "[encoded data removed]"
          },
          "metadata": {
            "needs_background": "light"
          }
        }
      ]
    }
  ]
}